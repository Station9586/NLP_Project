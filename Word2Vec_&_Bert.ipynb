{
  "cells": [
    {
      "cell_type": "markdown",
      "metadata": {
        "id": "qGiZXlbqetNv"
      },
      "source": [
        "#### Import package"
      ]
    },
    {
      "cell_type": "code",
      "execution_count": 1,
      "metadata": {
        "id": "erzIKbduetNw"
      },
      "outputs": [],
      "source": [
        "import numpy as np\n",
        "import pandas as pd\n",
        "from google.colab import drive\n",
        "\n",
        "import warnings\n",
        "warnings.filterwarnings(\"ignore\")"
      ]
    },
    {
      "cell_type": "code",
      "execution_count": 2,
      "metadata": {
        "colab": {
          "base_uri": "https://localhost:8080/"
        },
        "id": "2bEkiU-ofMyT",
        "outputId": "a1067207-d9b4-4ff3-e328-41da52c37143"
      },
      "outputs": [
        {
          "name": "stdout",
          "output_type": "stream",
          "text": [
            "Mounted at /content/drive\n"
          ]
        }
      ],
      "source": [
        "drive.mount(\"/content/drive\", force_remount=True);"
      ]
    },
    {
      "cell_type": "markdown",
      "metadata": {
        "id": "dacfu_CmetNw"
      },
      "source": [
        "#### Load Data"
      ]
    },
    {
      "cell_type": "code",
      "execution_count": 3,
      "metadata": {
        "colab": {
          "base_uri": "https://localhost:8080/",
          "height": 204
        },
        "id": "orWDspKJetNw",
        "outputId": "8f4235e6-ff23-4b53-eea6-f27ba2072a47"
      },
      "outputs": [
        {
          "data": {
            "application/vnd.google.colaboratory.intrinsic+json": {
              "type": "dataframe",
              "variable_name": "df"
            },
            "text/html": [
              "\n",
              "  <div id=\"df-c4a542ee-1e96-42a3-ad08-f3c21f13400b\" class=\"colab-df-container\">\n",
              "    <div>\n",
              "<style scoped>\n",
              "    .dataframe tbody tr th:only-of-type {\n",
              "        vertical-align: middle;\n",
              "    }\n",
              "\n",
              "    .dataframe tbody tr th {\n",
              "        vertical-align: top;\n",
              "    }\n",
              "\n",
              "    .dataframe thead th {\n",
              "        text-align: right;\n",
              "    }\n",
              "</style>\n",
              "<table border=\"1\" class=\"dataframe\">\n",
              "  <thead>\n",
              "    <tr style=\"text-align: right;\">\n",
              "      <th></th>\n",
              "      <th>target</th>\n",
              "      <th>ids</th>\n",
              "      <th>date</th>\n",
              "      <th>flag</th>\n",
              "      <th>user</th>\n",
              "      <th>text</th>\n",
              "    </tr>\n",
              "  </thead>\n",
              "  <tbody>\n",
              "    <tr>\n",
              "      <th>0</th>\n",
              "      <td>0</td>\n",
              "      <td>1467810369</td>\n",
              "      <td>Mon Apr 06 22:19:45 PDT 2009</td>\n",
              "      <td>NO_QUERY</td>\n",
              "      <td>_TheSpecialOne_</td>\n",
              "      <td>@switchfoot http://twitpic.com/2y1zl - Awww, t...</td>\n",
              "    </tr>\n",
              "    <tr>\n",
              "      <th>1</th>\n",
              "      <td>0</td>\n",
              "      <td>1467810672</td>\n",
              "      <td>Mon Apr 06 22:19:49 PDT 2009</td>\n",
              "      <td>NO_QUERY</td>\n",
              "      <td>scotthamilton</td>\n",
              "      <td>is upset that he can't update his Facebook by ...</td>\n",
              "    </tr>\n",
              "    <tr>\n",
              "      <th>2</th>\n",
              "      <td>0</td>\n",
              "      <td>1467810917</td>\n",
              "      <td>Mon Apr 06 22:19:53 PDT 2009</td>\n",
              "      <td>NO_QUERY</td>\n",
              "      <td>mattycus</td>\n",
              "      <td>@Kenichan I dived many times for the ball. Man...</td>\n",
              "    </tr>\n",
              "    <tr>\n",
              "      <th>3</th>\n",
              "      <td>0</td>\n",
              "      <td>1467811184</td>\n",
              "      <td>Mon Apr 06 22:19:57 PDT 2009</td>\n",
              "      <td>NO_QUERY</td>\n",
              "      <td>ElleCTF</td>\n",
              "      <td>my whole body feels itchy and like its on fire</td>\n",
              "    </tr>\n",
              "    <tr>\n",
              "      <th>4</th>\n",
              "      <td>0</td>\n",
              "      <td>1467811193</td>\n",
              "      <td>Mon Apr 06 22:19:57 PDT 2009</td>\n",
              "      <td>NO_QUERY</td>\n",
              "      <td>Karoli</td>\n",
              "      <td>@nationwideclass no, it's not behaving at all....</td>\n",
              "    </tr>\n",
              "  </tbody>\n",
              "</table>\n",
              "</div>\n",
              "    <div class=\"colab-df-buttons\">\n",
              "\n",
              "  <div class=\"colab-df-container\">\n",
              "    <button class=\"colab-df-convert\" onclick=\"convertToInteractive('df-c4a542ee-1e96-42a3-ad08-f3c21f13400b')\"\n",
              "            title=\"Convert this dataframe to an interactive table.\"\n",
              "            style=\"display:none;\">\n",
              "\n",
              "  <svg xmlns=\"http://www.w3.org/2000/svg\" height=\"24px\" viewBox=\"0 -960 960 960\">\n",
              "    <path d=\"M120-120v-720h720v720H120Zm60-500h600v-160H180v160Zm220 220h160v-160H400v160Zm0 220h160v-160H400v160ZM180-400h160v-160H180v160Zm440 0h160v-160H620v160ZM180-180h160v-160H180v160Zm440 0h160v-160H620v160Z\"/>\n",
              "  </svg>\n",
              "    </button>\n",
              "\n",
              "  <style>\n",
              "    .colab-df-container {\n",
              "      display:flex;\n",
              "      gap: 12px;\n",
              "    }\n",
              "\n",
              "    .colab-df-convert {\n",
              "      background-color: #E8F0FE;\n",
              "      border: none;\n",
              "      border-radius: 50%;\n",
              "      cursor: pointer;\n",
              "      display: none;\n",
              "      fill: #1967D2;\n",
              "      height: 32px;\n",
              "      padding: 0 0 0 0;\n",
              "      width: 32px;\n",
              "    }\n",
              "\n",
              "    .colab-df-convert:hover {\n",
              "      background-color: #E2EBFA;\n",
              "      box-shadow: 0px 1px 2px rgba(60, 64, 67, 0.3), 0px 1px 3px 1px rgba(60, 64, 67, 0.15);\n",
              "      fill: #174EA6;\n",
              "    }\n",
              "\n",
              "    .colab-df-buttons div {\n",
              "      margin-bottom: 4px;\n",
              "    }\n",
              "\n",
              "    [theme=dark] .colab-df-convert {\n",
              "      background-color: #3B4455;\n",
              "      fill: #D2E3FC;\n",
              "    }\n",
              "\n",
              "    [theme=dark] .colab-df-convert:hover {\n",
              "      background-color: #434B5C;\n",
              "      box-shadow: 0px 1px 3px 1px rgba(0, 0, 0, 0.15);\n",
              "      filter: drop-shadow(0px 1px 2px rgba(0, 0, 0, 0.3));\n",
              "      fill: #FFFFFF;\n",
              "    }\n",
              "  </style>\n",
              "\n",
              "    <script>\n",
              "      const buttonEl =\n",
              "        document.querySelector('#df-c4a542ee-1e96-42a3-ad08-f3c21f13400b button.colab-df-convert');\n",
              "      buttonEl.style.display =\n",
              "        google.colab.kernel.accessAllowed ? 'block' : 'none';\n",
              "\n",
              "      async function convertToInteractive(key) {\n",
              "        const element = document.querySelector('#df-c4a542ee-1e96-42a3-ad08-f3c21f13400b');\n",
              "        const dataTable =\n",
              "          await google.colab.kernel.invokeFunction('convertToInteractive',\n",
              "                                                    [key], {});\n",
              "        if (!dataTable) return;\n",
              "\n",
              "        const docLinkHtml = 'Like what you see? Visit the ' +\n",
              "          '<a target=\"_blank\" href=https://colab.research.google.com/notebooks/data_table.ipynb>data table notebook</a>'\n",
              "          + ' to learn more about interactive tables.';\n",
              "        element.innerHTML = '';\n",
              "        dataTable['output_type'] = 'display_data';\n",
              "        await google.colab.output.renderOutput(dataTable, element);\n",
              "        const docLink = document.createElement('div');\n",
              "        docLink.innerHTML = docLinkHtml;\n",
              "        element.appendChild(docLink);\n",
              "      }\n",
              "    </script>\n",
              "  </div>\n",
              "\n",
              "\n",
              "<div id=\"df-ca668c21-2135-447d-a483-895d30195003\">\n",
              "  <button class=\"colab-df-quickchart\" onclick=\"quickchart('df-ca668c21-2135-447d-a483-895d30195003')\"\n",
              "            title=\"Suggest charts\"\n",
              "            style=\"display:none;\">\n",
              "\n",
              "<svg xmlns=\"http://www.w3.org/2000/svg\" height=\"24px\"viewBox=\"0 0 24 24\"\n",
              "     width=\"24px\">\n",
              "    <g>\n",
              "        <path d=\"M19 3H5c-1.1 0-2 .9-2 2v14c0 1.1.9 2 2 2h14c1.1 0 2-.9 2-2V5c0-1.1-.9-2-2-2zM9 17H7v-7h2v7zm4 0h-2V7h2v10zm4 0h-2v-4h2v4z\"/>\n",
              "    </g>\n",
              "</svg>\n",
              "  </button>\n",
              "\n",
              "<style>\n",
              "  .colab-df-quickchart {\n",
              "      --bg-color: #E8F0FE;\n",
              "      --fill-color: #1967D2;\n",
              "      --hover-bg-color: #E2EBFA;\n",
              "      --hover-fill-color: #174EA6;\n",
              "      --disabled-fill-color: #AAA;\n",
              "      --disabled-bg-color: #DDD;\n",
              "  }\n",
              "\n",
              "  [theme=dark] .colab-df-quickchart {\n",
              "      --bg-color: #3B4455;\n",
              "      --fill-color: #D2E3FC;\n",
              "      --hover-bg-color: #434B5C;\n",
              "      --hover-fill-color: #FFFFFF;\n",
              "      --disabled-bg-color: #3B4455;\n",
              "      --disabled-fill-color: #666;\n",
              "  }\n",
              "\n",
              "  .colab-df-quickchart {\n",
              "    background-color: var(--bg-color);\n",
              "    border: none;\n",
              "    border-radius: 50%;\n",
              "    cursor: pointer;\n",
              "    display: none;\n",
              "    fill: var(--fill-color);\n",
              "    height: 32px;\n",
              "    padding: 0;\n",
              "    width: 32px;\n",
              "  }\n",
              "\n",
              "  .colab-df-quickchart:hover {\n",
              "    background-color: var(--hover-bg-color);\n",
              "    box-shadow: 0 1px 2px rgba(60, 64, 67, 0.3), 0 1px 3px 1px rgba(60, 64, 67, 0.15);\n",
              "    fill: var(--button-hover-fill-color);\n",
              "  }\n",
              "\n",
              "  .colab-df-quickchart-complete:disabled,\n",
              "  .colab-df-quickchart-complete:disabled:hover {\n",
              "    background-color: var(--disabled-bg-color);\n",
              "    fill: var(--disabled-fill-color);\n",
              "    box-shadow: none;\n",
              "  }\n",
              "\n",
              "  .colab-df-spinner {\n",
              "    border: 2px solid var(--fill-color);\n",
              "    border-color: transparent;\n",
              "    border-bottom-color: var(--fill-color);\n",
              "    animation:\n",
              "      spin 1s steps(1) infinite;\n",
              "  }\n",
              "\n",
              "  @keyframes spin {\n",
              "    0% {\n",
              "      border-color: transparent;\n",
              "      border-bottom-color: var(--fill-color);\n",
              "      border-left-color: var(--fill-color);\n",
              "    }\n",
              "    20% {\n",
              "      border-color: transparent;\n",
              "      border-left-color: var(--fill-color);\n",
              "      border-top-color: var(--fill-color);\n",
              "    }\n",
              "    30% {\n",
              "      border-color: transparent;\n",
              "      border-left-color: var(--fill-color);\n",
              "      border-top-color: var(--fill-color);\n",
              "      border-right-color: var(--fill-color);\n",
              "    }\n",
              "    40% {\n",
              "      border-color: transparent;\n",
              "      border-right-color: var(--fill-color);\n",
              "      border-top-color: var(--fill-color);\n",
              "    }\n",
              "    60% {\n",
              "      border-color: transparent;\n",
              "      border-right-color: var(--fill-color);\n",
              "    }\n",
              "    80% {\n",
              "      border-color: transparent;\n",
              "      border-right-color: var(--fill-color);\n",
              "      border-bottom-color: var(--fill-color);\n",
              "    }\n",
              "    90% {\n",
              "      border-color: transparent;\n",
              "      border-bottom-color: var(--fill-color);\n",
              "    }\n",
              "  }\n",
              "</style>\n",
              "\n",
              "  <script>\n",
              "    async function quickchart(key) {\n",
              "      const quickchartButtonEl =\n",
              "        document.querySelector('#' + key + ' button');\n",
              "      quickchartButtonEl.disabled = true;  // To prevent multiple clicks.\n",
              "      quickchartButtonEl.classList.add('colab-df-spinner');\n",
              "      try {\n",
              "        const charts = await google.colab.kernel.invokeFunction(\n",
              "            'suggestCharts', [key], {});\n",
              "      } catch (error) {\n",
              "        console.error('Error during call to suggestCharts:', error);\n",
              "      }\n",
              "      quickchartButtonEl.classList.remove('colab-df-spinner');\n",
              "      quickchartButtonEl.classList.add('colab-df-quickchart-complete');\n",
              "    }\n",
              "    (() => {\n",
              "      let quickchartButtonEl =\n",
              "        document.querySelector('#df-ca668c21-2135-447d-a483-895d30195003 button');\n",
              "      quickchartButtonEl.style.display =\n",
              "        google.colab.kernel.accessAllowed ? 'block' : 'none';\n",
              "    })();\n",
              "  </script>\n",
              "</div>\n",
              "    </div>\n",
              "  </div>\n"
            ],
            "text/plain": [
              "   target         ids                          date      flag  \\\n",
              "0       0  1467810369  Mon Apr 06 22:19:45 PDT 2009  NO_QUERY   \n",
              "1       0  1467810672  Mon Apr 06 22:19:49 PDT 2009  NO_QUERY   \n",
              "2       0  1467810917  Mon Apr 06 22:19:53 PDT 2009  NO_QUERY   \n",
              "3       0  1467811184  Mon Apr 06 22:19:57 PDT 2009  NO_QUERY   \n",
              "4       0  1467811193  Mon Apr 06 22:19:57 PDT 2009  NO_QUERY   \n",
              "\n",
              "              user                                               text  \n",
              "0  _TheSpecialOne_  @switchfoot http://twitpic.com/2y1zl - Awww, t...  \n",
              "1    scotthamilton  is upset that he can't update his Facebook by ...  \n",
              "2         mattycus  @Kenichan I dived many times for the ball. Man...  \n",
              "3          ElleCTF    my whole body feels itchy and like its on fire   \n",
              "4           Karoli  @nationwideclass no, it's not behaving at all....  "
            ]
          },
          "execution_count": 3,
          "metadata": {},
          "output_type": "execute_result"
        }
      ],
      "source": [
        "Columns = ['target', 'ids', 'date', 'flag', 'user', 'text']\n",
        "Encoding = 'ISO-8859-1'\n",
        "\n",
        "df = pd.read_csv('drive/MyDrive/Data/training.1600000.processed.noemoticon.csv', encoding=Encoding, names=Columns)\n",
        "# df = pd.read_csv('training.1600000.processed.noemoticon.csv', encoding=Encoding, names=Columns)\n",
        "\n",
        "df.head()"
      ]
    },
    {
      "cell_type": "code",
      "execution_count": 4,
      "metadata": {
        "colab": {
          "base_uri": "https://localhost:8080/"
        },
        "id": "U98nxc5qetNx",
        "outputId": "0b51cb27-8d3c-4b8d-a8c5-52005e2cd160"
      },
      "outputs": [
        {
          "name": "stdout",
          "output_type": "stream",
          "text": [
            "1600000\n"
          ]
        }
      ],
      "source": [
        "print(len(df))"
      ]
    },
    {
      "cell_type": "code",
      "execution_count": 5,
      "metadata": {
        "colab": {
          "base_uri": "https://localhost:8080/"
        },
        "id": "AareR9hIetNx",
        "outputId": "24be528d-4eb0-419b-8113-13201ac0096f"
      },
      "outputs": [
        {
          "name": "stdout",
          "output_type": "stream",
          "text": [
            "<class 'pandas.core.frame.DataFrame'>\n",
            "RangeIndex: 1600000 entries, 0 to 1599999\n",
            "Data columns (total 6 columns):\n",
            " #   Column  Non-Null Count    Dtype \n",
            "---  ------  --------------    ----- \n",
            " 0   target  1600000 non-null  int64 \n",
            " 1   ids     1600000 non-null  int64 \n",
            " 2   date    1600000 non-null  object\n",
            " 3   flag    1600000 non-null  object\n",
            " 4   user    1600000 non-null  object\n",
            " 5   text    1600000 non-null  object\n",
            "dtypes: int64(2), object(4)\n",
            "memory usage: 73.2+ MB\n"
          ]
        }
      ],
      "source": [
        "df.info()"
      ]
    },
    {
      "cell_type": "code",
      "execution_count": 6,
      "metadata": {
        "colab": {
          "base_uri": "https://localhost:8080/"
        },
        "id": "OBjrnFXWetNx",
        "outputId": "e0bbb883-592d-4887-84d6-9d8b1eb65587"
      },
      "outputs": [
        {
          "data": {
            "text/plain": [
              "target\n",
              "0    800000\n",
              "4    800000\n",
              "Name: count, dtype: int64"
            ]
          },
          "execution_count": 6,
          "metadata": {},
          "output_type": "execute_result"
        }
      ],
      "source": [
        "df['target'].value_counts()"
      ]
    },
    {
      "cell_type": "markdown",
      "metadata": {
        "id": "Y83JCMvGetNx"
      },
      "source": [
        "#### Data Preprocessing"
      ]
    },
    {
      "cell_type": "code",
      "execution_count": 7,
      "metadata": {
        "id": "5EYHdcS3etNx"
      },
      "outputs": [],
      "source": [
        "import seaborn as sns\n",
        "import matplotlib.pyplot as plt"
      ]
    },
    {
      "cell_type": "code",
      "execution_count": 8,
      "metadata": {
        "colab": {
          "base_uri": "https://localhost:8080/",
          "height": 394
        },
        "id": "ipsB6NlvetNy",
        "outputId": "13e34e2b-29e2-4f49-9fdf-b83406e6d48a"
      },
      "outputs": [
        {
          "data": {
            "application/vnd.google.colaboratory.intrinsic+json": {
              "type": "dataframe",
              "variable_name": "data"
            },
            "text/html": [
              "\n",
              "  <div id=\"df-aa076adf-f05e-4b81-af7e-2649125f5649\" class=\"colab-df-container\">\n",
              "    <div>\n",
              "<style scoped>\n",
              "    .dataframe tbody tr th:only-of-type {\n",
              "        vertical-align: middle;\n",
              "    }\n",
              "\n",
              "    .dataframe tbody tr th {\n",
              "        vertical-align: top;\n",
              "    }\n",
              "\n",
              "    .dataframe thead th {\n",
              "        text-align: right;\n",
              "    }\n",
              "</style>\n",
              "<table border=\"1\" class=\"dataframe\">\n",
              "  <thead>\n",
              "    <tr style=\"text-align: right;\">\n",
              "      <th></th>\n",
              "      <th>target</th>\n",
              "      <th>text</th>\n",
              "    </tr>\n",
              "  </thead>\n",
              "  <tbody>\n",
              "    <tr>\n",
              "      <th>0</th>\n",
              "      <td>0</td>\n",
              "      <td>@switchfoot http://twitpic.com/2y1zl - Awww, t...</td>\n",
              "    </tr>\n",
              "    <tr>\n",
              "      <th>1</th>\n",
              "      <td>0</td>\n",
              "      <td>is upset that he can't update his Facebook by ...</td>\n",
              "    </tr>\n",
              "    <tr>\n",
              "      <th>2</th>\n",
              "      <td>0</td>\n",
              "      <td>@Kenichan I dived many times for the ball. Man...</td>\n",
              "    </tr>\n",
              "    <tr>\n",
              "      <th>3</th>\n",
              "      <td>0</td>\n",
              "      <td>my whole body feels itchy and like its on fire</td>\n",
              "    </tr>\n",
              "    <tr>\n",
              "      <th>4</th>\n",
              "      <td>0</td>\n",
              "      <td>@nationwideclass no, it's not behaving at all....</td>\n",
              "    </tr>\n",
              "  </tbody>\n",
              "</table>\n",
              "</div>\n",
              "    <div class=\"colab-df-buttons\">\n",
              "\n",
              "  <div class=\"colab-df-container\">\n",
              "    <button class=\"colab-df-convert\" onclick=\"convertToInteractive('df-aa076adf-f05e-4b81-af7e-2649125f5649')\"\n",
              "            title=\"Convert this dataframe to an interactive table.\"\n",
              "            style=\"display:none;\">\n",
              "\n",
              "  <svg xmlns=\"http://www.w3.org/2000/svg\" height=\"24px\" viewBox=\"0 -960 960 960\">\n",
              "    <path d=\"M120-120v-720h720v720H120Zm60-500h600v-160H180v160Zm220 220h160v-160H400v160Zm0 220h160v-160H400v160ZM180-400h160v-160H180v160Zm440 0h160v-160H620v160ZM180-180h160v-160H180v160Zm440 0h160v-160H620v160Z\"/>\n",
              "  </svg>\n",
              "    </button>\n",
              "\n",
              "  <style>\n",
              "    .colab-df-container {\n",
              "      display:flex;\n",
              "      gap: 12px;\n",
              "    }\n",
              "\n",
              "    .colab-df-convert {\n",
              "      background-color: #E8F0FE;\n",
              "      border: none;\n",
              "      border-radius: 50%;\n",
              "      cursor: pointer;\n",
              "      display: none;\n",
              "      fill: #1967D2;\n",
              "      height: 32px;\n",
              "      padding: 0 0 0 0;\n",
              "      width: 32px;\n",
              "    }\n",
              "\n",
              "    .colab-df-convert:hover {\n",
              "      background-color: #E2EBFA;\n",
              "      box-shadow: 0px 1px 2px rgba(60, 64, 67, 0.3), 0px 1px 3px 1px rgba(60, 64, 67, 0.15);\n",
              "      fill: #174EA6;\n",
              "    }\n",
              "\n",
              "    .colab-df-buttons div {\n",
              "      margin-bottom: 4px;\n",
              "    }\n",
              "\n",
              "    [theme=dark] .colab-df-convert {\n",
              "      background-color: #3B4455;\n",
              "      fill: #D2E3FC;\n",
              "    }\n",
              "\n",
              "    [theme=dark] .colab-df-convert:hover {\n",
              "      background-color: #434B5C;\n",
              "      box-shadow: 0px 1px 3px 1px rgba(0, 0, 0, 0.15);\n",
              "      filter: drop-shadow(0px 1px 2px rgba(0, 0, 0, 0.3));\n",
              "      fill: #FFFFFF;\n",
              "    }\n",
              "  </style>\n",
              "\n",
              "    <script>\n",
              "      const buttonEl =\n",
              "        document.querySelector('#df-aa076adf-f05e-4b81-af7e-2649125f5649 button.colab-df-convert');\n",
              "      buttonEl.style.display =\n",
              "        google.colab.kernel.accessAllowed ? 'block' : 'none';\n",
              "\n",
              "      async function convertToInteractive(key) {\n",
              "        const element = document.querySelector('#df-aa076adf-f05e-4b81-af7e-2649125f5649');\n",
              "        const dataTable =\n",
              "          await google.colab.kernel.invokeFunction('convertToInteractive',\n",
              "                                                    [key], {});\n",
              "        if (!dataTable) return;\n",
              "\n",
              "        const docLinkHtml = 'Like what you see? Visit the ' +\n",
              "          '<a target=\"_blank\" href=https://colab.research.google.com/notebooks/data_table.ipynb>data table notebook</a>'\n",
              "          + ' to learn more about interactive tables.';\n",
              "        element.innerHTML = '';\n",
              "        dataTable['output_type'] = 'display_data';\n",
              "        await google.colab.output.renderOutput(dataTable, element);\n",
              "        const docLink = document.createElement('div');\n",
              "        docLink.innerHTML = docLinkHtml;\n",
              "        element.appendChild(docLink);\n",
              "      }\n",
              "    </script>\n",
              "  </div>\n",
              "\n",
              "\n",
              "<div id=\"df-dc50f486-25ca-4088-819b-2a1e74855bc8\">\n",
              "  <button class=\"colab-df-quickchart\" onclick=\"quickchart('df-dc50f486-25ca-4088-819b-2a1e74855bc8')\"\n",
              "            title=\"Suggest charts\"\n",
              "            style=\"display:none;\">\n",
              "\n",
              "<svg xmlns=\"http://www.w3.org/2000/svg\" height=\"24px\"viewBox=\"0 0 24 24\"\n",
              "     width=\"24px\">\n",
              "    <g>\n",
              "        <path d=\"M19 3H5c-1.1 0-2 .9-2 2v14c0 1.1.9 2 2 2h14c1.1 0 2-.9 2-2V5c0-1.1-.9-2-2-2zM9 17H7v-7h2v7zm4 0h-2V7h2v10zm4 0h-2v-4h2v4z\"/>\n",
              "    </g>\n",
              "</svg>\n",
              "  </button>\n",
              "\n",
              "<style>\n",
              "  .colab-df-quickchart {\n",
              "      --bg-color: #E8F0FE;\n",
              "      --fill-color: #1967D2;\n",
              "      --hover-bg-color: #E2EBFA;\n",
              "      --hover-fill-color: #174EA6;\n",
              "      --disabled-fill-color: #AAA;\n",
              "      --disabled-bg-color: #DDD;\n",
              "  }\n",
              "\n",
              "  [theme=dark] .colab-df-quickchart {\n",
              "      --bg-color: #3B4455;\n",
              "      --fill-color: #D2E3FC;\n",
              "      --hover-bg-color: #434B5C;\n",
              "      --hover-fill-color: #FFFFFF;\n",
              "      --disabled-bg-color: #3B4455;\n",
              "      --disabled-fill-color: #666;\n",
              "  }\n",
              "\n",
              "  .colab-df-quickchart {\n",
              "    background-color: var(--bg-color);\n",
              "    border: none;\n",
              "    border-radius: 50%;\n",
              "    cursor: pointer;\n",
              "    display: none;\n",
              "    fill: var(--fill-color);\n",
              "    height: 32px;\n",
              "    padding: 0;\n",
              "    width: 32px;\n",
              "  }\n",
              "\n",
              "  .colab-df-quickchart:hover {\n",
              "    background-color: var(--hover-bg-color);\n",
              "    box-shadow: 0 1px 2px rgba(60, 64, 67, 0.3), 0 1px 3px 1px rgba(60, 64, 67, 0.15);\n",
              "    fill: var(--button-hover-fill-color);\n",
              "  }\n",
              "\n",
              "  .colab-df-quickchart-complete:disabled,\n",
              "  .colab-df-quickchart-complete:disabled:hover {\n",
              "    background-color: var(--disabled-bg-color);\n",
              "    fill: var(--disabled-fill-color);\n",
              "    box-shadow: none;\n",
              "  }\n",
              "\n",
              "  .colab-df-spinner {\n",
              "    border: 2px solid var(--fill-color);\n",
              "    border-color: transparent;\n",
              "    border-bottom-color: var(--fill-color);\n",
              "    animation:\n",
              "      spin 1s steps(1) infinite;\n",
              "  }\n",
              "\n",
              "  @keyframes spin {\n",
              "    0% {\n",
              "      border-color: transparent;\n",
              "      border-bottom-color: var(--fill-color);\n",
              "      border-left-color: var(--fill-color);\n",
              "    }\n",
              "    20% {\n",
              "      border-color: transparent;\n",
              "      border-left-color: var(--fill-color);\n",
              "      border-top-color: var(--fill-color);\n",
              "    }\n",
              "    30% {\n",
              "      border-color: transparent;\n",
              "      border-left-color: var(--fill-color);\n",
              "      border-top-color: var(--fill-color);\n",
              "      border-right-color: var(--fill-color);\n",
              "    }\n",
              "    40% {\n",
              "      border-color: transparent;\n",
              "      border-right-color: var(--fill-color);\n",
              "      border-top-color: var(--fill-color);\n",
              "    }\n",
              "    60% {\n",
              "      border-color: transparent;\n",
              "      border-right-color: var(--fill-color);\n",
              "    }\n",
              "    80% {\n",
              "      border-color: transparent;\n",
              "      border-right-color: var(--fill-color);\n",
              "      border-bottom-color: var(--fill-color);\n",
              "    }\n",
              "    90% {\n",
              "      border-color: transparent;\n",
              "      border-bottom-color: var(--fill-color);\n",
              "    }\n",
              "  }\n",
              "</style>\n",
              "\n",
              "  <script>\n",
              "    async function quickchart(key) {\n",
              "      const quickchartButtonEl =\n",
              "        document.querySelector('#' + key + ' button');\n",
              "      quickchartButtonEl.disabled = true;  // To prevent multiple clicks.\n",
              "      quickchartButtonEl.classList.add('colab-df-spinner');\n",
              "      try {\n",
              "        const charts = await google.colab.kernel.invokeFunction(\n",
              "            'suggestCharts', [key], {});\n",
              "      } catch (error) {\n",
              "        console.error('Error during call to suggestCharts:', error);\n",
              "      }\n",
              "      quickchartButtonEl.classList.remove('colab-df-spinner');\n",
              "      quickchartButtonEl.classList.add('colab-df-quickchart-complete');\n",
              "    }\n",
              "    (() => {\n",
              "      let quickchartButtonEl =\n",
              "        document.querySelector('#df-dc50f486-25ca-4088-819b-2a1e74855bc8 button');\n",
              "      quickchartButtonEl.style.display =\n",
              "        google.colab.kernel.accessAllowed ? 'block' : 'none';\n",
              "    })();\n",
              "  </script>\n",
              "</div>\n",
              "    </div>\n",
              "  </div>\n"
            ],
            "text/plain": [
              "   target                                               text\n",
              "0       0  @switchfoot http://twitpic.com/2y1zl - Awww, t...\n",
              "1       0  is upset that he can't update his Facebook by ...\n",
              "2       0  @Kenichan I dived many times for the ball. Man...\n",
              "3       0    my whole body feels itchy and like its on fire \n",
              "4       0  @nationwideclass no, it's not behaving at all...."
            ]
          },
          "execution_count": 8,
          "metadata": {},
          "output_type": "execute_result"
        }
      ],
      "source": [
        "data = df[['target', 'text']]\n",
        "data.head()"
      ]
    },
    {
      "cell_type": "code",
      "execution_count": 9,
      "metadata": {
        "colab": {
          "base_uri": "https://localhost:8080/"
        },
        "id": "mMHwkf7VetNy",
        "outputId": "8c29ae88-9d49-4f78-eb80-767ec1e9e09a"
      },
      "outputs": [
        {
          "data": {
            "text/plain": [
              "target\n",
              "0    800000\n",
              "1    800000\n",
              "Name: count, dtype: int64"
            ]
          },
          "execution_count": 9,
          "metadata": {},
          "output_type": "execute_result"
        }
      ],
      "source": [
        "pd.options.mode.chained_assignment = None\n",
        "data['target'] = data['target'].replace(4, 1)\n",
        "data['target'].value_counts()"
      ]
    },
    {
      "cell_type": "code",
      "execution_count": 10,
      "metadata": {
        "colab": {
          "base_uri": "https://localhost:8080/"
        },
        "id": "QpbBe8lBetNy",
        "outputId": "a3864bc4-9b40-4c87-f9bc-4c94246495c9"
      },
      "outputs": [
        {
          "name": "stdout",
          "output_type": "stream",
          "text": [
            "(1600000, 2)\n"
          ]
        }
      ],
      "source": [
        "data_pos = data[data['target'] == 1]\n",
        "data_neg = data[data['target'] == 0]\n",
        "\n",
        "dataset = pd.concat([data_pos, data_neg])\n",
        "print(dataset.shape)"
      ]
    },
    {
      "cell_type": "code",
      "execution_count": 11,
      "metadata": {
        "colab": {
          "base_uri": "https://localhost:8080/",
          "height": 394
        },
        "id": "KXgMvMnAetNy",
        "outputId": "cb873f4e-9921-47a4-9f79-c71062157a2f"
      },
      "outputs": [
        {
          "data": {
            "application/vnd.google.colaboratory.intrinsic+json": {
              "type": "dataframe",
              "variable_name": "dataset"
            },
            "text/html": [
              "\n",
              "  <div id=\"df-609105c5-fca5-42df-95d2-d184b95dad20\" class=\"colab-df-container\">\n",
              "    <div>\n",
              "<style scoped>\n",
              "    .dataframe tbody tr th:only-of-type {\n",
              "        vertical-align: middle;\n",
              "    }\n",
              "\n",
              "    .dataframe tbody tr th {\n",
              "        vertical-align: top;\n",
              "    }\n",
              "\n",
              "    .dataframe thead th {\n",
              "        text-align: right;\n",
              "    }\n",
              "</style>\n",
              "<table border=\"1\" class=\"dataframe\">\n",
              "  <thead>\n",
              "    <tr style=\"text-align: right;\">\n",
              "      <th></th>\n",
              "      <th>target</th>\n",
              "      <th>text</th>\n",
              "    </tr>\n",
              "  </thead>\n",
              "  <tbody>\n",
              "    <tr>\n",
              "      <th>800000</th>\n",
              "      <td>1</td>\n",
              "      <td>I LOVE @Health4UandPets u guys r the best!!</td>\n",
              "    </tr>\n",
              "    <tr>\n",
              "      <th>800001</th>\n",
              "      <td>1</td>\n",
              "      <td>im meeting up with one of my besties tonight! ...</td>\n",
              "    </tr>\n",
              "    <tr>\n",
              "      <th>800002</th>\n",
              "      <td>1</td>\n",
              "      <td>@DaRealSunisaKim Thanks for the Twitter add, S...</td>\n",
              "    </tr>\n",
              "    <tr>\n",
              "      <th>800003</th>\n",
              "      <td>1</td>\n",
              "      <td>Being sick can be really cheap when it hurts t...</td>\n",
              "    </tr>\n",
              "    <tr>\n",
              "      <th>800004</th>\n",
              "      <td>1</td>\n",
              "      <td>@LovesBrooklyn2 he has that effect on everyone</td>\n",
              "    </tr>\n",
              "  </tbody>\n",
              "</table>\n",
              "</div>\n",
              "    <div class=\"colab-df-buttons\">\n",
              "\n",
              "  <div class=\"colab-df-container\">\n",
              "    <button class=\"colab-df-convert\" onclick=\"convertToInteractive('df-609105c5-fca5-42df-95d2-d184b95dad20')\"\n",
              "            title=\"Convert this dataframe to an interactive table.\"\n",
              "            style=\"display:none;\">\n",
              "\n",
              "  <svg xmlns=\"http://www.w3.org/2000/svg\" height=\"24px\" viewBox=\"0 -960 960 960\">\n",
              "    <path d=\"M120-120v-720h720v720H120Zm60-500h600v-160H180v160Zm220 220h160v-160H400v160Zm0 220h160v-160H400v160ZM180-400h160v-160H180v160Zm440 0h160v-160H620v160ZM180-180h160v-160H180v160Zm440 0h160v-160H620v160Z\"/>\n",
              "  </svg>\n",
              "    </button>\n",
              "\n",
              "  <style>\n",
              "    .colab-df-container {\n",
              "      display:flex;\n",
              "      gap: 12px;\n",
              "    }\n",
              "\n",
              "    .colab-df-convert {\n",
              "      background-color: #E8F0FE;\n",
              "      border: none;\n",
              "      border-radius: 50%;\n",
              "      cursor: pointer;\n",
              "      display: none;\n",
              "      fill: #1967D2;\n",
              "      height: 32px;\n",
              "      padding: 0 0 0 0;\n",
              "      width: 32px;\n",
              "    }\n",
              "\n",
              "    .colab-df-convert:hover {\n",
              "      background-color: #E2EBFA;\n",
              "      box-shadow: 0px 1px 2px rgba(60, 64, 67, 0.3), 0px 1px 3px 1px rgba(60, 64, 67, 0.15);\n",
              "      fill: #174EA6;\n",
              "    }\n",
              "\n",
              "    .colab-df-buttons div {\n",
              "      margin-bottom: 4px;\n",
              "    }\n",
              "\n",
              "    [theme=dark] .colab-df-convert {\n",
              "      background-color: #3B4455;\n",
              "      fill: #D2E3FC;\n",
              "    }\n",
              "\n",
              "    [theme=dark] .colab-df-convert:hover {\n",
              "      background-color: #434B5C;\n",
              "      box-shadow: 0px 1px 3px 1px rgba(0, 0, 0, 0.15);\n",
              "      filter: drop-shadow(0px 1px 2px rgba(0, 0, 0, 0.3));\n",
              "      fill: #FFFFFF;\n",
              "    }\n",
              "  </style>\n",
              "\n",
              "    <script>\n",
              "      const buttonEl =\n",
              "        document.querySelector('#df-609105c5-fca5-42df-95d2-d184b95dad20 button.colab-df-convert');\n",
              "      buttonEl.style.display =\n",
              "        google.colab.kernel.accessAllowed ? 'block' : 'none';\n",
              "\n",
              "      async function convertToInteractive(key) {\n",
              "        const element = document.querySelector('#df-609105c5-fca5-42df-95d2-d184b95dad20');\n",
              "        const dataTable =\n",
              "          await google.colab.kernel.invokeFunction('convertToInteractive',\n",
              "                                                    [key], {});\n",
              "        if (!dataTable) return;\n",
              "\n",
              "        const docLinkHtml = 'Like what you see? Visit the ' +\n",
              "          '<a target=\"_blank\" href=https://colab.research.google.com/notebooks/data_table.ipynb>data table notebook</a>'\n",
              "          + ' to learn more about interactive tables.';\n",
              "        element.innerHTML = '';\n",
              "        dataTable['output_type'] = 'display_data';\n",
              "        await google.colab.output.renderOutput(dataTable, element);\n",
              "        const docLink = document.createElement('div');\n",
              "        docLink.innerHTML = docLinkHtml;\n",
              "        element.appendChild(docLink);\n",
              "      }\n",
              "    </script>\n",
              "  </div>\n",
              "\n",
              "\n",
              "<div id=\"df-64c40199-38f3-45f8-a255-8a4b8282f768\">\n",
              "  <button class=\"colab-df-quickchart\" onclick=\"quickchart('df-64c40199-38f3-45f8-a255-8a4b8282f768')\"\n",
              "            title=\"Suggest charts\"\n",
              "            style=\"display:none;\">\n",
              "\n",
              "<svg xmlns=\"http://www.w3.org/2000/svg\" height=\"24px\"viewBox=\"0 0 24 24\"\n",
              "     width=\"24px\">\n",
              "    <g>\n",
              "        <path d=\"M19 3H5c-1.1 0-2 .9-2 2v14c0 1.1.9 2 2 2h14c1.1 0 2-.9 2-2V5c0-1.1-.9-2-2-2zM9 17H7v-7h2v7zm4 0h-2V7h2v10zm4 0h-2v-4h2v4z\"/>\n",
              "    </g>\n",
              "</svg>\n",
              "  </button>\n",
              "\n",
              "<style>\n",
              "  .colab-df-quickchart {\n",
              "      --bg-color: #E8F0FE;\n",
              "      --fill-color: #1967D2;\n",
              "      --hover-bg-color: #E2EBFA;\n",
              "      --hover-fill-color: #174EA6;\n",
              "      --disabled-fill-color: #AAA;\n",
              "      --disabled-bg-color: #DDD;\n",
              "  }\n",
              "\n",
              "  [theme=dark] .colab-df-quickchart {\n",
              "      --bg-color: #3B4455;\n",
              "      --fill-color: #D2E3FC;\n",
              "      --hover-bg-color: #434B5C;\n",
              "      --hover-fill-color: #FFFFFF;\n",
              "      --disabled-bg-color: #3B4455;\n",
              "      --disabled-fill-color: #666;\n",
              "  }\n",
              "\n",
              "  .colab-df-quickchart {\n",
              "    background-color: var(--bg-color);\n",
              "    border: none;\n",
              "    border-radius: 50%;\n",
              "    cursor: pointer;\n",
              "    display: none;\n",
              "    fill: var(--fill-color);\n",
              "    height: 32px;\n",
              "    padding: 0;\n",
              "    width: 32px;\n",
              "  }\n",
              "\n",
              "  .colab-df-quickchart:hover {\n",
              "    background-color: var(--hover-bg-color);\n",
              "    box-shadow: 0 1px 2px rgba(60, 64, 67, 0.3), 0 1px 3px 1px rgba(60, 64, 67, 0.15);\n",
              "    fill: var(--button-hover-fill-color);\n",
              "  }\n",
              "\n",
              "  .colab-df-quickchart-complete:disabled,\n",
              "  .colab-df-quickchart-complete:disabled:hover {\n",
              "    background-color: var(--disabled-bg-color);\n",
              "    fill: var(--disabled-fill-color);\n",
              "    box-shadow: none;\n",
              "  }\n",
              "\n",
              "  .colab-df-spinner {\n",
              "    border: 2px solid var(--fill-color);\n",
              "    border-color: transparent;\n",
              "    border-bottom-color: var(--fill-color);\n",
              "    animation:\n",
              "      spin 1s steps(1) infinite;\n",
              "  }\n",
              "\n",
              "  @keyframes spin {\n",
              "    0% {\n",
              "      border-color: transparent;\n",
              "      border-bottom-color: var(--fill-color);\n",
              "      border-left-color: var(--fill-color);\n",
              "    }\n",
              "    20% {\n",
              "      border-color: transparent;\n",
              "      border-left-color: var(--fill-color);\n",
              "      border-top-color: var(--fill-color);\n",
              "    }\n",
              "    30% {\n",
              "      border-color: transparent;\n",
              "      border-left-color: var(--fill-color);\n",
              "      border-top-color: var(--fill-color);\n",
              "      border-right-color: var(--fill-color);\n",
              "    }\n",
              "    40% {\n",
              "      border-color: transparent;\n",
              "      border-right-color: var(--fill-color);\n",
              "      border-top-color: var(--fill-color);\n",
              "    }\n",
              "    60% {\n",
              "      border-color: transparent;\n",
              "      border-right-color: var(--fill-color);\n",
              "    }\n",
              "    80% {\n",
              "      border-color: transparent;\n",
              "      border-right-color: var(--fill-color);\n",
              "      border-bottom-color: var(--fill-color);\n",
              "    }\n",
              "    90% {\n",
              "      border-color: transparent;\n",
              "      border-bottom-color: var(--fill-color);\n",
              "    }\n",
              "  }\n",
              "</style>\n",
              "\n",
              "  <script>\n",
              "    async function quickchart(key) {\n",
              "      const quickchartButtonEl =\n",
              "        document.querySelector('#' + key + ' button');\n",
              "      quickchartButtonEl.disabled = true;  // To prevent multiple clicks.\n",
              "      quickchartButtonEl.classList.add('colab-df-spinner');\n",
              "      try {\n",
              "        const charts = await google.colab.kernel.invokeFunction(\n",
              "            'suggestCharts', [key], {});\n",
              "      } catch (error) {\n",
              "        console.error('Error during call to suggestCharts:', error);\n",
              "      }\n",
              "      quickchartButtonEl.classList.remove('colab-df-spinner');\n",
              "      quickchartButtonEl.classList.add('colab-df-quickchart-complete');\n",
              "    }\n",
              "    (() => {\n",
              "      let quickchartButtonEl =\n",
              "        document.querySelector('#df-64c40199-38f3-45f8-a255-8a4b8282f768 button');\n",
              "      quickchartButtonEl.style.display =\n",
              "        google.colab.kernel.accessAllowed ? 'block' : 'none';\n",
              "    })();\n",
              "  </script>\n",
              "</div>\n",
              "    </div>\n",
              "  </div>\n"
            ],
            "text/plain": [
              "        target                                               text\n",
              "800000       1       I LOVE @Health4UandPets u guys r the best!! \n",
              "800001       1  im meeting up with one of my besties tonight! ...\n",
              "800002       1  @DaRealSunisaKim Thanks for the Twitter add, S...\n",
              "800003       1  Being sick can be really cheap when it hurts t...\n",
              "800004       1    @LovesBrooklyn2 he has that effect on everyone "
            ]
          },
          "execution_count": 11,
          "metadata": {},
          "output_type": "execute_result"
        }
      ],
      "source": [
        "dataset.head()"
      ]
    },
    {
      "cell_type": "code",
      "execution_count": 12,
      "metadata": {
        "colab": {
          "base_uri": "https://localhost:8080/",
          "height": 394
        },
        "id": "CF50km9WetNy",
        "outputId": "b96f3a10-c3ee-48fb-f364-5b770925a671"
      },
      "outputs": [
        {
          "data": {
            "application/vnd.google.colaboratory.intrinsic+json": {
              "type": "dataframe",
              "variable_name": "dataset"
            },
            "text/html": [
              "\n",
              "  <div id=\"df-da98f0c3-68b9-4cae-acc1-2dc891e7d69b\" class=\"colab-df-container\">\n",
              "    <div>\n",
              "<style scoped>\n",
              "    .dataframe tbody tr th:only-of-type {\n",
              "        vertical-align: middle;\n",
              "    }\n",
              "\n",
              "    .dataframe tbody tr th {\n",
              "        vertical-align: top;\n",
              "    }\n",
              "\n",
              "    .dataframe thead th {\n",
              "        text-align: right;\n",
              "    }\n",
              "</style>\n",
              "<table border=\"1\" class=\"dataframe\">\n",
              "  <thead>\n",
              "    <tr style=\"text-align: right;\">\n",
              "      <th></th>\n",
              "      <th>target</th>\n",
              "      <th>text</th>\n",
              "    </tr>\n",
              "  </thead>\n",
              "  <tbody>\n",
              "    <tr>\n",
              "      <th>800000</th>\n",
              "      <td>1</td>\n",
              "      <td>i love @health4uandpets u guys r the best!!</td>\n",
              "    </tr>\n",
              "    <tr>\n",
              "      <th>800001</th>\n",
              "      <td>1</td>\n",
              "      <td>im meeting up with one of my besties tonight! ...</td>\n",
              "    </tr>\n",
              "    <tr>\n",
              "      <th>800002</th>\n",
              "      <td>1</td>\n",
              "      <td>@darealsunisakim thanks for the twitter add, s...</td>\n",
              "    </tr>\n",
              "    <tr>\n",
              "      <th>800003</th>\n",
              "      <td>1</td>\n",
              "      <td>being sick can be really cheap when it hurts t...</td>\n",
              "    </tr>\n",
              "    <tr>\n",
              "      <th>800004</th>\n",
              "      <td>1</td>\n",
              "      <td>@lovesbrooklyn2 he has that effect on everyone</td>\n",
              "    </tr>\n",
              "  </tbody>\n",
              "</table>\n",
              "</div>\n",
              "    <div class=\"colab-df-buttons\">\n",
              "\n",
              "  <div class=\"colab-df-container\">\n",
              "    <button class=\"colab-df-convert\" onclick=\"convertToInteractive('df-da98f0c3-68b9-4cae-acc1-2dc891e7d69b')\"\n",
              "            title=\"Convert this dataframe to an interactive table.\"\n",
              "            style=\"display:none;\">\n",
              "\n",
              "  <svg xmlns=\"http://www.w3.org/2000/svg\" height=\"24px\" viewBox=\"0 -960 960 960\">\n",
              "    <path d=\"M120-120v-720h720v720H120Zm60-500h600v-160H180v160Zm220 220h160v-160H400v160Zm0 220h160v-160H400v160ZM180-400h160v-160H180v160Zm440 0h160v-160H620v160ZM180-180h160v-160H180v160Zm440 0h160v-160H620v160Z\"/>\n",
              "  </svg>\n",
              "    </button>\n",
              "\n",
              "  <style>\n",
              "    .colab-df-container {\n",
              "      display:flex;\n",
              "      gap: 12px;\n",
              "    }\n",
              "\n",
              "    .colab-df-convert {\n",
              "      background-color: #E8F0FE;\n",
              "      border: none;\n",
              "      border-radius: 50%;\n",
              "      cursor: pointer;\n",
              "      display: none;\n",
              "      fill: #1967D2;\n",
              "      height: 32px;\n",
              "      padding: 0 0 0 0;\n",
              "      width: 32px;\n",
              "    }\n",
              "\n",
              "    .colab-df-convert:hover {\n",
              "      background-color: #E2EBFA;\n",
              "      box-shadow: 0px 1px 2px rgba(60, 64, 67, 0.3), 0px 1px 3px 1px rgba(60, 64, 67, 0.15);\n",
              "      fill: #174EA6;\n",
              "    }\n",
              "\n",
              "    .colab-df-buttons div {\n",
              "      margin-bottom: 4px;\n",
              "    }\n",
              "\n",
              "    [theme=dark] .colab-df-convert {\n",
              "      background-color: #3B4455;\n",
              "      fill: #D2E3FC;\n",
              "    }\n",
              "\n",
              "    [theme=dark] .colab-df-convert:hover {\n",
              "      background-color: #434B5C;\n",
              "      box-shadow: 0px 1px 3px 1px rgba(0, 0, 0, 0.15);\n",
              "      filter: drop-shadow(0px 1px 2px rgba(0, 0, 0, 0.3));\n",
              "      fill: #FFFFFF;\n",
              "    }\n",
              "  </style>\n",
              "\n",
              "    <script>\n",
              "      const buttonEl =\n",
              "        document.querySelector('#df-da98f0c3-68b9-4cae-acc1-2dc891e7d69b button.colab-df-convert');\n",
              "      buttonEl.style.display =\n",
              "        google.colab.kernel.accessAllowed ? 'block' : 'none';\n",
              "\n",
              "      async function convertToInteractive(key) {\n",
              "        const element = document.querySelector('#df-da98f0c3-68b9-4cae-acc1-2dc891e7d69b');\n",
              "        const dataTable =\n",
              "          await google.colab.kernel.invokeFunction('convertToInteractive',\n",
              "                                                    [key], {});\n",
              "        if (!dataTable) return;\n",
              "\n",
              "        const docLinkHtml = 'Like what you see? Visit the ' +\n",
              "          '<a target=\"_blank\" href=https://colab.research.google.com/notebooks/data_table.ipynb>data table notebook</a>'\n",
              "          + ' to learn more about interactive tables.';\n",
              "        element.innerHTML = '';\n",
              "        dataTable['output_type'] = 'display_data';\n",
              "        await google.colab.output.renderOutput(dataTable, element);\n",
              "        const docLink = document.createElement('div');\n",
              "        docLink.innerHTML = docLinkHtml;\n",
              "        element.appendChild(docLink);\n",
              "      }\n",
              "    </script>\n",
              "  </div>\n",
              "\n",
              "\n",
              "<div id=\"df-a20cf5b7-f696-4c5b-8fc7-d818db64cf51\">\n",
              "  <button class=\"colab-df-quickchart\" onclick=\"quickchart('df-a20cf5b7-f696-4c5b-8fc7-d818db64cf51')\"\n",
              "            title=\"Suggest charts\"\n",
              "            style=\"display:none;\">\n",
              "\n",
              "<svg xmlns=\"http://www.w3.org/2000/svg\" height=\"24px\"viewBox=\"0 0 24 24\"\n",
              "     width=\"24px\">\n",
              "    <g>\n",
              "        <path d=\"M19 3H5c-1.1 0-2 .9-2 2v14c0 1.1.9 2 2 2h14c1.1 0 2-.9 2-2V5c0-1.1-.9-2-2-2zM9 17H7v-7h2v7zm4 0h-2V7h2v10zm4 0h-2v-4h2v4z\"/>\n",
              "    </g>\n",
              "</svg>\n",
              "  </button>\n",
              "\n",
              "<style>\n",
              "  .colab-df-quickchart {\n",
              "      --bg-color: #E8F0FE;\n",
              "      --fill-color: #1967D2;\n",
              "      --hover-bg-color: #E2EBFA;\n",
              "      --hover-fill-color: #174EA6;\n",
              "      --disabled-fill-color: #AAA;\n",
              "      --disabled-bg-color: #DDD;\n",
              "  }\n",
              "\n",
              "  [theme=dark] .colab-df-quickchart {\n",
              "      --bg-color: #3B4455;\n",
              "      --fill-color: #D2E3FC;\n",
              "      --hover-bg-color: #434B5C;\n",
              "      --hover-fill-color: #FFFFFF;\n",
              "      --disabled-bg-color: #3B4455;\n",
              "      --disabled-fill-color: #666;\n",
              "  }\n",
              "\n",
              "  .colab-df-quickchart {\n",
              "    background-color: var(--bg-color);\n",
              "    border: none;\n",
              "    border-radius: 50%;\n",
              "    cursor: pointer;\n",
              "    display: none;\n",
              "    fill: var(--fill-color);\n",
              "    height: 32px;\n",
              "    padding: 0;\n",
              "    width: 32px;\n",
              "  }\n",
              "\n",
              "  .colab-df-quickchart:hover {\n",
              "    background-color: var(--hover-bg-color);\n",
              "    box-shadow: 0 1px 2px rgba(60, 64, 67, 0.3), 0 1px 3px 1px rgba(60, 64, 67, 0.15);\n",
              "    fill: var(--button-hover-fill-color);\n",
              "  }\n",
              "\n",
              "  .colab-df-quickchart-complete:disabled,\n",
              "  .colab-df-quickchart-complete:disabled:hover {\n",
              "    background-color: var(--disabled-bg-color);\n",
              "    fill: var(--disabled-fill-color);\n",
              "    box-shadow: none;\n",
              "  }\n",
              "\n",
              "  .colab-df-spinner {\n",
              "    border: 2px solid var(--fill-color);\n",
              "    border-color: transparent;\n",
              "    border-bottom-color: var(--fill-color);\n",
              "    animation:\n",
              "      spin 1s steps(1) infinite;\n",
              "  }\n",
              "\n",
              "  @keyframes spin {\n",
              "    0% {\n",
              "      border-color: transparent;\n",
              "      border-bottom-color: var(--fill-color);\n",
              "      border-left-color: var(--fill-color);\n",
              "    }\n",
              "    20% {\n",
              "      border-color: transparent;\n",
              "      border-left-color: var(--fill-color);\n",
              "      border-top-color: var(--fill-color);\n",
              "    }\n",
              "    30% {\n",
              "      border-color: transparent;\n",
              "      border-left-color: var(--fill-color);\n",
              "      border-top-color: var(--fill-color);\n",
              "      border-right-color: var(--fill-color);\n",
              "    }\n",
              "    40% {\n",
              "      border-color: transparent;\n",
              "      border-right-color: var(--fill-color);\n",
              "      border-top-color: var(--fill-color);\n",
              "    }\n",
              "    60% {\n",
              "      border-color: transparent;\n",
              "      border-right-color: var(--fill-color);\n",
              "    }\n",
              "    80% {\n",
              "      border-color: transparent;\n",
              "      border-right-color: var(--fill-color);\n",
              "      border-bottom-color: var(--fill-color);\n",
              "    }\n",
              "    90% {\n",
              "      border-color: transparent;\n",
              "      border-bottom-color: var(--fill-color);\n",
              "    }\n",
              "  }\n",
              "</style>\n",
              "\n",
              "  <script>\n",
              "    async function quickchart(key) {\n",
              "      const quickchartButtonEl =\n",
              "        document.querySelector('#' + key + ' button');\n",
              "      quickchartButtonEl.disabled = true;  // To prevent multiple clicks.\n",
              "      quickchartButtonEl.classList.add('colab-df-spinner');\n",
              "      try {\n",
              "        const charts = await google.colab.kernel.invokeFunction(\n",
              "            'suggestCharts', [key], {});\n",
              "      } catch (error) {\n",
              "        console.error('Error during call to suggestCharts:', error);\n",
              "      }\n",
              "      quickchartButtonEl.classList.remove('colab-df-spinner');\n",
              "      quickchartButtonEl.classList.add('colab-df-quickchart-complete');\n",
              "    }\n",
              "    (() => {\n",
              "      let quickchartButtonEl =\n",
              "        document.querySelector('#df-a20cf5b7-f696-4c5b-8fc7-d818db64cf51 button');\n",
              "      quickchartButtonEl.style.display =\n",
              "        google.colab.kernel.accessAllowed ? 'block' : 'none';\n",
              "    })();\n",
              "  </script>\n",
              "</div>\n",
              "    </div>\n",
              "  </div>\n"
            ],
            "text/plain": [
              "        target                                               text\n",
              "800000       1       i love @health4uandpets u guys r the best!! \n",
              "800001       1  im meeting up with one of my besties tonight! ...\n",
              "800002       1  @darealsunisakim thanks for the twitter add, s...\n",
              "800003       1  being sick can be really cheap when it hurts t...\n",
              "800004       1    @lovesbrooklyn2 he has that effect on everyone "
            ]
          },
          "execution_count": 12,
          "metadata": {},
          "output_type": "execute_result"
        }
      ],
      "source": [
        "dataset['text'] = dataset['text'].str.lower()\n",
        "dataset.head()"
      ]
    },
    {
      "cell_type": "code",
      "execution_count": 13,
      "metadata": {
        "id": "AUIJlL7petNy"
      },
      "outputs": [],
      "source": [
        "stopwordlist = ['a', 'about', 'above', 'after', 'again', 'ain', 'all', 'am', 'an',\n",
        "             'and','any','are', 'as', 'at', 'be', 'because', 'been', 'before',\n",
        "             'being', 'below', 'between','both', 'by', 'can', 'd', 'did', 'do',\n",
        "             'does', 'doing', 'down', 'during', 'each','few', 'for', 'from',\n",
        "             'further', 'had', 'has', 'have', 'having', 'he', 'her', 'here',\n",
        "             'hers', 'herself', 'him', 'himself', 'his', 'how', 'i', 'if', 'in',\n",
        "             'into','is', 'it', 'its', 'itself', 'just', 'll', 'm', 'ma',\n",
        "             'me', 'more', 'most','my', 'myself', 'now', 'o', 'of', 'on', 'once',\n",
        "             'only', 'or', 'other', 'our', 'ours','ourselves', 'out', 'own', 're','s', 'same', 'she', \"shes\", 'should', \"shouldve\",'so', 'some', 'such',\n",
        "             't', 'than', 'that', \"thatll\", 'the', 'their', 'theirs', 'them',\n",
        "             'themselves', 'then', 'there', 'these', 'they', 'this', 'those',\n",
        "             'through', 'to', 'too','under', 'until', 'up', 've', 'very', 'was',\n",
        "             'we', 'were', 'what', 'when', 'where','which','while', 'who', 'whom',\n",
        "             'why', 'will', 'with', 'won', 'y', 'you', \"youd\",\"youll\", \"youre\",\n",
        "             \"youve\", 'your', 'yours', 'yourself', 'yourselves']"
      ]
    },
    {
      "cell_type": "code",
      "execution_count": 14,
      "metadata": {
        "colab": {
          "base_uri": "https://localhost:8080/"
        },
        "id": "3nrng47jetNz",
        "outputId": "1c063e70-0e8a-4b27-9a19-ffdf9f62fe8f"
      },
      "outputs": [
        {
          "data": {
            "text/plain": [
              "800000                love @health4uandpets u guys r best!!\n",
              "800001    im meeting one besties tonight! cant wait!! - ...\n",
              "800002    @darealsunisakim thanks twitter add, sunisa! g...\n",
              "800003    sick really cheap hurts much eat real food plu...\n",
              "800004                      @lovesbrooklyn2 effect everyone\n",
              "Name: text, dtype: object"
            ]
          },
          "execution_count": 14,
          "metadata": {},
          "output_type": "execute_result"
        }
      ],
      "source": [
        "STOPWORDS = set(stopwordlist)\n",
        "\n",
        "def cleaning (text):\n",
        "    return ' '.join([word for word in text.split() if word not in STOPWORDS])\n",
        "\n",
        "dataset['text'] = dataset['text'].apply(cleaning)\n",
        "dataset['text'].head()"
      ]
    },
    {
      "cell_type": "code",
      "execution_count": 15,
      "metadata": {
        "colab": {
          "base_uri": "https://localhost:8080/"
        },
        "id": "pUQ75aPpetNz",
        "outputId": "3d91fac6-f001-4167-b1b1-a93056b0ada6"
      },
      "outputs": [
        {
          "data": {
            "text/plain": [
              "799995    sick spending day laying bed listening taylors...\n",
              "799996                                           gmail down\n",
              "799997                                rest peace farrah sad\n",
              "799998    ericurbane sounds like rival flagging ads not ...\n",
              "799999    resit exams over summer wishes worked harder f...\n",
              "Name: text, dtype: object"
            ]
          },
          "execution_count": 15,
          "metadata": {},
          "output_type": "execute_result"
        }
      ],
      "source": [
        "import string\n",
        "\n",
        "english_punctuations = string.punctuation # 按照標點符號分割句子\n",
        "punctuations_list = english_punctuations\n",
        "\n",
        "def remove_punctuations(text):\n",
        "    translator = str.maketrans('', '', punctuations_list)\n",
        "    return text.translate(translator)\n",
        "\n",
        "dataset['text'] = dataset['text'].apply(remove_punctuations)\n",
        "dataset['text'].tail()"
      ]
    },
    {
      "cell_type": "code",
      "execution_count": 16,
      "metadata": {
        "colab": {
          "base_uri": "https://localhost:8080/"
        },
        "id": "eFTaMSkVetNz",
        "outputId": "d8213860-2b8f-403c-9dbc-5be8145d8702"
      },
      "outputs": [
        {
          "data": {
            "text/plain": [
              "799995    sick spending day laying bed listening taylors...\n",
              "799996                                           gmail down\n",
              "799997                                rest peace farrah sad\n",
              "799998    ericurbane sounds like rival flagging ads not ...\n",
              "799999    resit exams over summer wishes worked harder f...\n",
              "Name: text, dtype: object"
            ]
          },
          "execution_count": 16,
          "metadata": {},
          "output_type": "execute_result"
        }
      ],
      "source": [
        "import re\n",
        "\n",
        "def remove_repeat(text): # 縮減重複字元\n",
        "    return re.sub(r'(.)\\1+', r'\\1\\1', text)\n",
        "\n",
        "dataset['text'] = dataset['text'].apply(remove_repeat)\n",
        "dataset['text'].tail()"
      ]
    },
    {
      "cell_type": "code",
      "execution_count": 17,
      "metadata": {
        "colab": {
          "base_uri": "https://localhost:8080/"
        },
        "id": "8wJchL4-etNz",
        "outputId": "51ef19b3-de16-4b9f-d8cd-8b5b6246e2f1"
      },
      "outputs": [
        {
          "data": {
            "text/plain": [
              "799995    sick spending day laying bed listening taylors...\n",
              "799996                                           gmail down\n",
              "799997                                rest peace farrah sad\n",
              "799998    ericurbane sounds like rival flagging ads not ...\n",
              "799999    resit exams over summer wishes worked harder f...\n",
              "Name: text, dtype: object"
            ]
          },
          "execution_count": 17,
          "metadata": {},
          "output_type": "execute_result"
        }
      ],
      "source": [
        "def remove_URLs (data):\n",
        "    return re.sub('((www\\.[^\\s]+)|(https?://[^\\s]+))', ' ', data)\n",
        "\n",
        "dataset['text'] = dataset['text'].apply(remove_URLs)\n",
        "dataset['text'].tail()"
      ]
    },
    {
      "cell_type": "code",
      "execution_count": 18,
      "metadata": {
        "colab": {
          "base_uri": "https://localhost:8080/"
        },
        "id": "qH-zUTMBetNz",
        "outputId": "d3bb4b3a-1fd3-4376-eb18-5a333a432fc0"
      },
      "outputs": [
        {
          "data": {
            "text/plain": [
              "799995    sick spending day laying bed listening taylors...\n",
              "799996                                           gmail down\n",
              "799997                                rest peace farrah sad\n",
              "799998    ericurbane sounds like rival flagging ads not ...\n",
              "799999    resit exams over summer wishes worked harder f...\n",
              "Name: text, dtype: object"
            ]
          },
          "execution_count": 18,
          "metadata": {},
          "output_type": "execute_result"
        }
      ],
      "source": [
        "def remove_numbers (data):\n",
        "    return re.sub('[0-9]+', ' ', data)\n",
        "\n",
        "dataset['text'] = dataset['text'].apply(remove_numbers)\n",
        "dataset['text'].tail()"
      ]
    },
    {
      "cell_type": "markdown",
      "metadata": {
        "id": "accf3c6ZetNz"
      },
      "source": [
        "#### Preprocessing - 2"
      ]
    },
    {
      "cell_type": "code",
      "execution_count": 19,
      "metadata": {
        "colab": {
          "base_uri": "https://localhost:8080/"
        },
        "id": "fE97BCgNetNz",
        "outputId": "a30e713e-a044-4752-86d3-a1d8e027e113"
      },
      "outputs": [
        {
          "data": {
            "text/plain": [
              "799995    [sick, spending, day, laying, bed, listening, ...\n",
              "799996                                        [gmail, down]\n",
              "799997                           [rest, peace, farrah, sad]\n",
              "799998    [ericurbane, sounds, like, rival, flagging, ad...\n",
              "799999    [resit, exams, over, summer, wishes, worked, h...\n",
              "Name: text, dtype: object"
            ]
          },
          "execution_count": 19,
          "metadata": {},
          "output_type": "execute_result"
        }
      ],
      "source": [
        "from keras.preprocessing.text import Tokenizer\n",
        "from keras.preprocessing.sequence import pad_sequences\n",
        "from nltk.tokenize import RegexpTokenizer\n",
        "\n",
        "tokenizer = RegexpTokenizer('\\s+', gaps=True)\n",
        "dataset['text'] = dataset['text'].apply(tokenizer.tokenize)\n",
        "\n",
        "dataset['text'].tail()"
      ]
    },
    {
      "cell_type": "code",
      "execution_count": 20,
      "metadata": {
        "colab": {
          "base_uri": "https://localhost:8080/"
        },
        "id": "jZ74dbTVetN0",
        "outputId": "cecd0632-2605-4010-d34a-5461bfed537d"
      },
      "outputs": [
        {
          "data": {
            "text/plain": [
              "800000           [love, health, uandpets, u, guys, r, best]\n",
              "800001    [im, meeting, one, besties, tonight, cant, wai...\n",
              "800002    [darealsunisakim, thanks, twitter, add, sunisa...\n",
              "800003    [sick, really, cheap, hurts, much, eat, real, ...\n",
              "800004                    [lovesbrooklyn, effect, everyone]\n",
              "Name: text, dtype: object"
            ]
          },
          "execution_count": 20,
          "metadata": {},
          "output_type": "execute_result"
        }
      ],
      "source": [
        "dataset['text'].head()"
      ]
    },
    {
      "cell_type": "code",
      "execution_count": 21,
      "metadata": {
        "colab": {
          "base_uri": "https://localhost:8080/"
        },
        "id": "2q1jsibDetN0",
        "outputId": "fd711c73-1005-45d6-cf37-9197b45bf234"
      },
      "outputs": [
        {
          "data": {
            "text/plain": [
              "800000             [love, health, uandpet, u, guy, r, best]\n",
              "800001    [im, meet, one, besti, tonight, cant, wait, gi...\n",
              "800002    [darealsunisakim, thank, twitter, add, sunisa,...\n",
              "800003    [sick, realli, cheap, hurt, much, eat, real, f...\n",
              "800004                     [lovesbrooklyn, effect, everyon]\n",
              "Name: text, dtype: object"
            ]
          },
          "execution_count": 21,
          "metadata": {},
          "output_type": "execute_result"
        }
      ],
      "source": [
        "import nltk\n",
        "from functools import lru_cache\n",
        "\n",
        "st = nltk.PorterStemmer()\n",
        "stem = lru_cache(maxsize=50000)(st.stem) # 函數結果的緩存，最多緩存50000個結果\n",
        "\n",
        "def stemming (data): # 對單字進行詞幹提取\n",
        "    data = [stem(word) for word in data]\n",
        "    return data\n",
        "\n",
        "dataset['text'] = dataset['text'].apply(stemming)\n",
        "dataset['text'].head()"
      ]
    },
    {
      "cell_type": "code",
      "execution_count": 22,
      "metadata": {
        "colab": {
          "base_uri": "https://localhost:8080/"
        },
        "id": "hsREsHZ7etN0",
        "outputId": "f787106c-ef19-4469-b424-3ef361b4b986"
      },
      "outputs": [
        {
          "name": "stderr",
          "output_type": "stream",
          "text": [
            "[nltk_data] Downloading package wordnet to /root/nltk_data...\n",
            "[nltk_data]   Package wordnet is already up-to-date!\n"
          ]
        },
        {
          "data": {
            "text/plain": [
              "800000             [love, health, uandpet, u, guy, r, best]\n",
              "800001    [im, meet, one, besti, tonight, cant, wait, gi...\n",
              "800002    [darealsunisakim, thank, twitter, add, sunisa,...\n",
              "800003    [sick, realli, cheap, hurt, much, eat, real, f...\n",
              "800004                     [lovesbrooklyn, effect, everyon]\n",
              "Name: text, dtype: object"
            ]
          },
          "execution_count": 22,
          "metadata": {},
          "output_type": "execute_result"
        }
      ],
      "source": [
        "lm = nltk.WordNetLemmatizer()\n",
        "lemmatize = lru_cache(maxsize=50000)(lm.lemmatize)\n",
        "\n",
        "nltk.download('wordnet')\n",
        "\n",
        "def lemmatizing (data): # 對單字進行詞形還原\n",
        "    data = [lemmatize(word) for word in data]\n",
        "    return data\n",
        "\n",
        "dataset['text'] = dataset['text'].apply(lemmatizing)\n",
        "dataset['text'].head()"
      ]
    },
    {
      "cell_type": "code",
      "execution_count": 23,
      "metadata": {
        "colab": {
          "base_uri": "https://localhost:8080/",
          "height": 394
        },
        "id": "ZNYf2VrXetN0",
        "outputId": "fe666320-b217-467b-9156-a6cbf58e4883"
      },
      "outputs": [
        {
          "data": {
            "application/vnd.google.colaboratory.intrinsic+json": {
              "type": "dataframe",
              "variable_name": "dataset"
            },
            "text/html": [
              "\n",
              "  <div id=\"df-4ce6a02b-f41b-47d2-a888-29c3485452da\" class=\"colab-df-container\">\n",
              "    <div>\n",
              "<style scoped>\n",
              "    .dataframe tbody tr th:only-of-type {\n",
              "        vertical-align: middle;\n",
              "    }\n",
              "\n",
              "    .dataframe tbody tr th {\n",
              "        vertical-align: top;\n",
              "    }\n",
              "\n",
              "    .dataframe thead th {\n",
              "        text-align: right;\n",
              "    }\n",
              "</style>\n",
              "<table border=\"1\" class=\"dataframe\">\n",
              "  <thead>\n",
              "    <tr style=\"text-align: right;\">\n",
              "      <th></th>\n",
              "      <th>target</th>\n",
              "      <th>text</th>\n",
              "    </tr>\n",
              "  </thead>\n",
              "  <tbody>\n",
              "    <tr>\n",
              "      <th>800000</th>\n",
              "      <td>1</td>\n",
              "      <td>[love, health, uandpet, u, guy, r, best]</td>\n",
              "    </tr>\n",
              "    <tr>\n",
              "      <th>800001</th>\n",
              "      <td>1</td>\n",
              "      <td>[im, meet, one, besti, tonight, cant, wait, gi...</td>\n",
              "    </tr>\n",
              "    <tr>\n",
              "      <th>800002</th>\n",
              "      <td>1</td>\n",
              "      <td>[darealsunisakim, thank, twitter, add, sunisa,...</td>\n",
              "    </tr>\n",
              "    <tr>\n",
              "      <th>800003</th>\n",
              "      <td>1</td>\n",
              "      <td>[sick, realli, cheap, hurt, much, eat, real, f...</td>\n",
              "    </tr>\n",
              "    <tr>\n",
              "      <th>800004</th>\n",
              "      <td>1</td>\n",
              "      <td>[lovesbrooklyn, effect, everyon]</td>\n",
              "    </tr>\n",
              "  </tbody>\n",
              "</table>\n",
              "</div>\n",
              "    <div class=\"colab-df-buttons\">\n",
              "\n",
              "  <div class=\"colab-df-container\">\n",
              "    <button class=\"colab-df-convert\" onclick=\"convertToInteractive('df-4ce6a02b-f41b-47d2-a888-29c3485452da')\"\n",
              "            title=\"Convert this dataframe to an interactive table.\"\n",
              "            style=\"display:none;\">\n",
              "\n",
              "  <svg xmlns=\"http://www.w3.org/2000/svg\" height=\"24px\" viewBox=\"0 -960 960 960\">\n",
              "    <path d=\"M120-120v-720h720v720H120Zm60-500h600v-160H180v160Zm220 220h160v-160H400v160Zm0 220h160v-160H400v160ZM180-400h160v-160H180v160Zm440 0h160v-160H620v160ZM180-180h160v-160H180v160Zm440 0h160v-160H620v160Z\"/>\n",
              "  </svg>\n",
              "    </button>\n",
              "\n",
              "  <style>\n",
              "    .colab-df-container {\n",
              "      display:flex;\n",
              "      gap: 12px;\n",
              "    }\n",
              "\n",
              "    .colab-df-convert {\n",
              "      background-color: #E8F0FE;\n",
              "      border: none;\n",
              "      border-radius: 50%;\n",
              "      cursor: pointer;\n",
              "      display: none;\n",
              "      fill: #1967D2;\n",
              "      height: 32px;\n",
              "      padding: 0 0 0 0;\n",
              "      width: 32px;\n",
              "    }\n",
              "\n",
              "    .colab-df-convert:hover {\n",
              "      background-color: #E2EBFA;\n",
              "      box-shadow: 0px 1px 2px rgba(60, 64, 67, 0.3), 0px 1px 3px 1px rgba(60, 64, 67, 0.15);\n",
              "      fill: #174EA6;\n",
              "    }\n",
              "\n",
              "    .colab-df-buttons div {\n",
              "      margin-bottom: 4px;\n",
              "    }\n",
              "\n",
              "    [theme=dark] .colab-df-convert {\n",
              "      background-color: #3B4455;\n",
              "      fill: #D2E3FC;\n",
              "    }\n",
              "\n",
              "    [theme=dark] .colab-df-convert:hover {\n",
              "      background-color: #434B5C;\n",
              "      box-shadow: 0px 1px 3px 1px rgba(0, 0, 0, 0.15);\n",
              "      filter: drop-shadow(0px 1px 2px rgba(0, 0, 0, 0.3));\n",
              "      fill: #FFFFFF;\n",
              "    }\n",
              "  </style>\n",
              "\n",
              "    <script>\n",
              "      const buttonEl =\n",
              "        document.querySelector('#df-4ce6a02b-f41b-47d2-a888-29c3485452da button.colab-df-convert');\n",
              "      buttonEl.style.display =\n",
              "        google.colab.kernel.accessAllowed ? 'block' : 'none';\n",
              "\n",
              "      async function convertToInteractive(key) {\n",
              "        const element = document.querySelector('#df-4ce6a02b-f41b-47d2-a888-29c3485452da');\n",
              "        const dataTable =\n",
              "          await google.colab.kernel.invokeFunction('convertToInteractive',\n",
              "                                                    [key], {});\n",
              "        if (!dataTable) return;\n",
              "\n",
              "        const docLinkHtml = 'Like what you see? Visit the ' +\n",
              "          '<a target=\"_blank\" href=https://colab.research.google.com/notebooks/data_table.ipynb>data table notebook</a>'\n",
              "          + ' to learn more about interactive tables.';\n",
              "        element.innerHTML = '';\n",
              "        dataTable['output_type'] = 'display_data';\n",
              "        await google.colab.output.renderOutput(dataTable, element);\n",
              "        const docLink = document.createElement('div');\n",
              "        docLink.innerHTML = docLinkHtml;\n",
              "        element.appendChild(docLink);\n",
              "      }\n",
              "    </script>\n",
              "  </div>\n",
              "\n",
              "\n",
              "<div id=\"df-124f62f3-dfbe-4fbd-81f0-6ebdd3cbaea7\">\n",
              "  <button class=\"colab-df-quickchart\" onclick=\"quickchart('df-124f62f3-dfbe-4fbd-81f0-6ebdd3cbaea7')\"\n",
              "            title=\"Suggest charts\"\n",
              "            style=\"display:none;\">\n",
              "\n",
              "<svg xmlns=\"http://www.w3.org/2000/svg\" height=\"24px\"viewBox=\"0 0 24 24\"\n",
              "     width=\"24px\">\n",
              "    <g>\n",
              "        <path d=\"M19 3H5c-1.1 0-2 .9-2 2v14c0 1.1.9 2 2 2h14c1.1 0 2-.9 2-2V5c0-1.1-.9-2-2-2zM9 17H7v-7h2v7zm4 0h-2V7h2v10zm4 0h-2v-4h2v4z\"/>\n",
              "    </g>\n",
              "</svg>\n",
              "  </button>\n",
              "\n",
              "<style>\n",
              "  .colab-df-quickchart {\n",
              "      --bg-color: #E8F0FE;\n",
              "      --fill-color: #1967D2;\n",
              "      --hover-bg-color: #E2EBFA;\n",
              "      --hover-fill-color: #174EA6;\n",
              "      --disabled-fill-color: #AAA;\n",
              "      --disabled-bg-color: #DDD;\n",
              "  }\n",
              "\n",
              "  [theme=dark] .colab-df-quickchart {\n",
              "      --bg-color: #3B4455;\n",
              "      --fill-color: #D2E3FC;\n",
              "      --hover-bg-color: #434B5C;\n",
              "      --hover-fill-color: #FFFFFF;\n",
              "      --disabled-bg-color: #3B4455;\n",
              "      --disabled-fill-color: #666;\n",
              "  }\n",
              "\n",
              "  .colab-df-quickchart {\n",
              "    background-color: var(--bg-color);\n",
              "    border: none;\n",
              "    border-radius: 50%;\n",
              "    cursor: pointer;\n",
              "    display: none;\n",
              "    fill: var(--fill-color);\n",
              "    height: 32px;\n",
              "    padding: 0;\n",
              "    width: 32px;\n",
              "  }\n",
              "\n",
              "  .colab-df-quickchart:hover {\n",
              "    background-color: var(--hover-bg-color);\n",
              "    box-shadow: 0 1px 2px rgba(60, 64, 67, 0.3), 0 1px 3px 1px rgba(60, 64, 67, 0.15);\n",
              "    fill: var(--button-hover-fill-color);\n",
              "  }\n",
              "\n",
              "  .colab-df-quickchart-complete:disabled,\n",
              "  .colab-df-quickchart-complete:disabled:hover {\n",
              "    background-color: var(--disabled-bg-color);\n",
              "    fill: var(--disabled-fill-color);\n",
              "    box-shadow: none;\n",
              "  }\n",
              "\n",
              "  .colab-df-spinner {\n",
              "    border: 2px solid var(--fill-color);\n",
              "    border-color: transparent;\n",
              "    border-bottom-color: var(--fill-color);\n",
              "    animation:\n",
              "      spin 1s steps(1) infinite;\n",
              "  }\n",
              "\n",
              "  @keyframes spin {\n",
              "    0% {\n",
              "      border-color: transparent;\n",
              "      border-bottom-color: var(--fill-color);\n",
              "      border-left-color: var(--fill-color);\n",
              "    }\n",
              "    20% {\n",
              "      border-color: transparent;\n",
              "      border-left-color: var(--fill-color);\n",
              "      border-top-color: var(--fill-color);\n",
              "    }\n",
              "    30% {\n",
              "      border-color: transparent;\n",
              "      border-left-color: var(--fill-color);\n",
              "      border-top-color: var(--fill-color);\n",
              "      border-right-color: var(--fill-color);\n",
              "    }\n",
              "    40% {\n",
              "      border-color: transparent;\n",
              "      border-right-color: var(--fill-color);\n",
              "      border-top-color: var(--fill-color);\n",
              "    }\n",
              "    60% {\n",
              "      border-color: transparent;\n",
              "      border-right-color: var(--fill-color);\n",
              "    }\n",
              "    80% {\n",
              "      border-color: transparent;\n",
              "      border-right-color: var(--fill-color);\n",
              "      border-bottom-color: var(--fill-color);\n",
              "    }\n",
              "    90% {\n",
              "      border-color: transparent;\n",
              "      border-bottom-color: var(--fill-color);\n",
              "    }\n",
              "  }\n",
              "</style>\n",
              "\n",
              "  <script>\n",
              "    async function quickchart(key) {\n",
              "      const quickchartButtonEl =\n",
              "        document.querySelector('#' + key + ' button');\n",
              "      quickchartButtonEl.disabled = true;  // To prevent multiple clicks.\n",
              "      quickchartButtonEl.classList.add('colab-df-spinner');\n",
              "      try {\n",
              "        const charts = await google.colab.kernel.invokeFunction(\n",
              "            'suggestCharts', [key], {});\n",
              "      } catch (error) {\n",
              "        console.error('Error during call to suggestCharts:', error);\n",
              "      }\n",
              "      quickchartButtonEl.classList.remove('colab-df-spinner');\n",
              "      quickchartButtonEl.classList.add('colab-df-quickchart-complete');\n",
              "    }\n",
              "    (() => {\n",
              "      let quickchartButtonEl =\n",
              "        document.querySelector('#df-124f62f3-dfbe-4fbd-81f0-6ebdd3cbaea7 button');\n",
              "      quickchartButtonEl.style.display =\n",
              "        google.colab.kernel.accessAllowed ? 'block' : 'none';\n",
              "    })();\n",
              "  </script>\n",
              "</div>\n",
              "    </div>\n",
              "  </div>\n"
            ],
            "text/plain": [
              "        target                                               text\n",
              "800000       1           [love, health, uandpet, u, guy, r, best]\n",
              "800001       1  [im, meet, one, besti, tonight, cant, wait, gi...\n",
              "800002       1  [darealsunisakim, thank, twitter, add, sunisa,...\n",
              "800003       1  [sick, realli, cheap, hurt, much, eat, real, f...\n",
              "800004       1                   [lovesbrooklyn, effect, everyon]"
            ]
          },
          "execution_count": 23,
          "metadata": {},
          "output_type": "execute_result"
        }
      ],
      "source": [
        "dataset.head()"
      ]
    },
    {
      "cell_type": "code",
      "execution_count": 24,
      "metadata": {
        "colab": {
          "base_uri": "https://localhost:8080/"
        },
        "id": "4Dzn249BetN0",
        "outputId": "5acbb8e2-d9c4-4bc4-c245-87ec0a3b6113"
      },
      "outputs": [
        {
          "data": {
            "text/plain": [
              "0         [switchfoot, httptwitpiccom, y, zl, aww, that,...\n",
              "1         [upset, cant, updat, facebook, text, it, might...\n",
              "2         [kenichan, dive, mani, time, ball, manag, save...\n",
              "3                    [whole, bodi, feel, itchi, like, fire]\n",
              "4         [nationwideclass, no, it, not, behav, all, im,...\n",
              "                                ...                        \n",
              "799995    [sick, spend, day, lay, bed, listen, taylorswift]\n",
              "799996                                        [gmail, down]\n",
              "799997                            [rest, peac, farrah, sad]\n",
              "799998    [ericurban, sound, like, rival, flag, ad, not,...\n",
              "799999    [resit, exam, over, summer, wish, work, harder...\n",
              "Name: text, Length: 800000, dtype: object"
            ]
          },
          "execution_count": 24,
          "metadata": {},
          "output_type": "execute_result"
        }
      ],
      "source": [
        "dataset[dataset['target'] == 0][\"text\"]"
      ]
    },
    {
      "cell_type": "code",
      "execution_count": 25,
      "metadata": {
        "colab": {
          "base_uri": "https://localhost:8080/"
        },
        "id": "lluydcFtetN0",
        "outputId": "f5c4e999-3350-43b9-9c14-584e55891d38"
      },
      "outputs": [
        {
          "name": "stdout",
          "output_type": "stream",
          "text": [
            "691491\n"
          ]
        }
      ],
      "source": [
        "words = set()\n",
        "for data in dataset['text']:\n",
        "    for word in data:\n",
        "        words.add(word)\n",
        "\n",
        "print(len(words))"
      ]
    },
    {
      "cell_type": "code",
      "execution_count": 26,
      "metadata": {
        "colab": {
          "base_uri": "https://localhost:8080/",
          "height": 411
        },
        "id": "02ceJi97etN0",
        "outputId": "88e8b10b-6c2a-4a79-9858-5142f0dc6dd6"
      },
      "outputs": [
        {
          "data": {
            "application/vnd.google.colaboratory.intrinsic+json": {
              "type": "dataframe",
              "variable_name": "new_data"
            },
            "text/html": [
              "\n",
              "  <div id=\"df-6079ca76-8a50-41b4-bfc7-9351f903b05a\" class=\"colab-df-container\">\n",
              "    <div>\n",
              "<style scoped>\n",
              "    .dataframe tbody tr th:only-of-type {\n",
              "        vertical-align: middle;\n",
              "    }\n",
              "\n",
              "    .dataframe tbody tr th {\n",
              "        vertical-align: top;\n",
              "    }\n",
              "\n",
              "    .dataframe thead th {\n",
              "        text-align: right;\n",
              "    }\n",
              "</style>\n",
              "<table border=\"1\" class=\"dataframe\">\n",
              "  <thead>\n",
              "    <tr style=\"text-align: right;\">\n",
              "      <th></th>\n",
              "      <th>target</th>\n",
              "      <th>text</th>\n",
              "    </tr>\n",
              "  </thead>\n",
              "  <tbody>\n",
              "    <tr>\n",
              "      <th>800000</th>\n",
              "      <td>1</td>\n",
              "      <td>love health uandpet u guy r best</td>\n",
              "    </tr>\n",
              "    <tr>\n",
              "      <th>800001</th>\n",
              "      <td>1</td>\n",
              "      <td>im meet one besti tonight cant wait girl talk</td>\n",
              "    </tr>\n",
              "    <tr>\n",
              "      <th>800002</th>\n",
              "      <td>1</td>\n",
              "      <td>darealsunisakim thank twitter add sunisa got m...</td>\n",
              "    </tr>\n",
              "    <tr>\n",
              "      <th>800003</th>\n",
              "      <td>1</td>\n",
              "      <td>sick realli cheap hurt much eat real food plu ...</td>\n",
              "    </tr>\n",
              "    <tr>\n",
              "      <th>800004</th>\n",
              "      <td>1</td>\n",
              "      <td>lovesbrooklyn effect everyon</td>\n",
              "    </tr>\n",
              "  </tbody>\n",
              "</table>\n",
              "</div>\n",
              "    <div class=\"colab-df-buttons\">\n",
              "\n",
              "  <div class=\"colab-df-container\">\n",
              "    <button class=\"colab-df-convert\" onclick=\"convertToInteractive('df-6079ca76-8a50-41b4-bfc7-9351f903b05a')\"\n",
              "            title=\"Convert this dataframe to an interactive table.\"\n",
              "            style=\"display:none;\">\n",
              "\n",
              "  <svg xmlns=\"http://www.w3.org/2000/svg\" height=\"24px\" viewBox=\"0 -960 960 960\">\n",
              "    <path d=\"M120-120v-720h720v720H120Zm60-500h600v-160H180v160Zm220 220h160v-160H400v160Zm0 220h160v-160H400v160ZM180-400h160v-160H180v160Zm440 0h160v-160H620v160ZM180-180h160v-160H180v160Zm440 0h160v-160H620v160Z\"/>\n",
              "  </svg>\n",
              "    </button>\n",
              "\n",
              "  <style>\n",
              "    .colab-df-container {\n",
              "      display:flex;\n",
              "      gap: 12px;\n",
              "    }\n",
              "\n",
              "    .colab-df-convert {\n",
              "      background-color: #E8F0FE;\n",
              "      border: none;\n",
              "      border-radius: 50%;\n",
              "      cursor: pointer;\n",
              "      display: none;\n",
              "      fill: #1967D2;\n",
              "      height: 32px;\n",
              "      padding: 0 0 0 0;\n",
              "      width: 32px;\n",
              "    }\n",
              "\n",
              "    .colab-df-convert:hover {\n",
              "      background-color: #E2EBFA;\n",
              "      box-shadow: 0px 1px 2px rgba(60, 64, 67, 0.3), 0px 1px 3px 1px rgba(60, 64, 67, 0.15);\n",
              "      fill: #174EA6;\n",
              "    }\n",
              "\n",
              "    .colab-df-buttons div {\n",
              "      margin-bottom: 4px;\n",
              "    }\n",
              "\n",
              "    [theme=dark] .colab-df-convert {\n",
              "      background-color: #3B4455;\n",
              "      fill: #D2E3FC;\n",
              "    }\n",
              "\n",
              "    [theme=dark] .colab-df-convert:hover {\n",
              "      background-color: #434B5C;\n",
              "      box-shadow: 0px 1px 3px 1px rgba(0, 0, 0, 0.15);\n",
              "      filter: drop-shadow(0px 1px 2px rgba(0, 0, 0, 0.3));\n",
              "      fill: #FFFFFF;\n",
              "    }\n",
              "  </style>\n",
              "\n",
              "    <script>\n",
              "      const buttonEl =\n",
              "        document.querySelector('#df-6079ca76-8a50-41b4-bfc7-9351f903b05a button.colab-df-convert');\n",
              "      buttonEl.style.display =\n",
              "        google.colab.kernel.accessAllowed ? 'block' : 'none';\n",
              "\n",
              "      async function convertToInteractive(key) {\n",
              "        const element = document.querySelector('#df-6079ca76-8a50-41b4-bfc7-9351f903b05a');\n",
              "        const dataTable =\n",
              "          await google.colab.kernel.invokeFunction('convertToInteractive',\n",
              "                                                    [key], {});\n",
              "        if (!dataTable) return;\n",
              "\n",
              "        const docLinkHtml = 'Like what you see? Visit the ' +\n",
              "          '<a target=\"_blank\" href=https://colab.research.google.com/notebooks/data_table.ipynb>data table notebook</a>'\n",
              "          + ' to learn more about interactive tables.';\n",
              "        element.innerHTML = '';\n",
              "        dataTable['output_type'] = 'display_data';\n",
              "        await google.colab.output.renderOutput(dataTable, element);\n",
              "        const docLink = document.createElement('div');\n",
              "        docLink.innerHTML = docLinkHtml;\n",
              "        element.appendChild(docLink);\n",
              "      }\n",
              "    </script>\n",
              "  </div>\n",
              "\n",
              "\n",
              "<div id=\"df-d7245d50-bf76-4553-8c7f-1ff03c95e007\">\n",
              "  <button class=\"colab-df-quickchart\" onclick=\"quickchart('df-d7245d50-bf76-4553-8c7f-1ff03c95e007')\"\n",
              "            title=\"Suggest charts\"\n",
              "            style=\"display:none;\">\n",
              "\n",
              "<svg xmlns=\"http://www.w3.org/2000/svg\" height=\"24px\"viewBox=\"0 0 24 24\"\n",
              "     width=\"24px\">\n",
              "    <g>\n",
              "        <path d=\"M19 3H5c-1.1 0-2 .9-2 2v14c0 1.1.9 2 2 2h14c1.1 0 2-.9 2-2V5c0-1.1-.9-2-2-2zM9 17H7v-7h2v7zm4 0h-2V7h2v10zm4 0h-2v-4h2v4z\"/>\n",
              "    </g>\n",
              "</svg>\n",
              "  </button>\n",
              "\n",
              "<style>\n",
              "  .colab-df-quickchart {\n",
              "      --bg-color: #E8F0FE;\n",
              "      --fill-color: #1967D2;\n",
              "      --hover-bg-color: #E2EBFA;\n",
              "      --hover-fill-color: #174EA6;\n",
              "      --disabled-fill-color: #AAA;\n",
              "      --disabled-bg-color: #DDD;\n",
              "  }\n",
              "\n",
              "  [theme=dark] .colab-df-quickchart {\n",
              "      --bg-color: #3B4455;\n",
              "      --fill-color: #D2E3FC;\n",
              "      --hover-bg-color: #434B5C;\n",
              "      --hover-fill-color: #FFFFFF;\n",
              "      --disabled-bg-color: #3B4455;\n",
              "      --disabled-fill-color: #666;\n",
              "  }\n",
              "\n",
              "  .colab-df-quickchart {\n",
              "    background-color: var(--bg-color);\n",
              "    border: none;\n",
              "    border-radius: 50%;\n",
              "    cursor: pointer;\n",
              "    display: none;\n",
              "    fill: var(--fill-color);\n",
              "    height: 32px;\n",
              "    padding: 0;\n",
              "    width: 32px;\n",
              "  }\n",
              "\n",
              "  .colab-df-quickchart:hover {\n",
              "    background-color: var(--hover-bg-color);\n",
              "    box-shadow: 0 1px 2px rgba(60, 64, 67, 0.3), 0 1px 3px 1px rgba(60, 64, 67, 0.15);\n",
              "    fill: var(--button-hover-fill-color);\n",
              "  }\n",
              "\n",
              "  .colab-df-quickchart-complete:disabled,\n",
              "  .colab-df-quickchart-complete:disabled:hover {\n",
              "    background-color: var(--disabled-bg-color);\n",
              "    fill: var(--disabled-fill-color);\n",
              "    box-shadow: none;\n",
              "  }\n",
              "\n",
              "  .colab-df-spinner {\n",
              "    border: 2px solid var(--fill-color);\n",
              "    border-color: transparent;\n",
              "    border-bottom-color: var(--fill-color);\n",
              "    animation:\n",
              "      spin 1s steps(1) infinite;\n",
              "  }\n",
              "\n",
              "  @keyframes spin {\n",
              "    0% {\n",
              "      border-color: transparent;\n",
              "      border-bottom-color: var(--fill-color);\n",
              "      border-left-color: var(--fill-color);\n",
              "    }\n",
              "    20% {\n",
              "      border-color: transparent;\n",
              "      border-left-color: var(--fill-color);\n",
              "      border-top-color: var(--fill-color);\n",
              "    }\n",
              "    30% {\n",
              "      border-color: transparent;\n",
              "      border-left-color: var(--fill-color);\n",
              "      border-top-color: var(--fill-color);\n",
              "      border-right-color: var(--fill-color);\n",
              "    }\n",
              "    40% {\n",
              "      border-color: transparent;\n",
              "      border-right-color: var(--fill-color);\n",
              "      border-top-color: var(--fill-color);\n",
              "    }\n",
              "    60% {\n",
              "      border-color: transparent;\n",
              "      border-right-color: var(--fill-color);\n",
              "    }\n",
              "    80% {\n",
              "      border-color: transparent;\n",
              "      border-right-color: var(--fill-color);\n",
              "      border-bottom-color: var(--fill-color);\n",
              "    }\n",
              "    90% {\n",
              "      border-color: transparent;\n",
              "      border-bottom-color: var(--fill-color);\n",
              "    }\n",
              "  }\n",
              "</style>\n",
              "\n",
              "  <script>\n",
              "    async function quickchart(key) {\n",
              "      const quickchartButtonEl =\n",
              "        document.querySelector('#' + key + ' button');\n",
              "      quickchartButtonEl.disabled = true;  // To prevent multiple clicks.\n",
              "      quickchartButtonEl.classList.add('colab-df-spinner');\n",
              "      try {\n",
              "        const charts = await google.colab.kernel.invokeFunction(\n",
              "            'suggestCharts', [key], {});\n",
              "      } catch (error) {\n",
              "        console.error('Error during call to suggestCharts:', error);\n",
              "      }\n",
              "      quickchartButtonEl.classList.remove('colab-df-spinner');\n",
              "      quickchartButtonEl.classList.add('colab-df-quickchart-complete');\n",
              "    }\n",
              "    (() => {\n",
              "      let quickchartButtonEl =\n",
              "        document.querySelector('#df-d7245d50-bf76-4553-8c7f-1ff03c95e007 button');\n",
              "      quickchartButtonEl.style.display =\n",
              "        google.colab.kernel.accessAllowed ? 'block' : 'none';\n",
              "    })();\n",
              "  </script>\n",
              "</div>\n",
              "    </div>\n",
              "  </div>\n"
            ],
            "text/plain": [
              "        target                                               text\n",
              "800000       1                   love health uandpet u guy r best\n",
              "800001       1      im meet one besti tonight cant wait girl talk\n",
              "800002       1  darealsunisakim thank twitter add sunisa got m...\n",
              "800003       1  sick realli cheap hurt much eat real food plu ...\n",
              "800004       1                       lovesbrooklyn effect everyon"
            ]
          },
          "execution_count": 26,
          "metadata": {},
          "output_type": "execute_result"
        }
      ],
      "source": [
        "# from wordcloud import WordCloud\n",
        "\n",
        "# data_neg = dataset[dataset['target'] == 0]['text'].apply(lambda x: ' '.join(x))\n",
        "\n",
        "new_data = dataset\n",
        "new_data['text'] = new_data['text'].apply(lambda x: ' '.join(x)) # 將list轉回成字串\n",
        "new_data.head()"
      ]
    },
    {
      "cell_type": "markdown",
      "metadata": {
        "id": "z269fzX0etN0"
      },
      "source": [
        "#### Use Word2Vec"
      ]
    },
    {
      "cell_type": "code",
      "execution_count": null,
      "metadata": {
        "id": "KJ4G_QrUetN1"
      },
      "outputs": [],
      "source": [
        "# Use Word2Vec to convert words to vectors\n",
        "from gensim.models import Word2Vec\n",
        "\n",
        "sentences = [row.split() for row in new_data['text']]\n",
        "model = Word2Vec(sentences, vector_size=100, window=5, min_count=1, workers=4)\n",
        "\n",
        "word_vectors = model.wv\n",
        "X = []\n",
        "\n",
        "for sentence in sentences:\n",
        "    vectors = []\n",
        "    for word in sentence:\n",
        "        vectors.append(word_vectors[word])\n",
        "    X.append(vectors)"
      ]
    },
    {
      "cell_type": "code",
      "execution_count": null,
      "metadata": {
        "id": "V3-AP1wIetN1",
        "outputId": "4bcee82c-cdc3-4f81-aeec-abb3f36f4153"
      },
      "outputs": [
        {
          "name": "stdout",
          "output_type": "stream",
          "text": [
            "[array([ 0.37061006,  1.7180774 ,  1.4165466 , -1.7483013 , -0.18449938,\n",
            "        0.37490526, -0.3685473 ,  2.290671  ,  0.78286403, -2.0799904 ,\n",
            "        2.1327593 , -2.0366464 ,  0.23233066,  1.0115927 ,  1.1614784 ,\n",
            "       -0.2772113 , -1.6379224 , -0.8755437 ,  3.5554318 , -0.17861398,\n",
            "        0.3599371 , -0.24474458,  2.1635752 , -2.406898  ,  0.11437868,\n",
            "        0.16651158,  1.4597486 , -1.920933  , -0.8406093 , -1.1669666 ,\n",
            "        0.6092835 , -0.3716748 ,  0.32210603,  3.5693052 , -1.5367675 ,\n",
            "       -0.23601936, -0.5232852 , -1.2123235 , -0.95633423, -1.713566  ,\n",
            "       -1.7762394 , -0.2854368 , -1.1424745 ,  0.5042474 , -0.02511418,\n",
            "       -0.81632656, -1.9830581 ,  0.12028097, -1.168119  , -1.4796041 ,\n",
            "       -0.2206042 , -0.2654624 , -1.3263478 , -0.8700707 , -0.84190243,\n",
            "        0.4326733 , -0.8550184 , -1.8307    , -0.93561304, -1.416928  ,\n",
            "       -3.6736808 ,  1.1869637 ,  1.2249026 , -0.20356357, -1.9528887 ,\n",
            "       -1.2422972 , -1.8656316 ,  1.6254709 ,  0.4900222 , -3.6278634 ,\n",
            "        0.2523605 , -0.5272857 , -0.4488978 , -0.48648882,  0.7480056 ,\n",
            "        3.7486792 , -1.3587282 , -1.261719  ,  0.7603855 ,  1.110406  ,\n",
            "        2.7465732 ,  0.89355654,  0.34091344, -0.07306129, -1.2969764 ,\n",
            "        0.14723676, -0.61983764,  0.08331212,  1.0627168 ,  3.3410232 ,\n",
            "       -0.2886901 ,  1.0442228 , -2.017698  ,  2.4533575 , -0.01446369,\n",
            "        0.7445938 ,  2.55967   ,  0.25118464,  2.4244015 , -2.6399891 ],\n",
            "      dtype=float32), array([-0.72685987,  0.78561515, -1.2664883 ,  1.1466001 , -0.13208982,\n",
            "        1.9089515 ,  0.84596366,  1.2393466 ,  1.100022  ,  1.9579113 ,\n",
            "        0.03998298,  1.0657471 ,  0.01134375, -0.68197834, -0.3531441 ,\n",
            "       -1.4175383 ,  0.22497943, -1.1016597 ,  0.1849781 , -0.05388337,\n",
            "        2.548335  , -0.5542151 ,  0.64784163,  1.3036349 , -0.1591837 ,\n",
            "       -0.45349082,  0.8095609 ,  1.2101328 , -0.20459294,  0.5490757 ,\n",
            "        0.5788559 ,  0.4359428 , -0.08138035, -1.3718755 , -0.7575291 ,\n",
            "        1.5784813 , -2.2787592 ,  0.97728187,  1.516127  , -0.74004483,\n",
            "        0.9251848 , -1.5364166 , -1.231844  ,  0.44809276, -0.20746319,\n",
            "       -0.55056036,  0.36662856,  0.10417182,  0.5652194 ,  2.4203072 ,\n",
            "        0.25373548, -1.5171388 , -1.6703886 , -0.5966723 , -0.34856978,\n",
            "        0.3647514 ,  0.7400568 ,  1.3666283 , -1.3883448 , -1.4344213 ,\n",
            "       -0.37441877, -0.29265198,  0.3783601 ,  1.3188752 , -0.86480147,\n",
            "        0.9298039 ,  0.56235445,  1.8201933 , -0.5964074 ,  0.36289716,\n",
            "       -0.59611756, -0.15629236,  1.4592192 , -0.18977088,  2.2546995 ,\n",
            "        2.143355  ,  1.6309937 ,  1.3318629 , -1.2674332 , -1.3629519 ,\n",
            "        0.29809213, -0.08175323, -0.59339434, -0.41266787, -1.5775695 ,\n",
            "       -0.49997315,  1.522528  , -0.39163208,  0.6934298 ,  0.31075838,\n",
            "        0.13452926, -0.80127054, -1.3021262 ,  0.60225934,  1.7488976 ,\n",
            "        2.4989095 ,  2.5840516 ,  0.6748798 ,  0.7542494 , -1.3660741 ],\n",
            "      dtype=float32), array([ 0.04039892, -0.08185631, -0.02359999, -0.01406781, -0.08229259,\n",
            "       -0.01038458,  0.04974096,  0.09226551,  0.03238136,  0.01760612,\n",
            "       -0.02916264, -0.04082368,  0.05054015, -0.02821337, -0.14403085,\n",
            "       -0.20913938,  0.05946353, -0.15519851,  0.08519845, -0.08495992,\n",
            "        0.24645992, -0.03112679,  0.11469601,  0.04111559, -0.14798056,\n",
            "        0.00136788, -0.05271145,  0.00751385,  0.01136202,  0.15290387,\n",
            "        0.03999266,  0.0679391 , -0.01734986, -0.07862549, -0.17133953,\n",
            "        0.1351171 , -0.12026525, -0.09052526, -0.01849783, -0.03741858,\n",
            "        0.05385536, -0.04996178, -0.0485033 ,  0.07068697, -0.14166215,\n",
            "       -0.25398117, -0.21411313, -0.15556392,  0.06630567,  0.15151608,\n",
            "        0.07377638, -0.08354856, -0.08747259,  0.00778552, -0.09133509,\n",
            "        0.09224674,  0.09241242,  0.2071084 ,  0.07956598, -0.06394777,\n",
            "        0.02253329, -0.10448536, -0.10196591,  0.10791669, -0.16928507,\n",
            "        0.01464297, -0.09091833,  0.20145431, -0.1471619 ,  0.17858253,\n",
            "       -0.16843462, -0.01165219,  0.25166348, -0.11859528,  0.06244673,\n",
            "        0.20523684,  0.01861492,  0.06425231, -0.02249907, -0.07091098,\n",
            "       -0.07325181,  0.2084343 , -0.17575033,  0.07133758, -0.10938544,\n",
            "       -0.11724368,  0.10996392,  0.1083309 ,  0.10427309,  0.08285031,\n",
            "        0.20777188, -0.14768651, -0.07698389, -0.09100618,  0.39786392,\n",
            "        0.34481773,  0.15607099,  0.08157285,  0.24700567, -0.06829854],\n",
            "      dtype=float32), array([-1.9035503e+00,  2.4111722e+00,  1.8592024e+00, -2.9561347e-01,\n",
            "        1.6814068e-01,  3.5835714e+00,  4.1270283e-01,  2.2268434e+00,\n",
            "        3.1417792e+00, -4.4395202e-01,  3.2328939e+00, -8.5737026e-01,\n",
            "       -3.0217392e+00,  1.4033093e-01, -7.5360872e-02, -1.5738539e+00,\n",
            "       -1.0401442e+00,  4.0825644e+00,  1.2216502e+00, -1.5121673e+00,\n",
            "        1.1804150e+00, -1.8714241e+00,  1.2207218e+00,  2.5920479e+00,\n",
            "       -6.9833390e-02,  6.2384081e-01, -4.8289964e-01, -1.8340149e+00,\n",
            "        1.7117981e+00,  4.5518869e-01, -2.5192502e-01,  1.2251000e+00,\n",
            "        1.6362717e+00, -3.9152798e-01, -9.8521823e-01, -2.6828766e+00,\n",
            "       -1.3267708e+00, -2.4285395e+00,  4.8078299e-01, -4.0944877e+00,\n",
            "        9.1717952e-01, -7.3684150e-01,  6.4267218e-01, -5.1085407e-01,\n",
            "       -9.5890832e-01,  8.7519932e-01,  1.2198946e+00, -1.4953878e+00,\n",
            "       -2.9396608e+00,  1.7559019e+00,  2.4436674e+00,  6.4416182e-01,\n",
            "        1.3306676e+00,  7.6638810e-02, -1.9367365e+00,  1.6475081e-01,\n",
            "       -5.9050047e-01, -7.1907061e-01, -1.8000686e+00,  3.5813668e-01,\n",
            "       -3.4066486e+00,  8.2166143e-02, -1.0583380e+00,  3.6603816e+00,\n",
            "       -2.2419672e+00, -5.5253100e-01,  6.7817450e-01, -1.4220182e+00,\n",
            "       -3.4591503e+00,  2.7660736e-01, -1.3843442e-01,  2.7951714e-01,\n",
            "        3.1020484e+00, -2.2065020e+00, -2.9302138e-01,  1.7889688e+00,\n",
            "        1.2886432e+00, -1.1435746e+00, -3.6350551e-01,  1.2797494e+00,\n",
            "       -4.0896639e-04,  1.1893052e+00,  2.3119588e-01,  1.3465407e+00,\n",
            "       -1.9948531e+00,  2.2002373e+00,  1.6822802e+00, -1.4058000e+00,\n",
            "        5.7141658e-02,  2.2499626e+00,  1.0080357e+00, -3.1740928e-01,\n",
            "       -3.3932326e+00, -9.7673011e-01, -1.4652493e+00,  2.0634379e+00,\n",
            "        3.7213862e+00, -2.3283811e+00,  1.6019905e+00,  4.8884228e-01],\n",
            "      dtype=float32), array([-2.2941349 ,  0.5223826 , -0.6727176 , -2.1539106 , -1.0710986 ,\n",
            "        2.6147223 , -1.3654119 ,  2.759111  ,  3.1130006 ,  0.5464659 ,\n",
            "        2.0415614 , -0.6863778 , -3.0117142 ,  0.78047734,  0.9212255 ,\n",
            "       -2.5433097 , -2.2408745 ,  1.2826455 ,  1.1665796 , -1.2988577 ,\n",
            "        1.0221163 ,  0.6928185 ,  1.0615689 , -0.37490326,  1.621923  ,\n",
            "       -0.09071643,  0.20209771,  0.17974909,  0.9540543 , -0.77337795,\n",
            "       -0.20161702, -1.4518905 , -0.20389183, -1.2826415 , -0.50737226,\n",
            "        1.8582879 , -2.1164677 , -1.9080381 , -1.0666304 , -2.8050394 ,\n",
            "       -0.3501659 , -0.3161233 , -0.6905629 , -0.5895436 , -0.32805008,\n",
            "        3.1087527 ,  0.34396246,  0.38088623, -2.0479436 , -0.1412327 ,\n",
            "        0.59501666,  0.3892694 ,  0.20890799, -0.5098063 ,  0.09174196,\n",
            "        2.6459484 ,  0.3590464 , -0.41760507, -2.153427  , -0.76967007,\n",
            "       -1.5943418 ,  1.3719363 , -1.7156918 ,  0.8449092 , -2.7174537 ,\n",
            "        0.21697766,  0.49819094, -0.04682941, -1.5922434 , -0.81778497,\n",
            "       -0.13517587,  2.227852  ,  0.65785325, -2.400424  , -1.7033592 ,\n",
            "        0.06806386,  1.0777665 , -2.0788286 ,  0.19146647,  2.4601717 ,\n",
            "        0.91038936, -0.15492629, -0.517294  ,  0.00944006, -3.439379  ,\n",
            "        1.995142  ,  0.0832384 ,  0.24359092, -0.35415277,  1.7432255 ,\n",
            "       -0.04971658,  0.9813893 , -3.9063728 , -0.786363  , -0.44835764,\n",
            "        1.4045222 ,  2.6957757 , -1.4623787 , -0.93060064, -0.5380369 ],\n",
            "      dtype=float32), array([-3.17116284e+00,  1.27362895e+00,  1.94074249e+00,  1.25196266e+00,\n",
            "       -1.71354163e+00,  1.89329886e+00, -7.29054689e-01,  7.59985089e-01,\n",
            "        2.37114906e+00, -1.16118856e-01,  3.16601801e+00,  1.68341029e+00,\n",
            "       -8.52370918e-01,  3.40477967e+00,  6.91775739e-01, -2.90952229e+00,\n",
            "        3.84839952e-01,  2.42555404e+00,  1.42771137e+00, -2.56769681e+00,\n",
            "       -1.77253604e-01, -1.52610850e+00, -3.92430335e-01,  1.90009034e+00,\n",
            "        1.90618324e+00,  1.41517425e+00,  1.98633623e+00,  6.97011948e-02,\n",
            "        1.28071058e+00,  4.16374385e-01,  8.28406662e-02,  2.06407952e+00,\n",
            "        1.27360094e+00,  5.98037660e-01, -8.31329167e-01, -9.96946692e-01,\n",
            "        2.03030181e+00, -1.18425536e+00, -1.99167395e+00, -4.38893509e+00,\n",
            "        1.28480053e+00,  1.18794546e-01, -1.97602034e+00,  7.82758653e-01,\n",
            "       -1.85357654e+00, -1.80767616e-03, -7.17686057e-01, -1.28575814e+00,\n",
            "        1.13270152e+00,  1.03571033e+00,  7.11857259e-01,  4.42004919e-01,\n",
            "       -1.18130632e-01,  1.12990189e+00,  2.41057277e+00, -1.33063436e+00,\n",
            "       -1.06278551e+00, -8.92936110e-01, -1.26508701e+00,  8.66677761e-02,\n",
            "       -1.11859512e+00,  4.36408311e-01, -2.05671191e+00,  9.77918983e-01,\n",
            "       -2.02639723e+00, -1.48742914e+00,  2.23614275e-01, -1.58831489e+00,\n",
            "       -2.40153217e+00, -1.92263532e+00, -9.66399610e-01,  1.85028684e+00,\n",
            "        1.68691170e+00, -1.87301433e+00,  1.39374435e+00, -1.44317955e-01,\n",
            "        2.59353429e-01,  8.52795839e-02, -1.13131702e+00,  2.22148299e+00,\n",
            "        1.47094452e+00,  2.70204043e+00,  2.05466962e+00,  7.49290466e-01,\n",
            "       -2.57239985e+00, -1.67331970e+00,  3.35020018e+00,  4.15160865e-01,\n",
            "        8.13532114e-01,  1.87516952e+00,  3.53374958e+00,  4.53563184e-01,\n",
            "       -7.19495952e-01,  9.59388614e-02,  3.14396977e-01,  3.59049249e+00,\n",
            "        1.39015722e+00, -2.03141809e+00,  8.62551272e-01, -1.58864880e+00],\n",
            "      dtype=float32), array([-4.9167210e-01, -8.8057923e-01,  4.7463756e+00,  2.8215539e-01,\n",
            "       -1.2703481e+00,  3.1346319e+00, -2.3673193e+00,  4.2212429e+00,\n",
            "        1.4861664e+00,  1.6717381e+00,  1.4261484e+00, -1.8587592e+00,\n",
            "        2.5633352e+00,  7.8617382e-01,  2.7126020e-01, -8.1668657e-01,\n",
            "       -1.1626354e+00, -2.3494315e+00,  2.3902459e+00, -6.9087166e-01,\n",
            "        4.1728711e+00, -1.1889015e+00,  1.4508309e+00, -1.8752409e+00,\n",
            "       -3.4501739e+00,  1.9055891e+00,  1.6403104e-01, -1.7828864e+00,\n",
            "       -1.7615288e+00, -5.3676873e-01,  6.7826188e-01, -1.6823120e-01,\n",
            "       -2.5250236e-02, -3.2917339e-01, -2.4065295e-01,  7.8198427e-01,\n",
            "       -1.9398944e+00, -1.8250640e-01,  2.2836337e+00, -2.2053008e+00,\n",
            "        1.6093642e+00,  1.9237058e+00, -2.1202729e+00,  1.9715790e+00,\n",
            "        1.6820110e+00, -2.7434355e-01, -1.9774662e+00,  2.9194438e+00,\n",
            "       -9.6286201e-01, -1.0726073e+00, -1.1611924e+00, -1.9276826e+00,\n",
            "        2.0434825e+00, -3.8221591e+00, -1.4732906e+00,  1.4966432e+00,\n",
            "       -1.1357008e+00, -1.4473799e+00,  1.7776271e+00, -1.6963549e+00,\n",
            "       -4.1296782e+00,  3.6948934e-01,  3.6069602e-02,  1.1246294e+00,\n",
            "       -2.5147852e-01, -1.7223787e-01, -5.1388121e-01, -1.5836493e+00,\n",
            "        2.9158258e-01, -2.1590183e+00,  7.9873401e-01,  7.7762678e-03,\n",
            "       -1.9574611e+00, -1.6840769e+00,  7.0277286e-01,  1.9497845e-01,\n",
            "        1.7393225e+00, -1.2110746e+00, -2.6509967e+00,  9.2866093e-01,\n",
            "        7.6827407e-01,  1.1465981e+00, -6.1770126e-02,  5.6065887e-01,\n",
            "       -7.1338165e-01, -9.7941798e-01,  1.2041258e+00,  5.9313524e-01,\n",
            "        4.3715010e+00,  1.0256718e+00,  8.3580804e-01, -5.5921382e-01,\n",
            "       -1.5653785e+00,  1.2755001e+00, -1.9498494e-01, -6.3861645e-04,\n",
            "       -2.8438175e-01, -1.1899943e+00,  1.8290403e+00, -3.2002106e+00],\n",
            "      dtype=float32)]\n"
          ]
        }
      ],
      "source": [
        "print(X[0])"
      ]
    },
    {
      "cell_type": "code",
      "execution_count": null,
      "metadata": {
        "id": "CPbA633NetN1"
      },
      "outputs": [],
      "source": [
        "X = pad_sequences(X) # 將整數序列填充到相同的長度\n",
        "y = pd.get_dummies(new_data['target']).values # 將目標變量轉換為二進制矩陣"
      ]
    },
    {
      "cell_type": "markdown",
      "metadata": {
        "id": "tW3taDVsetN1"
      },
      "source": [
        "#### Origin"
      ]
    },
    {
      "cell_type": "code",
      "execution_count": null,
      "metadata": {
        "id": "oMfKuOqdetN1"
      },
      "outputs": [],
      "source": [
        "max_features = len(words)\n",
        "tokenizer_keras = Tokenizer(num_words=max_features, split=' ') # 創建標記器\n",
        "tokenizer_keras.fit_on_texts(new_data['text'].values) # 基於文本數據創建標記詞庫\n",
        "X = tokenizer_keras.texts_to_sequences(new_data['text'].values) # 將文本轉換為整數序列\n",
        "X = pad_sequences(X) # 將整數序列填充到相同的長度\n",
        "y = pd.get_dummies(new_data['target']).values # 將目標變量轉換為二進制矩陣"
      ]
    },
    {
      "cell_type": "markdown",
      "metadata": {
        "id": "PxLQ2-Q9etN1"
      },
      "source": [
        "#### Split Data (Word2Vec)"
      ]
    },
    {
      "cell_type": "code",
      "execution_count": null,
      "metadata": {
        "id": "98xYyQjretN1",
        "outputId": "b5a3d342-d945-4abe-a454-946b3e7a94a9"
      },
      "outputs": [
        {
          "name": "stdout",
          "output_type": "stream",
          "text": [
            "(1280000, 38, 100)\n",
            "(320000, 38, 100)\n",
            "(1280000, 2)\n",
            "(320000, 2)\n"
          ]
        }
      ],
      "source": [
        "from sklearn.model_selection import train_test_split\n",
        "\n",
        "x_train, x_test, y_train, y_test = train_test_split(X, y, test_size=0.2, random_state=42)\n",
        "\n",
        "print(x_train.shape)\n",
        "print(x_test.shape)\n",
        "print(y_train.shape)\n",
        "print(y_test.shape)"
      ]
    },
    {
      "cell_type": "code",
      "execution_count": null,
      "metadata": {
        "id": "LctcZ5N9etN1"
      },
      "outputs": [],
      "source": [
        "# validation_size = 240000\n",
        "\n",
        "# x_validate = x_test[-validation_size:]\n",
        "# y_validate = y_test[-validation_size:]\n",
        "# x_test = x_test[:-validation_size]\n",
        "# y_test = y_test[:-validation_size]"
      ]
    },
    {
      "cell_type": "code",
      "execution_count": null,
      "metadata": {
        "id": "z0rxLSsoetN1",
        "outputId": "e352331a-d433-4ce2-d1b0-e76c02f78b1d"
      },
      "outputs": [
        {
          "name": "stdout",
          "output_type": "stream",
          "text": [
            "[False  True]\n"
          ]
        }
      ],
      "source": [
        "print(y_test[0])"
      ]
    },
    {
      "cell_type": "markdown",
      "metadata": {
        "id": "8vMkg71uetN1"
      },
      "source": [
        "#### Word2Vec Model & Train"
      ]
    },
    {
      "cell_type": "code",
      "execution_count": null,
      "metadata": {
        "id": "4jQWRoHhetN1",
        "outputId": "5a606bc5-41ce-466d-c8d9-0cb795038850"
      },
      "outputs": [
        {
          "name": "stdout",
          "output_type": "stream",
          "text": [
            "Model: \"sequential_4\"\n",
            "_________________________________________________________________\n",
            " Layer (type)                Output Shape              Param #   \n",
            "=================================================================\n",
            " spatial_dropout1d_4 (Spati  (None, 38, 100)           0         \n",
            " alDropout1D)                                                    \n",
            "                                                                 \n",
            " lstm_4 (LSTM)               (None, 196)               232848    \n",
            "                                                                 \n",
            " dense_8 (Dense)             (None, 10)                1970      \n",
            "                                                                 \n",
            " dense_9 (Dense)             (None, 2)                 22        \n",
            "                                                                 \n",
            "=================================================================\n",
            "Total params: 234840 (917.34 KB)\n",
            "Trainable params: 234840 (917.34 KB)\n",
            "Non-trainable params: 0 (0.00 Byte)\n",
            "_________________________________________________________________\n",
            "None\n"
          ]
        }
      ],
      "source": [
        "import tensorflow as tf\n",
        "from keras.models import Sequential\n",
        "from keras.layers import Dense, Embedding, LSTM, SpatialDropout1D, Dropout\n",
        "from keras.optimizers import Adam\n",
        "from keras.regularizers import L2\n",
        "\n",
        "embed_dim = 128\n",
        "LSTM_out = 196\n",
        "\n",
        "mx_features = 10000\n",
        "\n",
        "model = Sequential()\n",
        "\n",
        "# model.add(Embedding(mx_features, embed_dim, input_length = X.shape[1]))\n",
        "model.add(SpatialDropout1D(0.4, input_shape=(X.shape[1], X.shape[2])))\n",
        "model.add(LSTM(units=LSTM_out, dropout=0.2))\n",
        "model.add(Dense(units=10, activation='relu'))\n",
        "# model.add(Dropout(0.25))\n",
        "model.add(Dense(2, activation='softmax', kernel_regularizer=L2(0.01)))\n",
        "\n",
        "model.compile(loss = 'categorical_crossentropy', optimizer='adam', metrics = ['accuracy'])\n",
        "\n",
        "print(model.summary())"
      ]
    },
    {
      "cell_type": "code",
      "execution_count": null,
      "metadata": {
        "id": "qB9M2ARnetN1",
        "outputId": "6286424b-4581-4e62-c6c6-d4a8357bbeef"
      },
      "outputs": [
        {
          "name": "stdout",
          "output_type": "stream",
          "text": [
            "Epoch 1/5\n",
            "10000/10000 [==============================] - 190s 19ms/step - loss: 0.5214 - accuracy: 0.7420 - val_loss: 0.4736 - val_accuracy: 0.7729\n",
            "Epoch 2/5\n",
            "10000/10000 [==============================] - 190s 19ms/step - loss: 0.5080 - accuracy: 0.7496 - val_loss: 0.4655 - val_accuracy: 0.7778\n",
            "Epoch 3/5\n",
            "10000/10000 [==============================] - 189s 19ms/step - loss: 0.5061 - accuracy: 0.7513 - val_loss: 0.5057 - val_accuracy: 0.7508\n",
            "Epoch 4/5\n",
            "10000/10000 [==============================] - 192s 19ms/step - loss: 0.5005 - accuracy: 0.7548 - val_loss: 0.4864 - val_accuracy: 0.7725\n",
            "Epoch 5/5\n",
            "10000/10000 [==============================] - 188s 19ms/step - loss: 0.4960 - accuracy: 0.7579 - val_loss: 0.4677 - val_accuracy: 0.7833\n"
          ]
        }
      ],
      "source": [
        "from keras import callbacks\n",
        "\n",
        "# 連續3次val_loss沒有改善，就停止訓練\n",
        "early_stopping = callbacks.EarlyStopping(monitor=\"val_loss\", patience=3, mode=\"min\", restore_best_weights=True)\n",
        "\n",
        "history = model.fit(x_train, y_train, batch_size = 128, epochs = 5, validation_data = (x_test, y_test), callbacks=[early_stopping])"
      ]
    },
    {
      "cell_type": "markdown",
      "metadata": {
        "id": "bnfymqg1etN1"
      },
      "source": [
        "#### Split Data (Origin)"
      ]
    },
    {
      "cell_type": "code",
      "execution_count": null,
      "metadata": {
        "id": "gQWVhy66etN2"
      },
      "outputs": [],
      "source": [
        "from sklearn.model_selection import train_test_split\n",
        "\n",
        "x_train, x_test, y_train, y_test = train_test_split(X, y, test_size=0.2, random_state=42)\n",
        "\n",
        "print(x_train.shape)\n",
        "print(x_test.shape)\n",
        "print(y_train.shape)\n",
        "print(y_test.shape)"
      ]
    },
    {
      "cell_type": "markdown",
      "metadata": {
        "id": "Fy2HXrIyetN2"
      },
      "source": [
        "#### Load & Train Model"
      ]
    },
    {
      "cell_type": "code",
      "execution_count": null,
      "metadata": {
        "id": "Fp9I8ZUnetN2",
        "outputId": "4583b964-b45d-4f00-8b94-89751769557d"
      },
      "outputs": [
        {
          "name": "stdout",
          "output_type": "stream",
          "text": [
            "Model: \"sequential\"\n",
            "_________________________________________________________________\n",
            " Layer (type)                Output Shape              Param #   \n",
            "=================================================================\n",
            " embedding (Embedding)       (None, 38, 128)           1280000   \n",
            "                                                                 \n",
            " spatial_dropout1d (Spatial  (None, 38, 128)           0         \n",
            " Dropout1D)                                                      \n",
            "                                                                 \n",
            " lstm (LSTM)                 (None, 196)               254800    \n",
            "                                                                 \n",
            " dense (Dense)               (None, 10)                1970      \n",
            "                                                                 \n",
            " dense_1 (Dense)             (None, 2)                 22        \n",
            "                                                                 \n",
            "=================================================================\n",
            "Total params: 1536792 (5.86 MB)\n",
            "Trainable params: 1536792 (5.86 MB)\n",
            "Non-trainable params: 0 (0.00 Byte)\n",
            "_________________________________________________________________\n",
            "None\n"
          ]
        }
      ],
      "source": [
        "import tensorflow as tf\n",
        "from keras.models import Sequential\n",
        "from keras.layers import Dense, Embedding, LSTM, SpatialDropout1D\n",
        "from keras.optimizers import Adam\n",
        "from keras.regularizers import L2\n",
        "\n",
        "embed_dim = 128\n",
        "LSTM_out = 196\n",
        "\n",
        "mx_features = 10000\n",
        "\n",
        "model = Sequential()\n",
        "\n",
        "model.add(Embedding(mx_features, embed_dim, input_length = X.shape[1]))\n",
        "model.add(SpatialDropout1D(0.4))\n",
        "\n",
        "model.add(LSTM(units=LSTM_out, dropout=0.2))\n",
        "model.add(Dense(units=10, activation='relu'))\n",
        "model.add(Dense(2, activation='softmax', kernel_regularizer=L2(0.01)))\n",
        "\n",
        "model.compile(loss = 'categorical_crossentropy', optimizer='adam', metrics = ['accuracy'])\n",
        "\n",
        "print(model.summary())"
      ]
    },
    {
      "cell_type": "code",
      "execution_count": null,
      "metadata": {
        "id": "81luU2FgetN2",
        "outputId": "cf47611a-34d7-4a31-a0bc-c3914f1eb3a7"
      },
      "outputs": [
        {
          "name": "stdout",
          "output_type": "stream",
          "text": [
            "Epoch 1/5\n",
            "10000/10000 [==============================] - 245s 24ms/step - loss: 0.4473 - accuracy: 0.7908 - val_loss: 0.4157 - val_accuracy: 0.8073\n",
            "Epoch 2/5\n",
            "10000/10000 [==============================] - 263s 26ms/step - loss: 0.4117 - accuracy: 0.8097 - val_loss: 0.4091 - val_accuracy: 0.8108\n",
            "Epoch 3/5\n",
            "10000/10000 [==============================] - 286s 29ms/step - loss: 0.4025 - accuracy: 0.8132 - val_loss: 0.4062 - val_accuracy: 0.8120\n",
            "Epoch 4/5\n",
            "10000/10000 [==============================] - 285s 29ms/step - loss: 0.3990 - accuracy: 0.8143 - val_loss: 0.4102 - val_accuracy: 0.8109\n",
            "Epoch 5/5\n",
            "10000/10000 [==============================] - 285s 29ms/step - loss: 0.4014 - accuracy: 0.8126 - val_loss: 0.4144 - val_accuracy: 0.8099\n"
          ]
        }
      ],
      "source": [
        "from keras import callbacks\n",
        "\n",
        "# 連續3次val_loss沒有改善，就停止訓練\n",
        "early_stopping = callbacks.EarlyStopping(monitor=\"val_loss\", patience=3, mode=\"min\", restore_best_weights=True)\n",
        "\n",
        "history = model.fit(x_train, y_train, batch_size = 128, epochs = 5, validation_data = (x_test, y_test), callbacks=[early_stopping])"
      ]
    },
    {
      "cell_type": "markdown",
      "metadata": {
        "id": "ktFMLC8TetN2"
      },
      "source": [
        "#### Show Classification Report (Word2Vec)"
      ]
    },
    {
      "cell_type": "code",
      "execution_count": null,
      "metadata": {
        "id": "PHOPcIDvetN2",
        "outputId": "0427649f-3acf-46e4-ec5a-095d1197c411"
      },
      "outputs": [
        {
          "name": "stdout",
          "output_type": "stream",
          "text": [
            "10000/10000 [==============================] - 44s 4ms/step\n",
            "Test Accuracy: 77.7819%\n",
            "\n",
            "              precision    recall  f1-score   support\n",
            "\n",
            "           0       0.79      0.76      0.77    160506\n",
            "           1       0.77      0.80      0.78    159494\n",
            "\n",
            "    accuracy                           0.78    320000\n",
            "   macro avg       0.78      0.78      0.78    320000\n",
            "weighted avg       0.78      0.78      0.78    320000\n",
            "\n"
          ]
        }
      ],
      "source": [
        "from sklearn.metrics import accuracy_score, classification_report\n",
        "\n",
        "y_pred = model.predict(x_test)\n",
        "y_pred = np.argmax(y_pred, axis=1)\n",
        "y_test_cmp = np.argmax(y_test, axis=1)\n",
        "\n",
        "print(f\"Test Accuracy: {(accuracy_score(y_test_cmp, y_pred)*100):.4f}%\\n\")\n",
        "print(classification_report(y_test_cmp, y_pred))"
      ]
    },
    {
      "cell_type": "markdown",
      "metadata": {
        "id": "Y0aNbVRwetN2"
      },
      "source": [
        "#### Train & Test Plot (Word2Vec)"
      ]
    },
    {
      "cell_type": "markdown",
      "metadata": {
        "id": "HoNVKtxvetN2"
      },
      "source": [
        "##### Accuracy"
      ]
    },
    {
      "cell_type": "code",
      "execution_count": null,
      "metadata": {
        "id": "BMT23Fw7etN2",
        "outputId": "b6508550-ecfa-40c5-b68b-6d6714781a96"
      },
      "outputs": [
        {
          "data": {
            "image/png": "[encoded data removed]",
            "text/plain": [
              "<Figure size 640x480 with 1 Axes>"
            ]
          },
          "metadata": {},
          "output_type": "display_data"
        }
      ],
      "source": [
        "plt.plot(history.history['accuracy'])\n",
        "plt.plot(history.history['val_accuracy'])\n",
        "\n",
        "plt.title('Model accuracy')\n",
        "plt.ylabel('Accuracy')\n",
        "plt.xlabel('Epoch')\n",
        "plt.legend(['train', 'validation'], loc='upper left')\n",
        "plt.show()"
      ]
    },
    {
      "cell_type": "markdown",
      "metadata": {
        "id": "INW1wp1XetN2"
      },
      "source": [
        "##### Loss"
      ]
    },
    {
      "cell_type": "code",
      "execution_count": null,
      "metadata": {
        "id": "9lDiRCvLetN2",
        "outputId": "a8cee49a-7d25-4035-db39-8f6744e9bda0"
      },
      "outputs": [
        {
          "data": {
            "image/png": "[encoded data removed]",
            "text/plain": [
              "<Figure size 640x480 with 1 Axes>"
            ]
          },
          "metadata": {},
          "output_type": "display_data"
        }
      ],
      "source": [
        "plt.plot(history.history['loss'])\n",
        "plt.plot(history.history['val_loss'])\n",
        "\n",
        "plt.title('Model loss')\n",
        "plt.ylabel('Loss')\n",
        "plt.xlabel('Epoch')\n",
        "plt.legend(['train', 'validation'], loc='upper left')\n",
        "plt.show()"
      ]
    },
    {
      "cell_type": "code",
      "execution_count": null,
      "metadata": {
        "id": "Nwvq_MluetN2",
        "outputId": "a9b8c94e-cff9-4991-c2b5-994309dfcfe3"
      },
      "outputs": [
        {
          "data": {
            "image/png": "[encoded data removed]",
            "text/plain": [
              "<Figure size 640x480 with 1 Axes>"
            ]
          },
          "metadata": {},
          "output_type": "display_data"
        }
      ],
      "source": [
        "# Draw the ROC curve\n",
        "from sklearn.metrics import roc_curve, auc\n",
        "\n",
        "fpr, tpr, thresholds = roc_curve(y_test_cmp, y_pred)\n",
        "roc_auc = auc(fpr, tpr)\n",
        "\n",
        "plt.figure()\n",
        "plt.plot(fpr, tpr, color='darkorange', lw=2, label='ROC curve (area = %0.2f)' % roc_auc)\n",
        "plt.plot([0, 1], [0, 1], color='navy', lw=2, linestyle='--')\n",
        "plt.xlim([0.0, 1.0])\n",
        "plt.ylim([0.0, 1.05])\n",
        "plt.xlabel('False Positive Rate')\n",
        "plt.ylabel('True Positive Rate')\n",
        "plt.title('Receiver Operating Characteristic')\n",
        "plt.legend(loc=\"lower right\")\n",
        "plt.show()"
      ]
    },
    {
      "cell_type": "markdown",
      "metadata": {
        "id": "PyD-Hqg3etN2"
      },
      "source": [
        "#### Save Model"
      ]
    },
    {
      "cell_type": "code",
      "execution_count": null,
      "metadata": {
        "id": "oYrH4JBvetN2"
      },
      "outputs": [],
      "source": [
        "# save the model\n",
        "# model.save(\"sentiment_analysis.h5\")"
      ]
    },
    {
      "cell_type": "code",
      "execution_count": null,
      "metadata": {
        "id": "lkIA11aketN2",
        "outputId": "688b2c28-12ba-40f5-cf64-12d6fce7366c"
      },
      "outputs": [
        {
          "name": "stdout",
          "output_type": "stream",
          "text": [
            "1/1 [==============================] - 0s 214ms/step\n",
            "0\n"
          ]
        }
      ],
      "source": [
        "# load the model\n",
        "from keras.models import load_model\n",
        "\n",
        "model = load_model(\"sentiment_analysis.h5\")\n",
        "\n",
        "# predict the sentiment\n",
        "def predict_sentiment(text):\n",
        "    text = tokenizer_keras.texts_to_sequences([text])\n",
        "    text = pad_sequences(text, maxlen=38)\n",
        "    sentiment = model.predict(text)\n",
        "    return np.argmax(sentiment)\n",
        "\n",
        "text = \"I hate you\"\n",
        "print(predict_sentiment(text))"
      ]
    },
    {
      "cell_type": "code",
      "execution_count": null,
      "metadata": {
        "id": "K6DpuhRzetN2",
        "outputId": "832f224c-bbfc-4713-bfb6-7967a6e6b93b"
      },
      "outputs": [
        {
          "name": "stdout",
          "output_type": "stream",
          "text": [
            "1/1 [==============================] - 0s 13ms/step\n",
            "Positive\n"
          ]
        }
      ],
      "source": [
        "def Pred (text):\n",
        "    data = predict_sentiment(text)\n",
        "    if data == 0: return 'Negative'\n",
        "    return 'Positive'\n",
        "\n",
        "print(Pred('I love you'))"
      ]
    },
    {
      "cell_type": "code",
      "execution_count": null,
      "metadata": {
        "id": "EBFQWi_qetN3",
        "outputId": "2dd19a8f-2b99-4f8a-e392-fd79074b7146"
      },
      "outputs": [
        {
          "name": "stdout",
          "output_type": "stream",
          "text": [
            "1/1 [==============================] - 0s 19ms/step\n",
            "Negative\n"
          ]
        }
      ],
      "source": [
        "txt = \"I was disappointed to me. I Hate myself.\"\n",
        "print(Pred(txt))"
      ]
    },
    {
      "cell_type": "code",
      "execution_count": null,
      "metadata": {
        "id": "Xo90Q4z6etN3",
        "outputId": "2944b27d-a888-45dc-b8c4-d90b967af641"
      },
      "outputs": [
        {
          "name": "stdout",
          "output_type": "stream",
          "text": [
            "1/1 [==============================] - 0s 16ms/step\n",
            "Negative\n"
          ]
        }
      ],
      "source": [
        "txt2 = \"Hollis' death scene will hurt me severely to watch on film  wry is directors cut not out now?\"\n",
        "print(Pred(txt2))"
      ]
    },
    {
      "cell_type": "code",
      "execution_count": null,
      "metadata": {
        "id": "gMtvu03wetN3",
        "outputId": "6232c734-b212-4526-f792-08394f0ab7e5"
      },
      "outputs": [
        {
          "name": "stdout",
          "output_type": "stream",
          "text": [
            "1/1 [==============================] - 0s 11ms/step\n",
            "Positive\n"
          ]
        }
      ],
      "source": [
        "txt3 = \"my whole body feels itchy and like its on fire\"\n",
        "print(Pred(txt3))"
      ]
    },
    {
      "cell_type": "code",
      "execution_count": null,
      "metadata": {
        "id": "3OwXAWVtetN3"
      },
      "outputs": [],
      "source": []
    },
    {
      "cell_type": "markdown",
      "metadata": {
        "id": "XRzpkEX5etN3"
      },
      "source": [
        "#### Use Bert"
      ]
    },
    {
      "cell_type": "code",
      "execution_count": null,
      "metadata": {
        "colab": {
          "base_uri": "https://localhost:8080/",
          "height": 177,
          "referenced_widgets": [
            "83bd96da90de4b0684d5d7f0039b777c",
            "be191374e5f54d2fa4cdab09846220f5",
            "86d0a90edf6741c48c0deaf5a53ddd39",
            "358eda66ffb143d7ae9fa7f62a7330ba",
            "dc6220d172c54eeba117d8e005d475c6",
            "9fe37cd54fe1462db0e5e1e2bac2be74",
            "a9fe674d1643434da7f22371204fdeb2",
            "994a0b559392431baaefa6bf3fa99f9f",
            "f427d567f430416a9d3527f88be159c6",
            "245338ff0a294f07a34e7afc78e8ef8f",
            "51d96ea350664ca0bbed67ec73083d84",
            "332d75009fdd4fefb0f23cf484e5fcbc",
            "3aa1ae216b54440da6ece3c15fd32eb9",
            "409796c5790d420db256c0af0c68af73",
            "8a365cf19022438ca07292b62a206a62",
            "eafb69d8a74b4f9abcb94518bd7223c3",
            "a1228cae4dbd4845baa0c80de96701ae",
            "fcdc8e690e2a48378bb67290f05377bb",
            "634b715df0794d71b6d85356b8f9c20e",
            "455e91d2a17646a7afca3a1119bd9bf5",
            "d3a29e80e01549a5bd190ecbebbb819e",
            "ecd9da6f7bb04463865886d8309a96f3",
            "ea8c71db4f3049a4adf7485e07bf8c3f",
            "d555c4af9012446a8365d49d6cb98936",
            "3c76379265a04bfeb7bbf4b90f28c7e2",
            "805d2439b66c44b6952bc673117cf01c",
            "ee34f8f37b894db993b732cc44ab1729",
            "00ee5472a8fc46c1ae7f783587942ea0",
            "6ba38ff88f874ad288f5e74a23ed2e22",
            "7f236c5d0feb4d33bac6f26a6a65e479",
            "ea6f66d5267f468b80f8dd540f8c41d4",
            "1870a1cbcd68425dae84258bf411bfda",
            "c98774640d4045bd947a7dca4dd9eb47",
            "c497efad952c444fb7a75f5fc2c04dee",
            "3f3225d411f94e75ae41a9933a3b5174",
            "727564d4caa744509bd4edae9eb3791f",
            "bfe4c0b43a244eaa98c7f843dd1b9ef7",
            "f51d14c5298e4d3aa029f3677d16cc4c",
            "ff24f419aafd412b96db5b19a643141b",
            "b6853c1b90b94d689759643898171e8a",
            "6e7a12ea22984e5eb27fd9d8093095f5",
            "2c54f466a0c247b88356520cc75fbfc8",
            "c8de460e597a49cb8103b6718c451f56",
            "cce2d823201a4f7eba743b4a594712aa",
            "1073e14de3b64af48a8e33bddd2e8993",
            "e7991fab9fb043ab97a6b3c46c73b4e4",
            "6336e12e56f348049ef1a0ee6f4801fb",
            "51086f2b46344ab6ac6c7734e753daa2",
            "067202ef213a4f82ad6ca2da0af2cc3c",
            "8095f30072a34bc1897c32fd9bdc5341",
            "927c212b916841fbb79af549f48f3f99",
            "ed4ff5dc52154abdb5a8358d17b36b66",
            "9f50b56a3ee6419eb0114b5c95ad9bf1",
            "dd6c6efc412146a882f589f9642931e3",
            "a029bac4e1034dd5bbd58d23bb6ad0f4"
          ]
        },
        "id": "Wj8SC_STetN3",
        "outputId": "b24de1ee-40a1-4c59-ad89-6a192176bf99"
      },
      "outputs": [
        {
          "data": {
            "application/vnd.jupyter.widget-view+json": {
              "model_id": "83bd96da90de4b0684d5d7f0039b777c",
              "version_major": 2,
              "version_minor": 0
            },
            "text/plain": [
              "tokenizer_config.json:   0%|          | 0.00/48.0 [00:00<?, ?B/s]"
            ]
          },
          "metadata": {},
          "output_type": "display_data"
        },
        {
          "data": {
            "application/vnd.jupyter.widget-view+json": {
              "model_id": "332d75009fdd4fefb0f23cf484e5fcbc",
              "version_major": 2,
              "version_minor": 0
            },
            "text/plain": [
              "vocab.txt:   0%|          | 0.00/232k [00:00<?, ?B/s]"
            ]
          },
          "metadata": {},
          "output_type": "display_data"
        },
        {
          "data": {
            "application/vnd.jupyter.widget-view+json": {
              "model_id": "ea8c71db4f3049a4adf7485e07bf8c3f",
              "version_major": 2,
              "version_minor": 0
            },
            "text/plain": [
              "tokenizer.json:   0%|          | 0.00/466k [00:00<?, ?B/s]"
            ]
          },
          "metadata": {},
          "output_type": "display_data"
        },
        {
          "data": {
            "application/vnd.jupyter.widget-view+json": {
              "model_id": "c497efad952c444fb7a75f5fc2c04dee",
              "version_major": 2,
              "version_minor": 0
            },
            "text/plain": [
              "config.json:   0%|          | 0.00/570 [00:00<?, ?B/s]"
            ]
          },
          "metadata": {},
          "output_type": "display_data"
        },
        {
          "data": {
            "application/vnd.jupyter.widget-view+json": {
              "model_id": "1073e14de3b64af48a8e33bddd2e8993",
              "version_major": 2,
              "version_minor": 0
            },
            "text/plain": [
              "model.safetensors:   0%|          | 0.00/440M [00:00<?, ?B/s]"
            ]
          },
          "metadata": {},
          "output_type": "display_data"
        }
      ],
      "source": [
        "# Use Bert to convert words\n",
        "import torch\n",
        "from transformers import BertTokenizer, BertModel\n",
        "\n",
        "# 检查是否有可用的GPU\n",
        "device = torch.device('cuda' if torch.cuda.is_available() else 'cpu')\n",
        "\n",
        "tokenizer = BertTokenizer.from_pretrained('bert-base-uncased')\n",
        "model = BertModel.from_pretrained('bert-base-uncased').to(device)\n",
        "\n",
        "# model.to(device)\n",
        "\n",
        "# X = new_data['text'].apply(lambda x: \" \".join(x))\n",
        "\n",
        "def to_bert (text, tokenizer, model):\n",
        "    inputs = tokenizer(text, return_tensors=\"pt\", padding=True, truncation=True)\n",
        "    inputs = {key: value.to(device) for key, value in inputs.items()}\n",
        "    with torch.no_grad():\n",
        "        outputs = model(**inputs)\n",
        "    return outputs.last_hidden_state.mean(dim=1).squeeze().cpu().numpy()\n"
      ]
    },
    {
      "cell_type": "code",
      "execution_count": null,
      "metadata": {
        "id": "6xQNZPCAgTF8"
      },
      "outputs": [],
      "source": [
        "def text_to_bert(text, tokenizer, model, device):\n",
        "    inputs = tokenizer(text, return_tensors='pt', truncation=True, padding=True, max_length=128).to(device)\n",
        "    with torch.no_grad():\n",
        "        outputs = model(**inputs)\n",
        "    return outputs.last_hidden_state.mean(dim=1).squeeze().cpu().numpy()\n",
        "\n",
        "\n",
        "bert_embeddings = []\n",
        "\n",
        "for i in range(0, len(new_data)):\n",
        "    batch_texts = new_data['text'].tolist()\n",
        "    batch_embeddings = [text_to_bert(text, tokenizer, model, device) for text in batch_texts]\n",
        "    bert_embeddings.extend(batch_embeddings)\n",
        "\n",
        "X = np.array(bert_embeddings)"
      ]
    },
    {
      "cell_type": "code",
      "execution_count": null,
      "metadata": {
        "id": "FtWHnXzqetN3",
        "outputId": "e034a8fc-5ec2-4972-a634-4998b551bc33"
      },
      "outputs": [
        {
          "name": "stdout",
          "output_type": "stream",
          "text": [
            "love health uandpet u guy r best\n"
          ]
        }
      ],
      "source": [
        "X = []\n",
        "for sentence in new_data['text']:\n",
        "    X.append(sentence)\n",
        "\n",
        "print(X[0])"
      ]
    },
    {
      "cell_type": "code",
      "execution_count": null,
      "metadata": {
        "id": "D8qbc1mGetN3",
        "outputId": "8bb7446d-1a30-44c8-add8-956c8d192efc"
      },
      "outputs": [
        {
          "name": "stdout",
          "output_type": "stream",
          "text": [
            "691491\n"
          ]
        }
      ],
      "source": [
        "all_words = set()\n",
        "for sentence in X:\n",
        "    words = sentence.split()\n",
        "    for word in words:\n",
        "        all_words.add(word)\n",
        "\n",
        "print(len(all_words))"
      ]
    },
    {
      "cell_type": "code",
      "execution_count": null,
      "metadata": {
        "id": "yMBAtGifetN3"
      },
      "outputs": [],
      "source": [
        "bert_embeddings = []\n",
        "batch_size = 128\n",
        "\n",
        "for text in all_words:\n",
        "    batch_embeddings = [to_bert(text, tokenizer, model)]\n",
        "    bert_embeddings.extend(batch_embeddings)\n",
        "\n",
        "# X_bert = np.array(bert_embeddings)\n",
        "# y = pd.get_dummies(new_data[\"target\"]).values"
      ]
    },
    {
      "cell_type": "code",
      "execution_count": null,
      "metadata": {
        "id": "jZEOdVC9etN3"
      },
      "outputs": [],
      "source": [
        "# establish the word to embedding dictionary\n",
        "word_to_embedding = {word: bert_embeddings[i] for i, word in enumerate(all_words)}\n"
      ]
    },
    {
      "cell_type": "markdown",
      "metadata": {
        "id": "iO6O-Yo5kKcN"
      },
      "source": [
        "#### Load Pre-trained result"
      ]
    },
    {
      "cell_type": "code",
      "execution_count": null,
      "metadata": {
        "id": "bfHEcqh8etN3"
      },
      "outputs": [],
      "source": [
        "# save the dictionary to a file\n",
        "import pickle\n",
        "\n",
        "# with open(\"word_to_embedding.pkl\", \"wb\") as f:\n",
        "#     pickle.dump(word_to_embedding, f)\n",
        "\n",
        "# load the dictionary\n",
        "# with open(\"word_to_embedding.pkl\", \"rb\") as f:\n",
        "#     word_to_embedding = pickle.load(f)\n",
        "with open(\"drive/MyDrive/Data/word_to_embedding.pkl\", \"rb\") as f:\n",
        "    word_to_embedding = pickle.load(f)\n"
      ]
    },
    {
      "cell_type": "code",
      "execution_count": null,
      "metadata": {
        "id": "WBRJ1dhCetN3"
      },
      "outputs": [],
      "source": [
        "def text_to_embedding(text, word_to_embedding, embedding_dim=768):\n",
        "    embeddings = [word_to_embedding[word] for word in text if word in word_to_embedding]\n",
        "    if embeddings:\n",
        "        return np.mean(embeddings, axis=0)\n",
        "    else:\n",
        "        return np.zeros(embedding_dim)"
      ]
    },
    {
      "cell_type": "code",
      "execution_count": 28,
      "metadata": {
        "id": "W_64TmRVfXsA"
      },
      "outputs": [],
      "source": [
        "df = None\n",
        "data = None\n",
        "dataset = None\n",
        "data_pos = None\n",
        "data_neg = None\n",
        "words = None\n",
        "\n",
        "choose_size = 40000\n",
        "new_data = new_data.sample(choose_size, random_state=42)"
      ]
    },
    {
      "cell_type": "code",
      "execution_count": null,
      "metadata": {
        "id": "CvUwzPGketN3"
      },
      "outputs": [],
      "source": [
        "new_data['embedding'] = new_data['text'].apply(lambda x: text_to_embedding(x, word_to_embedding))\n",
        "X = np.stack(new_data['embedding'].values)\n",
        "y = pd.get_dummies(new_data['target']).values"
      ]
    },
    {
      "cell_type": "code",
      "execution_count": null,
      "metadata": {
        "id": "2iFLpiXuiyP-"
      },
      "outputs": [],
      "source": [
        "word_to_embedding = None"
      ]
    },
    {
      "cell_type": "code",
      "execution_count": null,
      "metadata": {
        "id": "mpSGn6Xri-76"
      },
      "outputs": [],
      "source": [
        "new_data = None"
      ]
    },
    {
      "cell_type": "markdown",
      "metadata": {
        "id": "5lc4-BwqkcXf"
      },
      "source": [
        "#### Bert Split Data"
      ]
    },
    {
      "cell_type": "code",
      "execution_count": 27,
      "metadata": {
        "id": "QkM5cFxAyuMT"
      },
      "outputs": [],
      "source": [
        "df = None\n",
        "data = None\n",
        "dataset = None\n",
        "data_pos = None\n",
        "data_neg = None\n",
        "words = None\n",
        "\n",
        "choose_size = 40000\n",
        "new_data = new_data.sample(choose_size, random_state=42)"
      ]
    },
    {
      "cell_type": "code",
      "execution_count": 28,
      "metadata": {
        "colab": {
          "base_uri": "https://localhost:8080/"
        },
        "id": "CrTqi7c_etN3",
        "outputId": "7c7c5c00-064b-416c-b02f-22c72cf46015"
      },
      "outputs": [
        {
          "name": "stdout",
          "output_type": "stream",
          "text": [
            "(32000,)\n",
            "(8000,)\n",
            "(32000,)\n",
            "(8000,)\n"
          ]
        }
      ],
      "source": [
        "from sklearn.model_selection import train_test_split\n",
        "\n",
        "X = new_data['text']\n",
        "y = new_data['target']\n",
        "\n",
        "y = np.argmax(y, axis=1)\n",
        "y = np.array(y)\n",
        "# new_data = None\n",
        "\n",
        "x_train, x_test, y_train, y_test = train_test_split(X, y, test_size=0.2, random_state=42)\n",
        "\n",
        "print(x_train.shape)\n",
        "print(x_test.shape)\n",
        "print(y_train.shape)\n",
        "print(y_test.shape)"
      ]
    },
    {
      "cell_type": "code",
      "execution_count": 29,
      "metadata": {
        "id": "Iphmc7ccjoMT"
      },
      "outputs": [],
      "source": [
        "X = None\n",
        "y = None"
      ]
    },
    {
      "cell_type": "markdown",
      "metadata": {
        "id": "6HlFNXlUkfDB"
      },
      "source": [
        "#### Use Model (Bert)"
      ]
    },
    {
      "cell_type": "code",
      "execution_count": null,
      "metadata": {
        "colab": {
          "base_uri": "https://localhost:8080/"
        },
        "id": "qWGysKDIetN3",
        "outputId": "c75eaff5-5406-4701-89db-a39915989685"
      },
      "outputs": [
        {
          "name": "stdout",
          "output_type": "stream",
          "text": [
            "Model: \"sequential\"\n",
            "_________________________________________________________________\n",
            " Layer (type)                Output Shape              Param #   \n",
            "=================================================================\n",
            " dense (Dense)               (None, 128)               98432     \n",
            "                                                                 \n",
            " batch_normalization (Batch  (None, 128)               512       \n",
            " Normalization)                                                  \n",
            "                                                                 \n",
            " dropout (Dropout)           (None, 128)               0         \n",
            "                                                                 \n",
            " dense_1 (Dense)             (None, 64)                8256      \n",
            "                                                                 \n",
            " dropout_1 (Dropout)         (None, 64)                0         \n",
            "                                                                 \n",
            " dense_2 (Dense)             (None, 2)                 130       \n",
            "                                                                 \n",
            "=================================================================\n",
            "Total params: 107330 (419.26 KB)\n",
            "Trainable params: 107074 (418.26 KB)\n",
            "Non-trainable params: 256 (1.00 KB)\n",
            "_________________________________________________________________\n",
            "None\n"
          ]
        }
      ],
      "source": [
        "import tensorflow as tf\n",
        "from keras.models import Sequential\n",
        "from keras.layers import Dense, Embedding, LSTM, SpatialDropout1D, Dropout, BatchNormalization\n",
        "from keras.optimizers import Adam\n",
        "from keras.regularizers import L2\n",
        "\n",
        "embed_dim = 768\n",
        "\n",
        "model = Sequential()\n",
        "\n",
        "# model.add(SpatialDropout1D(0.4))\n",
        "\n",
        "# model.add(LSTM(units=LSTM_out, dropout=0.2, input_shape=(embed_dim, 768)))\n",
        "# model.add(Dense(128, input_shape=(768, ), activation='relu'))\n",
        "# model.add(Dropout(0.4))\n",
        "# model.add(Dense(units=10, activation='relu'))\n",
        "model.add(Dense(128, input_shape=(embed_dim, ), activation='relu'))\n",
        "model.add(BatchNormalization())\n",
        "model.add(Dropout(0.5))\n",
        "\n",
        "# model.add(Dense(128, activation='relu'))\n",
        "# model.add(Dropout(0.5))\n",
        "\n",
        "model.add(Dense(64, activation='relu'))\n",
        "model.add(Dropout(0.25))\n",
        "\n",
        "model.add(Dense(2, activation='softmax', kernel_regularizer=L2(0.01)))\n",
        "\n",
        "\n",
        "model.compile(loss = 'categorical_crossentropy', optimizer='adam', metrics = ['accuracy'])\n",
        "\n",
        "print(model.summary())"
      ]
    },
    {
      "cell_type": "code",
      "execution_count": null,
      "metadata": {
        "colab": {
          "base_uri": "https://localhost:8080/"
        },
        "id": "zM-3vtInetN3",
        "outputId": "ceff13e1-d440-4b48-f314-0a542789b1c7"
      },
      "outputs": [
        {
          "name": "stdout",
          "output_type": "stream",
          "text": [
            "Epoch 1/5\n",
            "2000/2000 [==============================] - 15s 4ms/step - loss: 0.6938 - accuracy: 0.5649 - val_loss: 0.6776 - val_accuracy: 0.5682\n",
            "Epoch 2/5\n",
            "2000/2000 [==============================] - 9s 5ms/step - loss: 0.6754 - accuracy: 0.5781 - val_loss: 0.6696 - val_accuracy: 0.5892\n",
            "Epoch 3/5\n",
            "2000/2000 [==============================] - 10s 5ms/step - loss: 0.6742 - accuracy: 0.5797 - val_loss: 0.6696 - val_accuracy: 0.5872\n",
            "Epoch 4/5\n",
            "2000/2000 [==============================] - 8s 4ms/step - loss: 0.6735 - accuracy: 0.5816 - val_loss: 0.7128 - val_accuracy: 0.5203\n",
            "Epoch 5/5\n",
            "2000/2000 [==============================] - 10s 5ms/step - loss: 0.6735 - accuracy: 0.5812 - val_loss: 0.6766 - val_accuracy: 0.5687\n"
          ]
        }
      ],
      "source": [
        "from keras import callbacks\n",
        "\n",
        "# 連續3次val_loss沒有改善，就停止訓練\n",
        "early_stopping = callbacks.EarlyStopping(monitor=\"val_loss\", patience=3, mode=\"min\", restore_best_weights=True)\n",
        "\n",
        "history = model.fit(x_train, y_train, batch_size = 128, epochs = 5, validation_data = (x_test, y_test), callbacks=[early_stopping])"
      ]
    },
    {
      "cell_type": "markdown",
      "metadata": {
        "id": "G6tGShYzyoZ7"
      },
      "source": [
        "#### Use Pre Load Bert Model (Successful version)"
      ]
    },
    {
      "cell_type": "code",
      "execution_count": 30,
      "metadata": {
        "id": "L4-xm666etN3"
      },
      "outputs": [],
      "source": [
        "import tensorflow_hub as hub # Tensorflow bert 社群\n",
        "import tensorflow_text as text"
      ]
    },
    {
      "cell_type": "code",
      "execution_count": 32,
      "metadata": {
        "id": "-7pjZ4XXm0bZ"
      },
      "outputs": [],
      "source": [
        "import tensorflow as tf\n",
        "\n",
        "tfhub_handle_preprocess = \"https://tfhub.dev/tensorflow/bert_en_uncased_preprocess/3\"\n",
        "tfhub_handle_encoder = \"https://tfhub.dev/tensorflow/bert_en_uncased_L-12_H-768_A-12/3\"\n",
        "\n",
        "def build_classifier_model():\n",
        "    text_input = tf.keras.layers.Input(shape=(), dtype=tf.string, name='text')\n",
        "    preprocessing_layer = hub.KerasLayer(tfhub_handle_preprocess, name='preprocessing')\n",
        "    encoder_inputs = preprocessing_layer(text_input)\n",
        "    encoder = hub.KerasLayer(tfhub_handle_encoder, trainable=True, name='BERT_encoder')\n",
        "    outputs = encoder(encoder_inputs)\n",
        "    net = outputs['pooled_output']\n",
        "    net = tf.keras.layers.Dropout(0.1)(net)\n",
        "    net = tf.keras.layers.Dense(1, activation=None, name='classifier')(net)\n",
        "    return tf.keras.Model(text_input, net)\n"
      ]
    },
    {
      "cell_type": "code",
      "execution_count": 33,
      "metadata": {
        "id": "SM3PerExnDh3"
      },
      "outputs": [],
      "source": [
        "# X = new_data['text']\n",
        "# y = new_data['target']\n",
        "\n",
        "# new_data = None"
      ]
    },
    {
      "cell_type": "code",
      "execution_count": 37,
      "metadata": {
        "colab": {
          "base_uri": "https://localhost:8080/"
        },
        "id": "qvPP8OvFuEtm",
        "outputId": "2f652a45-ebe5-4443-a186-d5648e6b0a8f"
      },
      "outputs": [
        {
          "name": "stdout",
          "output_type": "stream",
          "text": [
            "<class 'pandas.core.series.Series'>\n"
          ]
        }
      ],
      "source": [
        "# print(type(y))"
      ]
    },
    {
      "cell_type": "code",
      "execution_count": 38,
      "metadata": {
        "colab": {
          "base_uri": "https://localhost:8080/"
        },
        "id": "i7o4XE3KufyR",
        "outputId": "35158b17-f8e9-4b20-da67-2f9924cede06"
      },
      "outputs": [
        {
          "name": "stdout",
          "output_type": "stream",
          "text": [
            "1341200    1\n",
            "800750     1\n",
            "1566711    1\n",
            "1085055    1\n",
            "1505995    1\n",
            "Name: target, dtype: int64\n",
            "<class 'pandas.core.series.Series'>\n"
          ]
        }
      ],
      "source": [
        "print(y[:5])\n",
        "# print(type(y))\n",
        "# y = np.array(y)"
      ]
    },
    {
      "cell_type": "code",
      "execution_count": 40,
      "metadata": {
        "colab": {
          "base_uri": "https://localhost:8080/"
        },
        "id": "JiYO0X5OpDMm",
        "outputId": "f2e25ebd-388e-4a68-8c24-6b97985727c2"
      },
      "outputs": [
        {
          "name": "stdout",
          "output_type": "stream",
          "text": [
            "(32000,)\n",
            "(8000,)\n",
            "(32000,)\n",
            "(8000,)\n"
          ]
        }
      ],
      "source": [
        "# from sklearn.model_selection import train_test_split\n",
        "\n",
        "# x_train, x_test, y_train, y_test = train_test_split(X, y, test_size=0.2, random_state=42)\n",
        "\n",
        "# print(x_train.shape)\n",
        "# print(x_test.shape)\n",
        "# print(y_train.shape)\n",
        "# print(y_test.shape)"
      ]
    },
    {
      "cell_type": "code",
      "execution_count": 41,
      "metadata": {
        "colab": {
          "base_uri": "https://localhost:8080/"
        },
        "id": "352ZJR8SpJUp",
        "outputId": "1f48861c-c3ad-4750-a8f7-7220ab2cf24a"
      },
      "outputs": [
        {
          "name": "stdout",
          "output_type": "stream",
          "text": [
            "Model: \"model\"\n",
            "__________________________________________________________________________________________________\n",
            " Layer (type)                Output Shape                 Param #   Connected to                  \n",
            "==================================================================================================\n",
            " text (InputLayer)           [(None,)]                    0         []                            \n",
            "                                                                                                  \n",
            " preprocessing (KerasLayer)  {'input_type_ids': (None,    0         ['text[0][0]']                \n",
            "                             128),                                                                \n",
            "                              'input_mask': (None, 128)                                           \n",
            "                             , 'input_word_ids': (None,                                           \n",
            "                              128)}                                                               \n",
            "                                                                                                  \n",
            " BERT_encoder (KerasLayer)   {'encoder_outputs': [(None   1094822   ['preprocessing[0][0]',       \n",
            "                             , 128, 768),                 41         'preprocessing[0][1]',       \n",
            "                              (None, 128, 768),                      'preprocessing[0][2]']       \n",
            "                              (None, 128, 768),                                                   \n",
            "                              (None, 128, 768),                                                   \n",
            "                              (None, 128, 768),                                                   \n",
            "                              (None, 128, 768),                                                   \n",
            "                              (None, 128, 768),                                                   \n",
            "                              (None, 128, 768),                                                   \n",
            "                              (None, 128, 768),                                                   \n",
            "                              (None, 128, 768),                                                   \n",
            "                              (None, 128, 768),                                                   \n",
            "                              (None, 128, 768)],                                                  \n",
            "                              'sequence_output': (None,                                           \n",
            "                              128, 768),                                                          \n",
            "                              'pooled_output': (None, 7                                           \n",
            "                             68),                                                                 \n",
            "                              'default': (None, 768)}                                             \n",
            "                                                                                                  \n",
            " dropout (Dropout)           (None, 768)                  0         ['BERT_encoder[0][13]']       \n",
            "                                                                                                  \n",
            " classifier (Dense)          (None, 1)                    769       ['dropout[0][0]']             \n",
            "                                                                                                  \n",
            "==================================================================================================\n",
            "Total params: 109483010 (417.64 MB)\n",
            "Trainable params: 109483009 (417.64 MB)\n",
            "Non-trainable params: 1 (1.00 Byte)\n",
            "__________________________________________________________________________________________________\n",
            "None\n"
          ]
        }
      ],
      "source": [
        "model = build_classifier_model()\n",
        "\n",
        "loss = tf.keras.losses.BinaryCrossentropy(from_logits=True)\n",
        "metrics = tf.metrics.BinaryAccuracy()\n",
        "\n",
        "epochs = 5\n",
        "batch_size = 32\n",
        "\n",
        "init_lr = 3e-5\n",
        "optimizer = tf.keras.optimizers.Adam(learning_rate=init_lr)\n",
        "\n",
        "model.compile(optimizer=optimizer, loss=loss, metrics=metrics)\n",
        "\n",
        "# 印出模型摘要\n",
        "print(model.summary())"
      ]
    },
    {
      "cell_type": "code",
      "execution_count": 42,
      "metadata": {
        "colab": {
          "base_uri": "https://localhost:8080/"
        },
        "id": "jemKSELSpXDN",
        "outputId": "756b8bbb-a57a-43ca-825a-6de8a1717e11"
      },
      "outputs": [
        {
          "name": "stdout",
          "output_type": "stream",
          "text": [
            "Epoch 1/3\n",
            "1000/1000 [==============================] - 1080s 1s/step - loss: 0.4961 - binary_accuracy: 0.7436 - val_loss: 0.4482 - val_binary_accuracy: 0.7761\n",
            "Epoch 2/3\n",
            "1000/1000 [==============================] - 969s 969ms/step - loss: 0.3774 - binary_accuracy: 0.8300 - val_loss: 0.4842 - val_binary_accuracy: 0.7822\n",
            "Epoch 3/3\n",
            "1000/1000 [==============================] - 963s 963ms/step - loss: 0.2497 - binary_accuracy: 0.8952 - val_loss: 0.5766 - val_binary_accuracy: 0.7845\n",
            "{'loss': [0.4961470067501068, 0.3774353563785553, 0.2496606856584549], 'binary_accuracy': [0.7436249852180481, 0.8299687504768372, 0.8951562643051147], 'val_loss': [0.44818115234375, 0.48416319489479065, 0.5765739679336548], 'val_binary_accuracy': [0.7761250138282776, 0.7822499871253967, 0.784500002861023]}\n"
          ]
        }
      ],
      "source": [
        "early_stopping = tf.keras.callbacks.EarlyStopping(monitor='val_loss', patience=2, mode='min', restore_best_weights=True)\n",
        "\n",
        "history = model.fit(x_train, y_train, validation_data=(x_test, y_test), epochs=3, batch_size=batch_size, callbacks=[early_stopping])\n",
        "\n",
        "print(history.history)"
      ]
    },
    {
      "cell_type": "markdown",
      "metadata": {
        "id": "D1a1Sfmc43Q6"
      },
      "source": [
        "#### Show Classification Report"
      ]
    },
    {
      "cell_type": "code",
      "execution_count": null,
      "metadata": {
        "id": "rhlaehi345RV"
      },
      "outputs": [],
      "source": [
        "from sklearn.metrics import accuracy_score, classification_report\n",
        "\n",
        "y_pred = model.predict(x_test)"
      ]
    },
    {
      "cell_type": "markdown",
      "metadata": {
        "id": "prqOaQgS3Rhz"
      },
      "source": [
        "#### Accuracy & Loss Plot (BERT)"
      ]
    },
    {
      "cell_type": "markdown",
      "metadata": {
        "id": "MswvcUGG3hhG"
      },
      "source": [
        "##### Accuracy"
      ]
    },
    {
      "cell_type": "code",
      "execution_count": 45,
      "metadata": {
        "colab": {
          "base_uri": "https://localhost:8080/",
          "height": 472
        },
        "id": "anDXPDPC3lDi",
        "outputId": "292293a0-fe69-4967-ac08-2110a1bff0cd"
      },
      "outputs": [
        {
          "data": {
            "image/png": "[encoded data removed]",
            "text/plain": [
              "<Figure size 640x480 with 1 Axes>"
            ]
          },
          "metadata": {},
          "output_type": "display_data"
        }
      ],
      "source": [
        "plt.plot(history.history['binary_accuracy'])\n",
        "plt.plot(history.history['val_binary_accuracy'])\n",
        "\n",
        "plt.title('Model accuracy')\n",
        "plt.ylabel('Accuracy')\n",
        "plt.xlabel('Epoch')\n",
        "plt.legend(['train', 'validation'], loc='upper left')\n",
        "plt.show()"
      ]
    },
    {
      "cell_type": "markdown",
      "metadata": {
        "id": "5XP7uneg3i0Q"
      },
      "source": [
        "##### Loss"
      ]
    },
    {
      "cell_type": "code",
      "execution_count": 46,
      "metadata": {
        "colab": {
          "base_uri": "https://localhost:8080/",
          "height": 472
        },
        "id": "0w8x786Q3oIi",
        "outputId": "b229ca27-8a72-4de1-e344-adb605966e6f"
      },
      "outputs": [
        {
          "data": {
            "image/png": "[encoded data removed]",
            "text/plain": [
              "<Figure size 640x480 with 1 Axes>"
            ]
          },
          "metadata": {},
          "output_type": "display_data"
        }
      ],
      "source": [
        "plt.plot(history.history['loss'])\n",
        "plt.plot(history.history['val_loss'])\n",
        "\n",
        "plt.title('Model loss')\n",
        "plt.ylabel('Loss')\n",
        "plt.xlabel('Epoch')\n",
        "plt.legend(['train', 'validation'], loc='upper left')\n",
        "plt.show()"
      ]
    },
    {
      "cell_type": "markdown",
      "metadata": {
        "id": "BrIigk4f3fb1"
      },
      "source": [
        "##### ROC Curve"
      ]
    },
    {
      "cell_type": "code",
      "execution_count": 47,
      "metadata": {
        "colab": {
          "base_uri": "https://localhost:8080/",
          "height": 472
        },
        "id": "vy81wiHS3Tio",
        "outputId": "3508c345-2bb7-4347-953e-91074ad71d89"
      },
      "outputs": [
        {
          "data": {
            "image/png": "[encoded data removed]",
            "text/plain": [
              "<Figure size 640x480 with 1 Axes>"
            ]
          },
          "metadata": {},
          "output_type": "display_data"
        }
      ],
      "source": [
        "# Draw the ROC curve\n",
        "from sklearn.metrics import roc_curve, auc\n",
        "\n",
        "fpr, tpr, thresholds = roc_curve(y_test, y_pred)\n",
        "roc_auc = auc(fpr, tpr)\n",
        "\n",
        "plt.figure()\n",
        "plt.plot(fpr, tpr, color='darkorange', lw=2, label='ROC curve (area = %0.2f)' % roc_auc)\n",
        "plt.plot([0, 1], [0, 1], color='navy', lw=2, linestyle='--')\n",
        "plt.xlim([0.0, 1.0])\n",
        "plt.ylim([0.0, 1.05])\n",
        "plt.xlabel('False Positive Rate')\n",
        "plt.ylabel('True Positive Rate')\n",
        "plt.title('Receiver Operating Characteristic')\n",
        "plt.legend(loc=\"lower right\")\n",
        "plt.show()"
      ]
    }
  ],
  "metadata": {
    "accelerator": "GPU",
    "colab": {
      "collapsed_sections": [
        "qGiZXlbqetNv",
        "dacfu_CmetNw",
        "Y83JCMvGetNx",
        "accf3c6ZetNz",
        "z269fzX0etN0",
        "tW3taDVsetN1",
        "PxLQ2-Q9etN1",
        "8vMkg71uetN1",
        "bnfymqg1etN1",
        "Fy2HXrIyetN2",
        "ktFMLC8TetN2",
        "PyD-Hqg3etN2",
        "XRzpkEX5etN3",
        "iO6O-Yo5kKcN",
        "6HlFNXlUkfDB"
      ],
      "gpuType": "T4",
      "provenance": []
    },
    "kernelspec": {
      "display_name": "Python 3",
      "name": "python3"
    },
    "language_info": {
      "codemirror_mode": {
        "name": "ipython",
        "version": 3
      },
      "file_extension": ".py",
      "mimetype": "text/x-python",
      "name": "python",
      "nbconvert_exporter": "python",
      "pygments_lexer": "ipython3",
      "version": "3.9.-1"
    },
    "widgets": {
      "application/vnd.jupyter.widget-state+json": {
        "00ee5472a8fc46c1ae7f783587942ea0": {
          "model_module": "@jupyter-widgets/base",
          "model_module_version": "1.2.0",
          "model_name": "LayoutModel",
          "state": {
            "_model_module": "@jupyter-widgets/base",
            "_model_module_version": "1.2.0",
            "_model_name": "LayoutModel",
            "_view_count": null,
            "_view_module": "@jupyter-widgets/base",
            "_view_module_version": "1.2.0",
            "_view_name": "LayoutView",
            "align_content": null,
            "align_items": null,
            "align_self": null,
            "border": null,
            "bottom": null,
            "display": null,
            "flex": null,
            "flex_flow": null,
            "grid_area": null,
            "grid_auto_columns": null,
            "grid_auto_flow": null,
            "grid_auto_rows": null,
            "grid_column": null,
            "grid_gap": null,
            "grid_row": null,
            "grid_template_areas": null,
            "grid_template_columns": null,
            "grid_template_rows": null,
            "height": null,
            "justify_content": null,
            "justify_items": null,
            "left": null,
            "margin": null,
            "max_height": null,
            "max_width": null,
            "min_height": null,
            "min_width": null,
            "object_fit": null,
            "object_position": null,
            "order": null,
            "overflow": null,
            "overflow_x": null,
            "overflow_y": null,
            "padding": null,
            "right": null,
            "top": null,
            "visibility": null,
            "width": null
          }
        },
        "067202ef213a4f82ad6ca2da0af2cc3c": {
          "model_module": "@jupyter-widgets/base",
          "model_module_version": "1.2.0",
          "model_name": "LayoutModel",
          "state": {
            "_model_module": "@jupyter-widgets/base",
            "_model_module_version": "1.2.0",
            "_model_name": "LayoutModel",
            "_view_count": null,
            "_view_module": "@jupyter-widgets/base",
            "_view_module_version": "1.2.0",
            "_view_name": "LayoutView",
            "align_content": null,
            "align_items": null,
            "align_self": null,
            "border": null,
            "bottom": null,
            "display": null,
            "flex": null,
            "flex_flow": null,
            "grid_area": null,
            "grid_auto_columns": null,
            "grid_auto_flow": null,
            "grid_auto_rows": null,
            "grid_column": null,
            "grid_gap": null,
            "grid_row": null,
            "grid_template_areas": null,
            "grid_template_columns": null,
            "grid_template_rows": null,
            "height": null,
            "justify_content": null,
            "justify_items": null,
            "left": null,
            "margin": null,
            "max_height": null,
            "max_width": null,
            "min_height": null,
            "min_width": null,
            "object_fit": null,
            "object_position": null,
            "order": null,
            "overflow": null,
            "overflow_x": null,
            "overflow_y": null,
            "padding": null,
            "right": null,
            "top": null,
            "visibility": null,
            "width": null
          }
        },
        "1073e14de3b64af48a8e33bddd2e8993": {
          "model_module": "@jupyter-widgets/controls",
          "model_module_version": "1.5.0",
          "model_name": "HBoxModel",
          "state": {
            "_dom_classes": [],
            "_model_module": "@jupyter-widgets/controls",
            "_model_module_version": "1.5.0",
            "_model_name": "HBoxModel",
            "_view_count": null,
            "_view_module": "@jupyter-widgets/controls",
            "_view_module_version": "1.5.0",
            "_view_name": "HBoxView",
            "box_style": "",
            "children": [
              "IPY_MODEL_e7991fab9fb043ab97a6b3c46c73b4e4",
              "IPY_MODEL_6336e12e56f348049ef1a0ee6f4801fb",
              "IPY_MODEL_51086f2b46344ab6ac6c7734e753daa2"
            ],
            "layout": "IPY_MODEL_067202ef213a4f82ad6ca2da0af2cc3c"
          }
        },
        "1870a1cbcd68425dae84258bf411bfda": {
          "model_module": "@jupyter-widgets/base",
          "model_module_version": "1.2.0",
          "model_name": "LayoutModel",
          "state": {
            "_model_module": "@jupyter-widgets/base",
            "_model_module_version": "1.2.0",
            "_model_name": "LayoutModel",
            "_view_count": null,
            "_view_module": "@jupyter-widgets/base",
            "_view_module_version": "1.2.0",
            "_view_name": "LayoutView",
            "align_content": null,
            "align_items": null,
            "align_self": null,
            "border": null,
            "bottom": null,
            "display": null,
            "flex": null,
            "flex_flow": null,
            "grid_area": null,
            "grid_auto_columns": null,
            "grid_auto_flow": null,
            "grid_auto_rows": null,
            "grid_column": null,
            "grid_gap": null,
            "grid_row": null,
            "grid_template_areas": null,
            "grid_template_columns": null,
            "grid_template_rows": null,
            "height": null,
            "justify_content": null,
            "justify_items": null,
            "left": null,
            "margin": null,
            "max_height": null,
            "max_width": null,
            "min_height": null,
            "min_width": null,
            "object_fit": null,
            "object_position": null,
            "order": null,
            "overflow": null,
            "overflow_x": null,
            "overflow_y": null,
            "padding": null,
            "right": null,
            "top": null,
            "visibility": null,
            "width": null
          }
        },
        "245338ff0a294f07a34e7afc78e8ef8f": {
          "model_module": "@jupyter-widgets/base",
          "model_module_version": "1.2.0",
          "model_name": "LayoutModel",
          "state": {
            "_model_module": "@jupyter-widgets/base",
            "_model_module_version": "1.2.0",
            "_model_name": "LayoutModel",
            "_view_count": null,
            "_view_module": "@jupyter-widgets/base",
            "_view_module_version": "1.2.0",
            "_view_name": "LayoutView",
            "align_content": null,
            "align_items": null,
            "align_self": null,
            "border": null,
            "bottom": null,
            "display": null,
            "flex": null,
            "flex_flow": null,
            "grid_area": null,
            "grid_auto_columns": null,
            "grid_auto_flow": null,
            "grid_auto_rows": null,
            "grid_column": null,
            "grid_gap": null,
            "grid_row": null,
            "grid_template_areas": null,
            "grid_template_columns": null,
            "grid_template_rows": null,
            "height": null,
            "justify_content": null,
            "justify_items": null,
            "left": null,
            "margin": null,
            "max_height": null,
            "max_width": null,
            "min_height": null,
            "min_width": null,
            "object_fit": null,
            "object_position": null,
            "order": null,
            "overflow": null,
            "overflow_x": null,
            "overflow_y": null,
            "padding": null,
            "right": null,
            "top": null,
            "visibility": null,
            "width": null
          }
        },
        "2c54f466a0c247b88356520cc75fbfc8": {
          "model_module": "@jupyter-widgets/controls",
          "model_module_version": "1.5.0",
          "model_name": "ProgressStyleModel",
          "state": {
            "_model_module": "@jupyter-widgets/controls",
            "_model_module_version": "1.5.0",
            "_model_name": "ProgressStyleModel",
            "_view_count": null,
            "_view_module": "@jupyter-widgets/base",
            "_view_module_version": "1.2.0",
            "_view_name": "StyleView",
            "bar_color": null,
            "description_width": ""
          }
        },
        "332d75009fdd4fefb0f23cf484e5fcbc": {
          "model_module": "@jupyter-widgets/controls",
          "model_module_version": "1.5.0",
          "model_name": "HBoxModel",
          "state": {
            "_dom_classes": [],
            "_model_module": "@jupyter-widgets/controls",
            "_model_module_version": "1.5.0",
            "_model_name": "HBoxModel",
            "_view_count": null,
            "_view_module": "@jupyter-widgets/controls",
            "_view_module_version": "1.5.0",
            "_view_name": "HBoxView",
            "box_style": "",
            "children": [
              "IPY_MODEL_3aa1ae216b54440da6ece3c15fd32eb9",
              "IPY_MODEL_409796c5790d420db256c0af0c68af73",
              "IPY_MODEL_8a365cf19022438ca07292b62a206a62"
            ],
            "layout": "IPY_MODEL_eafb69d8a74b4f9abcb94518bd7223c3"
          }
        },
        "358eda66ffb143d7ae9fa7f62a7330ba": {
          "model_module": "@jupyter-widgets/controls",
          "model_module_version": "1.5.0",
          "model_name": "HTMLModel",
          "state": {
            "_dom_classes": [],
            "_model_module": "@jupyter-widgets/controls",
            "_model_module_version": "1.5.0",
            "_model_name": "HTMLModel",
            "_view_count": null,
            "_view_module": "@jupyter-widgets/controls",
            "_view_module_version": "1.5.0",
            "_view_name": "HTMLView",
            "description": "",
            "description_tooltip": null,
            "layout": "IPY_MODEL_245338ff0a294f07a34e7afc78e8ef8f",
            "placeholder": "​",
            "style": "IPY_MODEL_51d96ea350664ca0bbed67ec73083d84",
            "value": " 48.0/48.0 [00:00&lt;00:00, 3.00kB/s]"
          }
        },
        "3aa1ae216b54440da6ece3c15fd32eb9": {
          "model_module": "@jupyter-widgets/controls",
          "model_module_version": "1.5.0",
          "model_name": "HTMLModel",
          "state": {
            "_dom_classes": [],
            "_model_module": "@jupyter-widgets/controls",
            "_model_module_version": "1.5.0",
            "_model_name": "HTMLModel",
            "_view_count": null,
            "_view_module": "@jupyter-widgets/controls",
            "_view_module_version": "1.5.0",
            "_view_name": "HTMLView",
            "description": "",
            "description_tooltip": null,
            "layout": "IPY_MODEL_a1228cae4dbd4845baa0c80de96701ae",
            "placeholder": "​",
            "style": "IPY_MODEL_fcdc8e690e2a48378bb67290f05377bb",
            "value": "vocab.txt: 100%"
          }
        },
        "3c76379265a04bfeb7bbf4b90f28c7e2": {
          "model_module": "@jupyter-widgets/controls",
          "model_module_version": "1.5.0",
          "model_name": "FloatProgressModel",
          "state": {
            "_dom_classes": [],
            "_model_module": "@jupyter-widgets/controls",
            "_model_module_version": "1.5.0",
            "_model_name": "FloatProgressModel",
            "_view_count": null,
            "_view_module": "@jupyter-widgets/controls",
            "_view_module_version": "1.5.0",
            "_view_name": "ProgressView",
            "bar_style": "success",
            "description": "",
            "description_tooltip": null,
            "layout": "IPY_MODEL_7f236c5d0feb4d33bac6f26a6a65e479",
            "max": 466062,
            "min": 0,
            "orientation": "horizontal",
            "style": "IPY_MODEL_ea6f66d5267f468b80f8dd540f8c41d4",
            "value": 466062
          }
        },
        "3f3225d411f94e75ae41a9933a3b5174": {
          "model_module": "@jupyter-widgets/controls",
          "model_module_version": "1.5.0",
          "model_name": "HTMLModel",
          "state": {
            "_dom_classes": [],
            "_model_module": "@jupyter-widgets/controls",
            "_model_module_version": "1.5.0",
            "_model_name": "HTMLModel",
            "_view_count": null,
            "_view_module": "@jupyter-widgets/controls",
            "_view_module_version": "1.5.0",
            "_view_name": "HTMLView",
            "description": "",
            "description_tooltip": null,
            "layout": "IPY_MODEL_ff24f419aafd412b96db5b19a643141b",
            "placeholder": "​",
            "style": "IPY_MODEL_b6853c1b90b94d689759643898171e8a",
            "value": "config.json: 100%"
          }
        },
        "409796c5790d420db256c0af0c68af73": {
          "model_module": "@jupyter-widgets/controls",
          "model_module_version": "1.5.0",
          "model_name": "FloatProgressModel",
          "state": {
            "_dom_classes": [],
            "_model_module": "@jupyter-widgets/controls",
            "_model_module_version": "1.5.0",
            "_model_name": "FloatProgressModel",
            "_view_count": null,
            "_view_module": "@jupyter-widgets/controls",
            "_view_module_version": "1.5.0",
            "_view_name": "ProgressView",
            "bar_style": "success",
            "description": "",
            "description_tooltip": null,
            "layout": "IPY_MODEL_634b715df0794d71b6d85356b8f9c20e",
            "max": 231508,
            "min": 0,
            "orientation": "horizontal",
            "style": "IPY_MODEL_455e91d2a17646a7afca3a1119bd9bf5",
            "value": 231508
          }
        },
        "455e91d2a17646a7afca3a1119bd9bf5": {
          "model_module": "@jupyter-widgets/controls",
          "model_module_version": "1.5.0",
          "model_name": "ProgressStyleModel",
          "state": {
            "_model_module": "@jupyter-widgets/controls",
            "_model_module_version": "1.5.0",
            "_model_name": "ProgressStyleModel",
            "_view_count": null,
            "_view_module": "@jupyter-widgets/base",
            "_view_module_version": "1.2.0",
            "_view_name": "StyleView",
            "bar_color": null,
            "description_width": ""
          }
        },
        "51086f2b46344ab6ac6c7734e753daa2": {
          "model_module": "@jupyter-widgets/controls",
          "model_module_version": "1.5.0",
          "model_name": "HTMLModel",
          "state": {
            "_dom_classes": [],
            "_model_module": "@jupyter-widgets/controls",
            "_model_module_version": "1.5.0",
            "_model_name": "HTMLModel",
            "_view_count": null,
            "_view_module": "@jupyter-widgets/controls",
            "_view_module_version": "1.5.0",
            "_view_name": "HTMLView",
            "description": "",
            "description_tooltip": null,
            "layout": "IPY_MODEL_dd6c6efc412146a882f589f9642931e3",
            "placeholder": "​",
            "style": "IPY_MODEL_a029bac4e1034dd5bbd58d23bb6ad0f4",
            "value": " 440M/440M [00:04&lt;00:00, 108MB/s]"
          }
        },
        "51d96ea350664ca0bbed67ec73083d84": {
          "model_module": "@jupyter-widgets/controls",
          "model_module_version": "1.5.0",
          "model_name": "DescriptionStyleModel",
          "state": {
            "_model_module": "@jupyter-widgets/controls",
            "_model_module_version": "1.5.0",
            "_model_name": "DescriptionStyleModel",
            "_view_count": null,
            "_view_module": "@jupyter-widgets/base",
            "_view_module_version": "1.2.0",
            "_view_name": "StyleView",
            "description_width": ""
          }
        },
        "6336e12e56f348049ef1a0ee6f4801fb": {
          "model_module": "@jupyter-widgets/controls",
          "model_module_version": "1.5.0",
          "model_name": "FloatProgressModel",
          "state": {
            "_dom_classes": [],
            "_model_module": "@jupyter-widgets/controls",
            "_model_module_version": "1.5.0",
            "_model_name": "FloatProgressModel",
            "_view_count": null,
            "_view_module": "@jupyter-widgets/controls",
            "_view_module_version": "1.5.0",
            "_view_name": "ProgressView",
            "bar_style": "success",
            "description": "",
            "description_tooltip": null,
            "layout": "IPY_MODEL_ed4ff5dc52154abdb5a8358d17b36b66",
            "max": 440449768,
            "min": 0,
            "orientation": "horizontal",
            "style": "IPY_MODEL_9f50b56a3ee6419eb0114b5c95ad9bf1",
            "value": 440449768
          }
        },
        "634b715df0794d71b6d85356b8f9c20e": {
          "model_module": "@jupyter-widgets/base",
          "model_module_version": "1.2.0",
          "model_name": "LayoutModel",
          "state": {
            "_model_module": "@jupyter-widgets/base",
            "_model_module_version": "1.2.0",
            "_model_name": "LayoutModel",
            "_view_count": null,
            "_view_module": "@jupyter-widgets/base",
            "_view_module_version": "1.2.0",
            "_view_name": "LayoutView",
            "align_content": null,
            "align_items": null,
            "align_self": null,
            "border": null,
            "bottom": null,
            "display": null,
            "flex": null,
            "flex_flow": null,
            "grid_area": null,
            "grid_auto_columns": null,
            "grid_auto_flow": null,
            "grid_auto_rows": null,
            "grid_column": null,
            "grid_gap": null,
            "grid_row": null,
            "grid_template_areas": null,
            "grid_template_columns": null,
            "grid_template_rows": null,
            "height": null,
            "justify_content": null,
            "justify_items": null,
            "left": null,
            "margin": null,
            "max_height": null,
            "max_width": null,
            "min_height": null,
            "min_width": null,
            "object_fit": null,
            "object_position": null,
            "order": null,
            "overflow": null,
            "overflow_x": null,
            "overflow_y": null,
            "padding": null,
            "right": null,
            "top": null,
            "visibility": null,
            "width": null
          }
        },
        "6ba38ff88f874ad288f5e74a23ed2e22": {
          "model_module": "@jupyter-widgets/controls",
          "model_module_version": "1.5.0",
          "model_name": "DescriptionStyleModel",
          "state": {
            "_model_module": "@jupyter-widgets/controls",
            "_model_module_version": "1.5.0",
            "_model_name": "DescriptionStyleModel",
            "_view_count": null,
            "_view_module": "@jupyter-widgets/base",
            "_view_module_version": "1.2.0",
            "_view_name": "StyleView",
            "description_width": ""
          }
        },
        "6e7a12ea22984e5eb27fd9d8093095f5": {
          "model_module": "@jupyter-widgets/base",
          "model_module_version": "1.2.0",
          "model_name": "LayoutModel",
          "state": {
            "_model_module": "@jupyter-widgets/base",
            "_model_module_version": "1.2.0",
            "_model_name": "LayoutModel",
            "_view_count": null,
            "_view_module": "@jupyter-widgets/base",
            "_view_module_version": "1.2.0",
            "_view_name": "LayoutView",
            "align_content": null,
            "align_items": null,
            "align_self": null,
            "border": null,
            "bottom": null,
            "display": null,
            "flex": null,
            "flex_flow": null,
            "grid_area": null,
            "grid_auto_columns": null,
            "grid_auto_flow": null,
            "grid_auto_rows": null,
            "grid_column": null,
            "grid_gap": null,
            "grid_row": null,
            "grid_template_areas": null,
            "grid_template_columns": null,
            "grid_template_rows": null,
            "height": null,
            "justify_content": null,
            "justify_items": null,
            "left": null,
            "margin": null,
            "max_height": null,
            "max_width": null,
            "min_height": null,
            "min_width": null,
            "object_fit": null,
            "object_position": null,
            "order": null,
            "overflow": null,
            "overflow_x": null,
            "overflow_y": null,
            "padding": null,
            "right": null,
            "top": null,
            "visibility": null,
            "width": null
          }
        },
        "727564d4caa744509bd4edae9eb3791f": {
          "model_module": "@jupyter-widgets/controls",
          "model_module_version": "1.5.0",
          "model_name": "FloatProgressModel",
          "state": {
            "_dom_classes": [],
            "_model_module": "@jupyter-widgets/controls",
            "_model_module_version": "1.5.0",
            "_model_name": "FloatProgressModel",
            "_view_count": null,
            "_view_module": "@jupyter-widgets/controls",
            "_view_module_version": "1.5.0",
            "_view_name": "ProgressView",
            "bar_style": "success",
            "description": "",
            "description_tooltip": null,
            "layout": "IPY_MODEL_6e7a12ea22984e5eb27fd9d8093095f5",
            "max": 570,
            "min": 0,
            "orientation": "horizontal",
            "style": "IPY_MODEL_2c54f466a0c247b88356520cc75fbfc8",
            "value": 570
          }
        },
        "7f236c5d0feb4d33bac6f26a6a65e479": {
          "model_module": "@jupyter-widgets/base",
          "model_module_version": "1.2.0",
          "model_name": "LayoutModel",
          "state": {
            "_model_module": "@jupyter-widgets/base",
            "_model_module_version": "1.2.0",
            "_model_name": "LayoutModel",
            "_view_count": null,
            "_view_module": "@jupyter-widgets/base",
            "_view_module_version": "1.2.0",
            "_view_name": "LayoutView",
            "align_content": null,
            "align_items": null,
            "align_self": null,
            "border": null,
            "bottom": null,
            "display": null,
            "flex": null,
            "flex_flow": null,
            "grid_area": null,
            "grid_auto_columns": null,
            "grid_auto_flow": null,
            "grid_auto_rows": null,
            "grid_column": null,
            "grid_gap": null,
            "grid_row": null,
            "grid_template_areas": null,
            "grid_template_columns": null,
            "grid_template_rows": null,
            "height": null,
            "justify_content": null,
            "justify_items": null,
            "left": null,
            "margin": null,
            "max_height": null,
            "max_width": null,
            "min_height": null,
            "min_width": null,
            "object_fit": null,
            "object_position": null,
            "order": null,
            "overflow": null,
            "overflow_x": null,
            "overflow_y": null,
            "padding": null,
            "right": null,
            "top": null,
            "visibility": null,
            "width": null
          }
        },
        "805d2439b66c44b6952bc673117cf01c": {
          "model_module": "@jupyter-widgets/controls",
          "model_module_version": "1.5.0",
          "model_name": "HTMLModel",
          "state": {
            "_dom_classes": [],
            "_model_module": "@jupyter-widgets/controls",
            "_model_module_version": "1.5.0",
            "_model_name": "HTMLModel",
            "_view_count": null,
            "_view_module": "@jupyter-widgets/controls",
            "_view_module_version": "1.5.0",
            "_view_name": "HTMLView",
            "description": "",
            "description_tooltip": null,
            "layout": "IPY_MODEL_1870a1cbcd68425dae84258bf411bfda",
            "placeholder": "​",
            "style": "IPY_MODEL_c98774640d4045bd947a7dca4dd9eb47",
            "value": " 466k/466k [00:00&lt;00:00, 11.9MB/s]"
          }
        },
        "8095f30072a34bc1897c32fd9bdc5341": {
          "model_module": "@jupyter-widgets/base",
          "model_module_version": "1.2.0",
          "model_name": "LayoutModel",
          "state": {
            "_model_module": "@jupyter-widgets/base",
            "_model_module_version": "1.2.0",
            "_model_name": "LayoutModel",
            "_view_count": null,
            "_view_module": "@jupyter-widgets/base",
            "_view_module_version": "1.2.0",
            "_view_name": "LayoutView",
            "align_content": null,
            "align_items": null,
            "align_self": null,
            "border": null,
            "bottom": null,
            "display": null,
            "flex": null,
            "flex_flow": null,
            "grid_area": null,
            "grid_auto_columns": null,
            "grid_auto_flow": null,
            "grid_auto_rows": null,
            "grid_column": null,
            "grid_gap": null,
            "grid_row": null,
            "grid_template_areas": null,
            "grid_template_columns": null,
            "grid_template_rows": null,
            "height": null,
            "justify_content": null,
            "justify_items": null,
            "left": null,
            "margin": null,
            "max_height": null,
            "max_width": null,
            "min_height": null,
            "min_width": null,
            "object_fit": null,
            "object_position": null,
            "order": null,
            "overflow": null,
            "overflow_x": null,
            "overflow_y": null,
            "padding": null,
            "right": null,
            "top": null,
            "visibility": null,
            "width": null
          }
        },
        "83bd96da90de4b0684d5d7f0039b777c": {
          "model_module": "@jupyter-widgets/controls",
          "model_module_version": "1.5.0",
          "model_name": "HBoxModel",
          "state": {
            "_dom_classes": [],
            "_model_module": "@jupyter-widgets/controls",
            "_model_module_version": "1.5.0",
            "_model_name": "HBoxModel",
            "_view_count": null,
            "_view_module": "@jupyter-widgets/controls",
            "_view_module_version": "1.5.0",
            "_view_name": "HBoxView",
            "box_style": "",
            "children": [
              "IPY_MODEL_be191374e5f54d2fa4cdab09846220f5",
              "IPY_MODEL_86d0a90edf6741c48c0deaf5a53ddd39",
              "IPY_MODEL_358eda66ffb143d7ae9fa7f62a7330ba"
            ],
            "layout": "IPY_MODEL_dc6220d172c54eeba117d8e005d475c6"
          }
        },
        "86d0a90edf6741c48c0deaf5a53ddd39": {
          "model_module": "@jupyter-widgets/controls",
          "model_module_version": "1.5.0",
          "model_name": "FloatProgressModel",
          "state": {
            "_dom_classes": [],
            "_model_module": "@jupyter-widgets/controls",
            "_model_module_version": "1.5.0",
            "_model_name": "FloatProgressModel",
            "_view_count": null,
            "_view_module": "@jupyter-widgets/controls",
            "_view_module_version": "1.5.0",
            "_view_name": "ProgressView",
            "bar_style": "success",
            "description": "",
            "description_tooltip": null,
            "layout": "IPY_MODEL_994a0b559392431baaefa6bf3fa99f9f",
            "max": 48,
            "min": 0,
            "orientation": "horizontal",
            "style": "IPY_MODEL_f427d567f430416a9d3527f88be159c6",
            "value": 48
          }
        },
        "8a365cf19022438ca07292b62a206a62": {
          "model_module": "@jupyter-widgets/controls",
          "model_module_version": "1.5.0",
          "model_name": "HTMLModel",
          "state": {
            "_dom_classes": [],
            "_model_module": "@jupyter-widgets/controls",
            "_model_module_version": "1.5.0",
            "_model_name": "HTMLModel",
            "_view_count": null,
            "_view_module": "@jupyter-widgets/controls",
            "_view_module_version": "1.5.0",
            "_view_name": "HTMLView",
            "description": "",
            "description_tooltip": null,
            "layout": "IPY_MODEL_d3a29e80e01549a5bd190ecbebbb819e",
            "placeholder": "​",
            "style": "IPY_MODEL_ecd9da6f7bb04463865886d8309a96f3",
            "value": " 232k/232k [00:00&lt;00:00, 4.79MB/s]"
          }
        },
        "927c212b916841fbb79af549f48f3f99": {
          "model_module": "@jupyter-widgets/controls",
          "model_module_version": "1.5.0",
          "model_name": "DescriptionStyleModel",
          "state": {
            "_model_module": "@jupyter-widgets/controls",
            "_model_module_version": "1.5.0",
            "_model_name": "DescriptionStyleModel",
            "_view_count": null,
            "_view_module": "@jupyter-widgets/base",
            "_view_module_version": "1.2.0",
            "_view_name": "StyleView",
            "description_width": ""
          }
        },
        "994a0b559392431baaefa6bf3fa99f9f": {
          "model_module": "@jupyter-widgets/base",
          "model_module_version": "1.2.0",
          "model_name": "LayoutModel",
          "state": {
            "_model_module": "@jupyter-widgets/base",
            "_model_module_version": "1.2.0",
            "_model_name": "LayoutModel",
            "_view_count": null,
            "_view_module": "@jupyter-widgets/base",
            "_view_module_version": "1.2.0",
            "_view_name": "LayoutView",
            "align_content": null,
            "align_items": null,
            "align_self": null,
            "border": null,
            "bottom": null,
            "display": null,
            "flex": null,
            "flex_flow": null,
            "grid_area": null,
            "grid_auto_columns": null,
            "grid_auto_flow": null,
            "grid_auto_rows": null,
            "grid_column": null,
            "grid_gap": null,
            "grid_row": null,
            "grid_template_areas": null,
            "grid_template_columns": null,
            "grid_template_rows": null,
            "height": null,
            "justify_content": null,
            "justify_items": null,
            "left": null,
            "margin": null,
            "max_height": null,
            "max_width": null,
            "min_height": null,
            "min_width": null,
            "object_fit": null,
            "object_position": null,
            "order": null,
            "overflow": null,
            "overflow_x": null,
            "overflow_y": null,
            "padding": null,
            "right": null,
            "top": null,
            "visibility": null,
            "width": null
          }
        },
        "9f50b56a3ee6419eb0114b5c95ad9bf1": {
          "model_module": "@jupyter-widgets/controls",
          "model_module_version": "1.5.0",
          "model_name": "ProgressStyleModel",
          "state": {
            "_model_module": "@jupyter-widgets/controls",
            "_model_module_version": "1.5.0",
            "_model_name": "ProgressStyleModel",
            "_view_count": null,
            "_view_module": "@jupyter-widgets/base",
            "_view_module_version": "1.2.0",
            "_view_name": "StyleView",
            "bar_color": null,
            "description_width": ""
          }
        },
        "9fe37cd54fe1462db0e5e1e2bac2be74": {
          "model_module": "@jupyter-widgets/base",
          "model_module_version": "1.2.0",
          "model_name": "LayoutModel",
          "state": {
            "_model_module": "@jupyter-widgets/base",
            "_model_module_version": "1.2.0",
            "_model_name": "LayoutModel",
            "_view_count": null,
            "_view_module": "@jupyter-widgets/base",
            "_view_module_version": "1.2.0",
            "_view_name": "LayoutView",
            "align_content": null,
            "align_items": null,
            "align_self": null,
            "border": null,
            "bottom": null,
            "display": null,
            "flex": null,
            "flex_flow": null,
            "grid_area": null,
            "grid_auto_columns": null,
            "grid_auto_flow": null,
            "grid_auto_rows": null,
            "grid_column": null,
            "grid_gap": null,
            "grid_row": null,
            "grid_template_areas": null,
            "grid_template_columns": null,
            "grid_template_rows": null,
            "height": null,
            "justify_content": null,
            "justify_items": null,
            "left": null,
            "margin": null,
            "max_height": null,
            "max_width": null,
            "min_height": null,
            "min_width": null,
            "object_fit": null,
            "object_position": null,
            "order": null,
            "overflow": null,
            "overflow_x": null,
            "overflow_y": null,
            "padding": null,
            "right": null,
            "top": null,
            "visibility": null,
            "width": null
          }
        },
        "a029bac4e1034dd5bbd58d23bb6ad0f4": {
          "model_module": "@jupyter-widgets/controls",
          "model_module_version": "1.5.0",
          "model_name": "DescriptionStyleModel",
          "state": {
            "_model_module": "@jupyter-widgets/controls",
            "_model_module_version": "1.5.0",
            "_model_name": "DescriptionStyleModel",
            "_view_count": null,
            "_view_module": "@jupyter-widgets/base",
            "_view_module_version": "1.2.0",
            "_view_name": "StyleView",
            "description_width": ""
          }
        },
        "a1228cae4dbd4845baa0c80de96701ae": {
          "model_module": "@jupyter-widgets/base",
          "model_module_version": "1.2.0",
          "model_name": "LayoutModel",
          "state": {
            "_model_module": "@jupyter-widgets/base",
            "_model_module_version": "1.2.0",
            "_model_name": "LayoutModel",
            "_view_count": null,
            "_view_module": "@jupyter-widgets/base",
            "_view_module_version": "1.2.0",
            "_view_name": "LayoutView",
            "align_content": null,
            "align_items": null,
            "align_self": null,
            "border": null,
            "bottom": null,
            "display": null,
            "flex": null,
            "flex_flow": null,
            "grid_area": null,
            "grid_auto_columns": null,
            "grid_auto_flow": null,
            "grid_auto_rows": null,
            "grid_column": null,
            "grid_gap": null,
            "grid_row": null,
            "grid_template_areas": null,
            "grid_template_columns": null,
            "grid_template_rows": null,
            "height": null,
            "justify_content": null,
            "justify_items": null,
            "left": null,
            "margin": null,
            "max_height": null,
            "max_width": null,
            "min_height": null,
            "min_width": null,
            "object_fit": null,
            "object_position": null,
            "order": null,
            "overflow": null,
            "overflow_x": null,
            "overflow_y": null,
            "padding": null,
            "right": null,
            "top": null,
            "visibility": null,
            "width": null
          }
        },
        "a9fe674d1643434da7f22371204fdeb2": {
          "model_module": "@jupyter-widgets/controls",
          "model_module_version": "1.5.0",
          "model_name": "DescriptionStyleModel",
          "state": {
            "_model_module": "@jupyter-widgets/controls",
            "_model_module_version": "1.5.0",
            "_model_name": "DescriptionStyleModel",
            "_view_count": null,
            "_view_module": "@jupyter-widgets/base",
            "_view_module_version": "1.2.0",
            "_view_name": "StyleView",
            "description_width": ""
          }
        },
        "b6853c1b90b94d689759643898171e8a": {
          "model_module": "@jupyter-widgets/controls",
          "model_module_version": "1.5.0",
          "model_name": "DescriptionStyleModel",
          "state": {
            "_model_module": "@jupyter-widgets/controls",
            "_model_module_version": "1.5.0",
            "_model_name": "DescriptionStyleModel",
            "_view_count": null,
            "_view_module": "@jupyter-widgets/base",
            "_view_module_version": "1.2.0",
            "_view_name": "StyleView",
            "description_width": ""
          }
        },
        "be191374e5f54d2fa4cdab09846220f5": {
          "model_module": "@jupyter-widgets/controls",
          "model_module_version": "1.5.0",
          "model_name": "HTMLModel",
          "state": {
            "_dom_classes": [],
            "_model_module": "@jupyter-widgets/controls",
            "_model_module_version": "1.5.0",
            "_model_name": "HTMLModel",
            "_view_count": null,
            "_view_module": "@jupyter-widgets/controls",
            "_view_module_version": "1.5.0",
            "_view_name": "HTMLView",
            "description": "",
            "description_tooltip": null,
            "layout": "IPY_MODEL_9fe37cd54fe1462db0e5e1e2bac2be74",
            "placeholder": "​",
            "style": "IPY_MODEL_a9fe674d1643434da7f22371204fdeb2",
            "value": "tokenizer_config.json: 100%"
          }
        },
        "bfe4c0b43a244eaa98c7f843dd1b9ef7": {
          "model_module": "@jupyter-widgets/controls",
          "model_module_version": "1.5.0",
          "model_name": "HTMLModel",
          "state": {
            "_dom_classes": [],
            "_model_module": "@jupyter-widgets/controls",
            "_model_module_version": "1.5.0",
            "_model_name": "HTMLModel",
            "_view_count": null,
            "_view_module": "@jupyter-widgets/controls",
            "_view_module_version": "1.5.0",
            "_view_name": "HTMLView",
            "description": "",
            "description_tooltip": null,
            "layout": "IPY_MODEL_c8de460e597a49cb8103b6718c451f56",
            "placeholder": "​",
            "style": "IPY_MODEL_cce2d823201a4f7eba743b4a594712aa",
            "value": " 570/570 [00:00&lt;00:00, 44.1kB/s]"
          }
        },
        "c497efad952c444fb7a75f5fc2c04dee": {
          "model_module": "@jupyter-widgets/controls",
          "model_module_version": "1.5.0",
          "model_name": "HBoxModel",
          "state": {
            "_dom_classes": [],
            "_model_module": "@jupyter-widgets/controls",
            "_model_module_version": "1.5.0",
            "_model_name": "HBoxModel",
            "_view_count": null,
            "_view_module": "@jupyter-widgets/controls",
            "_view_module_version": "1.5.0",
            "_view_name": "HBoxView",
            "box_style": "",
            "children": [
              "IPY_MODEL_3f3225d411f94e75ae41a9933a3b5174",
              "IPY_MODEL_727564d4caa744509bd4edae9eb3791f",
              "IPY_MODEL_bfe4c0b43a244eaa98c7f843dd1b9ef7"
            ],
            "layout": "IPY_MODEL_f51d14c5298e4d3aa029f3677d16cc4c"
          }
        },
        "c8de460e597a49cb8103b6718c451f56": {
          "model_module": "@jupyter-widgets/base",
          "model_module_version": "1.2.0",
          "model_name": "LayoutModel",
          "state": {
            "_model_module": "@jupyter-widgets/base",
            "_model_module_version": "1.2.0",
            "_model_name": "LayoutModel",
            "_view_count": null,
            "_view_module": "@jupyter-widgets/base",
            "_view_module_version": "1.2.0",
            "_view_name": "LayoutView",
            "align_content": null,
            "align_items": null,
            "align_self": null,
            "border": null,
            "bottom": null,
            "display": null,
            "flex": null,
            "flex_flow": null,
            "grid_area": null,
            "grid_auto_columns": null,
            "grid_auto_flow": null,
            "grid_auto_rows": null,
            "grid_column": null,
            "grid_gap": null,
            "grid_row": null,
            "grid_template_areas": null,
            "grid_template_columns": null,
            "grid_template_rows": null,
            "height": null,
            "justify_content": null,
            "justify_items": null,
            "left": null,
            "margin": null,
            "max_height": null,
            "max_width": null,
            "min_height": null,
            "min_width": null,
            "object_fit": null,
            "object_position": null,
            "order": null,
            "overflow": null,
            "overflow_x": null,
            "overflow_y": null,
            "padding": null,
            "right": null,
            "top": null,
            "visibility": null,
            "width": null
          }
        },
        "c98774640d4045bd947a7dca4dd9eb47": {
          "model_module": "@jupyter-widgets/controls",
          "model_module_version": "1.5.0",
          "model_name": "DescriptionStyleModel",
          "state": {
            "_model_module": "@jupyter-widgets/controls",
            "_model_module_version": "1.5.0",
            "_model_name": "DescriptionStyleModel",
            "_view_count": null,
            "_view_module": "@jupyter-widgets/base",
            "_view_module_version": "1.2.0",
            "_view_name": "StyleView",
            "description_width": ""
          }
        },
        "cce2d823201a4f7eba743b4a594712aa": {
          "model_module": "@jupyter-widgets/controls",
          "model_module_version": "1.5.0",
          "model_name": "DescriptionStyleModel",
          "state": {
            "_model_module": "@jupyter-widgets/controls",
            "_model_module_version": "1.5.0",
            "_model_name": "DescriptionStyleModel",
            "_view_count": null,
            "_view_module": "@jupyter-widgets/base",
            "_view_module_version": "1.2.0",
            "_view_name": "StyleView",
            "description_width": ""
          }
        },
        "d3a29e80e01549a5bd190ecbebbb819e": {
          "model_module": "@jupyter-widgets/base",
          "model_module_version": "1.2.0",
          "model_name": "LayoutModel",
          "state": {
            "_model_module": "@jupyter-widgets/base",
            "_model_module_version": "1.2.0",
            "_model_name": "LayoutModel",
            "_view_count": null,
            "_view_module": "@jupyter-widgets/base",
            "_view_module_version": "1.2.0",
            "_view_name": "LayoutView",
            "align_content": null,
            "align_items": null,
            "align_self": null,
            "border": null,
            "bottom": null,
            "display": null,
            "flex": null,
            "flex_flow": null,
            "grid_area": null,
            "grid_auto_columns": null,
            "grid_auto_flow": null,
            "grid_auto_rows": null,
            "grid_column": null,
            "grid_gap": null,
            "grid_row": null,
            "grid_template_areas": null,
            "grid_template_columns": null,
            "grid_template_rows": null,
            "height": null,
            "justify_content": null,
            "justify_items": null,
            "left": null,
            "margin": null,
            "max_height": null,
            "max_width": null,
            "min_height": null,
            "min_width": null,
            "object_fit": null,
            "object_position": null,
            "order": null,
            "overflow": null,
            "overflow_x": null,
            "overflow_y": null,
            "padding": null,
            "right": null,
            "top": null,
            "visibility": null,
            "width": null
          }
        },
        "d555c4af9012446a8365d49d6cb98936": {
          "model_module": "@jupyter-widgets/controls",
          "model_module_version": "1.5.0",
          "model_name": "HTMLModel",
          "state": {
            "_dom_classes": [],
            "_model_module": "@jupyter-widgets/controls",
            "_model_module_version": "1.5.0",
            "_model_name": "HTMLModel",
            "_view_count": null,
            "_view_module": "@jupyter-widgets/controls",
            "_view_module_version": "1.5.0",
            "_view_name": "HTMLView",
            "description": "",
            "description_tooltip": null,
            "layout": "IPY_MODEL_00ee5472a8fc46c1ae7f783587942ea0",
            "placeholder": "​",
            "style": "IPY_MODEL_6ba38ff88f874ad288f5e74a23ed2e22",
            "value": "tokenizer.json: 100%"
          }
        },
        "dc6220d172c54eeba117d8e005d475c6": {
          "model_module": "@jupyter-widgets/base",
          "model_module_version": "1.2.0",
          "model_name": "LayoutModel",
          "state": {
            "_model_module": "@jupyter-widgets/base",
            "_model_module_version": "1.2.0",
            "_model_name": "LayoutModel",
            "_view_count": null,
            "_view_module": "@jupyter-widgets/base",
            "_view_module_version": "1.2.0",
            "_view_name": "LayoutView",
            "align_content": null,
            "align_items": null,
            "align_self": null,
            "border": null,
            "bottom": null,
            "display": null,
            "flex": null,
            "flex_flow": null,
            "grid_area": null,
            "grid_auto_columns": null,
            "grid_auto_flow": null,
            "grid_auto_rows": null,
            "grid_column": null,
            "grid_gap": null,
            "grid_row": null,
            "grid_template_areas": null,
            "grid_template_columns": null,
            "grid_template_rows": null,
            "height": null,
            "justify_content": null,
            "justify_items": null,
            "left": null,
            "margin": null,
            "max_height": null,
            "max_width": null,
            "min_height": null,
            "min_width": null,
            "object_fit": null,
            "object_position": null,
            "order": null,
            "overflow": null,
            "overflow_x": null,
            "overflow_y": null,
            "padding": null,
            "right": null,
            "top": null,
            "visibility": null,
            "width": null
          }
        },
        "dd6c6efc412146a882f589f9642931e3": {
          "model_module": "@jupyter-widgets/base",
          "model_module_version": "1.2.0",
          "model_name": "LayoutModel",
          "state": {
            "_model_module": "@jupyter-widgets/base",
            "_model_module_version": "1.2.0",
            "_model_name": "LayoutModel",
            "_view_count": null,
            "_view_module": "@jupyter-widgets/base",
            "_view_module_version": "1.2.0",
            "_view_name": "LayoutView",
            "align_content": null,
            "align_items": null,
            "align_self": null,
            "border": null,
            "bottom": null,
            "display": null,
            "flex": null,
            "flex_flow": null,
            "grid_area": null,
            "grid_auto_columns": null,
            "grid_auto_flow": null,
            "grid_auto_rows": null,
            "grid_column": null,
            "grid_gap": null,
            "grid_row": null,
            "grid_template_areas": null,
            "grid_template_columns": null,
            "grid_template_rows": null,
            "height": null,
            "justify_content": null,
            "justify_items": null,
            "left": null,
            "margin": null,
            "max_height": null,
            "max_width": null,
            "min_height": null,
            "min_width": null,
            "object_fit": null,
            "object_position": null,
            "order": null,
            "overflow": null,
            "overflow_x": null,
            "overflow_y": null,
            "padding": null,
            "right": null,
            "top": null,
            "visibility": null,
            "width": null
          }
        },
        "e7991fab9fb043ab97a6b3c46c73b4e4": {
          "model_module": "@jupyter-widgets/controls",
          "model_module_version": "1.5.0",
          "model_name": "HTMLModel",
          "state": {
            "_dom_classes": [],
            "_model_module": "@jupyter-widgets/controls",
            "_model_module_version": "1.5.0",
            "_model_name": "HTMLModel",
            "_view_count": null,
            "_view_module": "@jupyter-widgets/controls",
            "_view_module_version": "1.5.0",
            "_view_name": "HTMLView",
            "description": "",
            "description_tooltip": null,
            "layout": "IPY_MODEL_8095f30072a34bc1897c32fd9bdc5341",
            "placeholder": "​",
            "style": "IPY_MODEL_927c212b916841fbb79af549f48f3f99",
            "value": "model.safetensors: 100%"
          }
        },
        "ea6f66d5267f468b80f8dd540f8c41d4": {
          "model_module": "@jupyter-widgets/controls",
          "model_module_version": "1.5.0",
          "model_name": "ProgressStyleModel",
          "state": {
            "_model_module": "@jupyter-widgets/controls",
            "_model_module_version": "1.5.0",
            "_model_name": "ProgressStyleModel",
            "_view_count": null,
            "_view_module": "@jupyter-widgets/base",
            "_view_module_version": "1.2.0",
            "_view_name": "StyleView",
            "bar_color": null,
            "description_width": ""
          }
        },
        "ea8c71db4f3049a4adf7485e07bf8c3f": {
          "model_module": "@jupyter-widgets/controls",
          "model_module_version": "1.5.0",
          "model_name": "HBoxModel",
          "state": {
            "_dom_classes": [],
            "_model_module": "@jupyter-widgets/controls",
            "_model_module_version": "1.5.0",
            "_model_name": "HBoxModel",
            "_view_count": null,
            "_view_module": "@jupyter-widgets/controls",
            "_view_module_version": "1.5.0",
            "_view_name": "HBoxView",
            "box_style": "",
            "children": [
              "IPY_MODEL_d555c4af9012446a8365d49d6cb98936",
              "IPY_MODEL_3c76379265a04bfeb7bbf4b90f28c7e2",
              "IPY_MODEL_805d2439b66c44b6952bc673117cf01c"
            ],
            "layout": "IPY_MODEL_ee34f8f37b894db993b732cc44ab1729"
          }
        },
        "eafb69d8a74b4f9abcb94518bd7223c3": {
          "model_module": "@jupyter-widgets/base",
          "model_module_version": "1.2.0",
          "model_name": "LayoutModel",
          "state": {
            "_model_module": "@jupyter-widgets/base",
            "_model_module_version": "1.2.0",
            "_model_name": "LayoutModel",
            "_view_count": null,
            "_view_module": "@jupyter-widgets/base",
            "_view_module_version": "1.2.0",
            "_view_name": "LayoutView",
            "align_content": null,
            "align_items": null,
            "align_self": null,
            "border": null,
            "bottom": null,
            "display": null,
            "flex": null,
            "flex_flow": null,
            "grid_area": null,
            "grid_auto_columns": null,
            "grid_auto_flow": null,
            "grid_auto_rows": null,
            "grid_column": null,
            "grid_gap": null,
            "grid_row": null,
            "grid_template_areas": null,
            "grid_template_columns": null,
            "grid_template_rows": null,
            "height": null,
            "justify_content": null,
            "justify_items": null,
            "left": null,
            "margin": null,
            "max_height": null,
            "max_width": null,
            "min_height": null,
            "min_width": null,
            "object_fit": null,
            "object_position": null,
            "order": null,
            "overflow": null,
            "overflow_x": null,
            "overflow_y": null,
            "padding": null,
            "right": null,
            "top": null,
            "visibility": null,
            "width": null
          }
        },
        "ecd9da6f7bb04463865886d8309a96f3": {
          "model_module": "@jupyter-widgets/controls",
          "model_module_version": "1.5.0",
          "model_name": "DescriptionStyleModel",
          "state": {
            "_model_module": "@jupyter-widgets/controls",
            "_model_module_version": "1.5.0",
            "_model_name": "DescriptionStyleModel",
            "_view_count": null,
            "_view_module": "@jupyter-widgets/base",
            "_view_module_version": "1.2.0",
            "_view_name": "StyleView",
            "description_width": ""
          }
        },
        "ed4ff5dc52154abdb5a8358d17b36b66": {
          "model_module": "@jupyter-widgets/base",
          "model_module_version": "1.2.0",
          "model_name": "LayoutModel",
          "state": {
            "_model_module": "@jupyter-widgets/base",
            "_model_module_version": "1.2.0",
            "_model_name": "LayoutModel",
            "_view_count": null,
            "_view_module": "@jupyter-widgets/base",
            "_view_module_version": "1.2.0",
            "_view_name": "LayoutView",
            "align_content": null,
            "align_items": null,
            "align_self": null,
            "border": null,
            "bottom": null,
            "display": null,
            "flex": null,
            "flex_flow": null,
            "grid_area": null,
            "grid_auto_columns": null,
            "grid_auto_flow": null,
            "grid_auto_rows": null,
            "grid_column": null,
            "grid_gap": null,
            "grid_row": null,
            "grid_template_areas": null,
            "grid_template_columns": null,
            "grid_template_rows": null,
            "height": null,
            "justify_content": null,
            "justify_items": null,
            "left": null,
            "margin": null,
            "max_height": null,
            "max_width": null,
            "min_height": null,
            "min_width": null,
            "object_fit": null,
            "object_position": null,
            "order": null,
            "overflow": null,
            "overflow_x": null,
            "overflow_y": null,
            "padding": null,
            "right": null,
            "top": null,
            "visibility": null,
            "width": null
          }
        },
        "ee34f8f37b894db993b732cc44ab1729": {
          "model_module": "@jupyter-widgets/base",
          "model_module_version": "1.2.0",
          "model_name": "LayoutModel",
          "state": {
            "_model_module": "@jupyter-widgets/base",
            "_model_module_version": "1.2.0",
            "_model_name": "LayoutModel",
            "_view_count": null,
            "_view_module": "@jupyter-widgets/base",
            "_view_module_version": "1.2.0",
            "_view_name": "LayoutView",
            "align_content": null,
            "align_items": null,
            "align_self": null,
            "border": null,
            "bottom": null,
            "display": null,
            "flex": null,
            "flex_flow": null,
            "grid_area": null,
            "grid_auto_columns": null,
            "grid_auto_flow": null,
            "grid_auto_rows": null,
            "grid_column": null,
            "grid_gap": null,
            "grid_row": null,
            "grid_template_areas": null,
            "grid_template_columns": null,
            "grid_template_rows": null,
            "height": null,
            "justify_content": null,
            "justify_items": null,
            "left": null,
            "margin": null,
            "max_height": null,
            "max_width": null,
            "min_height": null,
            "min_width": null,
            "object_fit": null,
            "object_position": null,
            "order": null,
            "overflow": null,
            "overflow_x": null,
            "overflow_y": null,
            "padding": null,
            "right": null,
            "top": null,
            "visibility": null,
            "width": null
          }
        },
        "f427d567f430416a9d3527f88be159c6": {
          "model_module": "@jupyter-widgets/controls",
          "model_module_version": "1.5.0",
          "model_name": "ProgressStyleModel",
          "state": {
            "_model_module": "@jupyter-widgets/controls",
            "_model_module_version": "1.5.0",
            "_model_name": "ProgressStyleModel",
            "_view_count": null,
            "_view_module": "@jupyter-widgets/base",
            "_view_module_version": "1.2.0",
            "_view_name": "StyleView",
            "bar_color": null,
            "description_width": ""
          }
        },
        "f51d14c5298e4d3aa029f3677d16cc4c": {
          "model_module": "@jupyter-widgets/base",
          "model_module_version": "1.2.0",
          "model_name": "LayoutModel",
          "state": {
            "_model_module": "@jupyter-widgets/base",
            "_model_module_version": "1.2.0",
            "_model_name": "LayoutModel",
            "_view_count": null,
            "_view_module": "@jupyter-widgets/base",
            "_view_module_version": "1.2.0",
            "_view_name": "LayoutView",
            "align_content": null,
            "align_items": null,
            "align_self": null,
            "border": null,
            "bottom": null,
            "display": null,
            "flex": null,
            "flex_flow": null,
            "grid_area": null,
            "grid_auto_columns": null,
            "grid_auto_flow": null,
            "grid_auto_rows": null,
            "grid_column": null,
            "grid_gap": null,
            "grid_row": null,
            "grid_template_areas": null,
            "grid_template_columns": null,
            "grid_template_rows": null,
            "height": null,
            "justify_content": null,
            "justify_items": null,
            "left": null,
            "margin": null,
            "max_height": null,
            "max_width": null,
            "min_height": null,
            "min_width": null,
            "object_fit": null,
            "object_position": null,
            "order": null,
            "overflow": null,
            "overflow_x": null,
            "overflow_y": null,
            "padding": null,
            "right": null,
            "top": null,
            "visibility": null,
            "width": null
          }
        },
        "fcdc8e690e2a48378bb67290f05377bb": {
          "model_module": "@jupyter-widgets/controls",
          "model_module_version": "1.5.0",
          "model_name": "DescriptionStyleModel",
          "state": {
            "_model_module": "@jupyter-widgets/controls",
            "_model_module_version": "1.5.0",
            "_model_name": "DescriptionStyleModel",
            "_view_count": null,
            "_view_module": "@jupyter-widgets/base",
            "_view_module_version": "1.2.0",
            "_view_name": "StyleView",
            "description_width": ""
          }
        },
        "ff24f419aafd412b96db5b19a643141b": {
          "model_module": "@jupyter-widgets/base",
          "model_module_version": "1.2.0",
          "model_name": "LayoutModel",
          "state": {
            "_model_module": "@jupyter-widgets/base",
            "_model_module_version": "1.2.0",
            "_model_name": "LayoutModel",
            "_view_count": null,
            "_view_module": "@jupyter-widgets/base",
            "_view_module_version": "1.2.0",
            "_view_name": "LayoutView",
            "align_content": null,
            "align_items": null,
            "align_self": null,
            "border": null,
            "bottom": null,
            "display": null,
            "flex": null,
            "flex_flow": null,
            "grid_area": null,
            "grid_auto_columns": null,
            "grid_auto_flow": null,
            "grid_auto_rows": null,
            "grid_column": null,
            "grid_gap": null,
            "grid_row": null,
            "grid_template_areas": null,
            "grid_template_columns": null,
            "grid_template_rows": null,
            "height": null,
            "justify_content": null,
            "justify_items": null,
            "left": null,
            "margin": null,
            "max_height": null,
            "max_width": null,
            "min_height": null,
            "min_width": null,
            "object_fit": null,
            "object_position": null,
            "order": null,
            "overflow": null,
            "overflow_x": null,
            "overflow_y": null,
            "padding": null,
            "right": null,
            "top": null,
            "visibility": null,
            "width": null
          }
        }
      }
    }
  },
  "nbformat": 4,
  "nbformat_minor": 0
}
